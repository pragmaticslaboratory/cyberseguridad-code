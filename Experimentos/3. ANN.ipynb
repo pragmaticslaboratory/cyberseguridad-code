{
 "cells": [
  {
   "cell_type": "markdown",
   "metadata": {},
   "source": [
    "## ANN\n",
    "\n",
    "### Importar librerias generales"
   ]
  },
  {
   "cell_type": "code",
   "execution_count": 1,
   "metadata": {},
   "outputs": [],
   "source": [
    "import numpy as np\n",
    "import pandas as pd\n",
    "import scipy.stats as stats\n",
    "import matplotlib.pyplot as plt\n",
    "import sklearn\n",
    "import seaborn as sns\n",
    "%matplotlib inline "
   ]
  },
  {
   "cell_type": "code",
   "execution_count": 2,
   "metadata": {},
   "outputs": [],
   "source": [
    "from __future__ import absolute_import, division, print_function, unicode_literals\n",
    "\n",
    "import tensorflow as tf\n",
    "\n",
    "from tensorflow.keras import datasets, layers, models\n",
    "import matplotlib.pyplot as plt"
   ]
  },
  {
   "cell_type": "code",
   "execution_count": 3,
   "metadata": {},
   "outputs": [],
   "source": [
    "from sklearn.metrics import confusion_matrix, classification_report  "
   ]
  },
  {
   "cell_type": "markdown",
   "metadata": {},
   "source": [
    "#### Establecemos los path de los data set a utilizar"
   ]
  },
  {
   "cell_type": "code",
   "execution_count": 4,
   "metadata": {},
   "outputs": [],
   "source": [
    "### SE HARA USO DE DATASET BALANCEADO PARA EL TRABAJO DE LOS MODELOS\n",
    "path_dataset = \"data_cleaned_balanced.csv\"\n",
    "#### IGUALMENTE SE DEJA EL DATASET NO BALANCEADO POR SI DESEA HACER MÁS PRUEBAS, solo se debe cambiar el path\n",
    "path_dataset_NOBALANCEADO = \"Data_Base_NOBALANCEADO.csv\""
   ]
  },
  {
   "cell_type": "markdown",
   "metadata": {},
   "source": [
    "#### Leemos el archivo con los datos balanceados"
   ]
  },
  {
   "cell_type": "code",
   "execution_count": 5,
   "metadata": {},
   "outputs": [],
   "source": [
    "data = pd.read_csv(path_dataset)"
   ]
  },
  {
   "cell_type": "code",
   "execution_count": 6,
   "metadata": {
    "scrolled": true
   },
   "outputs": [
    {
     "data": {
      "text/html": [
       "<div>\n",
       "<style scoped>\n",
       "    .dataframe tbody tr th:only-of-type {\n",
       "        vertical-align: middle;\n",
       "    }\n",
       "\n",
       "    .dataframe tbody tr th {\n",
       "        vertical-align: top;\n",
       "    }\n",
       "\n",
       "    .dataframe thead th {\n",
       "        text-align: right;\n",
       "    }\n",
       "</style>\n",
       "<table border=\"1\" class=\"dataframe\">\n",
       "  <thead>\n",
       "    <tr style=\"text-align: right;\">\n",
       "      <th></th>\n",
       "      <th>Flow Duration</th>\n",
       "      <th>Tot Fwd Pkts</th>\n",
       "      <th>Tot Bwd Pkts</th>\n",
       "      <th>TotLen Fwd Pkts</th>\n",
       "      <th>TotLen Bwd Pkts</th>\n",
       "      <th>Fwd Pkt Len Min</th>\n",
       "      <th>Bwd Pkt Len Min</th>\n",
       "      <th>Fwd Pkt Len Max</th>\n",
       "      <th>Bwd Pkt Len Max</th>\n",
       "      <th>Fwd Pkt Len Mean</th>\n",
       "      <th>Bwd Pkt Len Mean</th>\n",
       "      <th>Fwd Pkt Len Std</th>\n",
       "      <th>Bwd Pkt Len Std</th>\n",
       "      <th>Flow Pkts/s</th>\n",
       "      <th>Flow Byts/s</th>\n",
       "      <th>Label</th>\n",
       "      <th>binaryLabel</th>\n",
       "      <th>benignoLabel</th>\n",
       "      <th>ransomwareLabel</th>\n",
       "    </tr>\n",
       "  </thead>\n",
       "  <tbody>\n",
       "    <tr>\n",
       "      <td>0</td>\n",
       "      <td>4220250</td>\n",
       "      <td>11</td>\n",
       "      <td>5</td>\n",
       "      <td>209</td>\n",
       "      <td>17581</td>\n",
       "      <td>605</td>\n",
       "      <td>-1.0</td>\n",
       "      <td>52</td>\n",
       "      <td>-1</td>\n",
       "      <td>52.0</td>\n",
       "      <td>0.0</td>\n",
       "      <td>1.0</td>\n",
       "      <td>0.0</td>\n",
       "      <td>7.938877</td>\n",
       "      <td>1343.257988</td>\n",
       "      <td>Ransomware</td>\n",
       "      <td>0</td>\n",
       "      <td>0</td>\n",
       "      <td>1</td>\n",
       "    </tr>\n",
       "    <tr>\n",
       "      <td>1</td>\n",
       "      <td>0</td>\n",
       "      <td>7</td>\n",
       "      <td>5</td>\n",
       "      <td>2415</td>\n",
       "      <td>16696</td>\n",
       "      <td>321</td>\n",
       "      <td>-1.0</td>\n",
       "      <td>52</td>\n",
       "      <td>-1</td>\n",
       "      <td>52.0</td>\n",
       "      <td>0.0</td>\n",
       "      <td>0.0</td>\n",
       "      <td>0.0</td>\n",
       "      <td>0.000000</td>\n",
       "      <td>0.000000</td>\n",
       "      <td>Ransomware</td>\n",
       "      <td>0</td>\n",
       "      <td>0</td>\n",
       "      <td>1</td>\n",
       "    </tr>\n",
       "    <tr>\n",
       "      <td>2</td>\n",
       "      <td>2</td>\n",
       "      <td>13</td>\n",
       "      <td>4</td>\n",
       "      <td>2264</td>\n",
       "      <td>8590</td>\n",
       "      <td>585</td>\n",
       "      <td>-1.0</td>\n",
       "      <td>40</td>\n",
       "      <td>-1</td>\n",
       "      <td>40.0</td>\n",
       "      <td>0.0</td>\n",
       "      <td>1.0</td>\n",
       "      <td>0.0</td>\n",
       "      <td>0.259702</td>\n",
       "      <td>109.334732</td>\n",
       "      <td>Ransomware</td>\n",
       "      <td>0</td>\n",
       "      <td>0</td>\n",
       "      <td>1</td>\n",
       "    </tr>\n",
       "    <tr>\n",
       "      <td>3</td>\n",
       "      <td>0</td>\n",
       "      <td>22</td>\n",
       "      <td>1</td>\n",
       "      <td>255</td>\n",
       "      <td>21137</td>\n",
       "      <td>293</td>\n",
       "      <td>-1.0</td>\n",
       "      <td>83</td>\n",
       "      <td>-1</td>\n",
       "      <td>83.0</td>\n",
       "      <td>0.0</td>\n",
       "      <td>0.0</td>\n",
       "      <td>0.0</td>\n",
       "      <td>50.404073</td>\n",
       "      <td>18359.851480</td>\n",
       "      <td>Ransomware</td>\n",
       "      <td>0</td>\n",
       "      <td>0</td>\n",
       "      <td>1</td>\n",
       "    </tr>\n",
       "    <tr>\n",
       "      <td>4</td>\n",
       "      <td>0</td>\n",
       "      <td>1</td>\n",
       "      <td>0</td>\n",
       "      <td>420</td>\n",
       "      <td>0</td>\n",
       "      <td>420</td>\n",
       "      <td>-1.0</td>\n",
       "      <td>420</td>\n",
       "      <td>-1</td>\n",
       "      <td>420.0</td>\n",
       "      <td>0.0</td>\n",
       "      <td>0.0</td>\n",
       "      <td>0.0</td>\n",
       "      <td>0.000000</td>\n",
       "      <td>0.000000</td>\n",
       "      <td>Benigno</td>\n",
       "      <td>1</td>\n",
       "      <td>1</td>\n",
       "      <td>0</td>\n",
       "    </tr>\n",
       "  </tbody>\n",
       "</table>\n",
       "</div>"
      ],
      "text/plain": [
       "   Flow Duration  Tot Fwd Pkts  Tot Bwd Pkts  TotLen Fwd Pkts  \\\n",
       "0        4220250            11             5              209   \n",
       "1              0             7             5             2415   \n",
       "2              2            13             4             2264   \n",
       "3              0            22             1              255   \n",
       "4              0             1             0              420   \n",
       "\n",
       "   TotLen Bwd Pkts  Fwd Pkt Len Min  Bwd Pkt Len Min  Fwd Pkt Len Max  \\\n",
       "0            17581              605             -1.0               52   \n",
       "1            16696              321             -1.0               52   \n",
       "2             8590              585             -1.0               40   \n",
       "3            21137              293             -1.0               83   \n",
       "4                0              420             -1.0              420   \n",
       "\n",
       "   Bwd Pkt Len Max  Fwd Pkt Len Mean  Bwd Pkt Len Mean  Fwd Pkt Len Std  \\\n",
       "0               -1              52.0               0.0              1.0   \n",
       "1               -1              52.0               0.0              0.0   \n",
       "2               -1              40.0               0.0              1.0   \n",
       "3               -1              83.0               0.0              0.0   \n",
       "4               -1             420.0               0.0              0.0   \n",
       "\n",
       "   Bwd Pkt Len Std  Flow Pkts/s   Flow Byts/s       Label  binaryLabel  \\\n",
       "0              0.0     7.938877   1343.257988  Ransomware            0   \n",
       "1              0.0     0.000000      0.000000  Ransomware            0   \n",
       "2              0.0     0.259702    109.334732  Ransomware            0   \n",
       "3              0.0    50.404073  18359.851480  Ransomware            0   \n",
       "4              0.0     0.000000      0.000000     Benigno            1   \n",
       "\n",
       "   benignoLabel  ransomwareLabel  \n",
       "0             0                1  \n",
       "1             0                1  \n",
       "2             0                1  \n",
       "3             0                1  \n",
       "4             1                0  "
      ]
     },
     "execution_count": 6,
     "metadata": {},
     "output_type": "execute_result"
    }
   ],
   "source": [
    "data.head()"
   ]
  },
  {
   "cell_type": "code",
   "execution_count": 7,
   "metadata": {},
   "outputs": [
    {
     "data": {
      "text/plain": [
       "Index(['Flow Duration', 'Tot Fwd Pkts', 'Tot Bwd Pkts', 'TotLen Fwd Pkts',\n",
       "       'TotLen Bwd Pkts', 'Fwd Pkt Len Min', 'Bwd Pkt Len Min',\n",
       "       'Fwd Pkt Len Max', 'Bwd Pkt Len Max', 'Fwd Pkt Len Mean',\n",
       "       'Bwd Pkt Len Mean', 'Fwd Pkt Len Std', 'Bwd Pkt Len Std', 'Flow Pkts/s',\n",
       "       'Flow Byts/s', 'Label', 'binaryLabel', 'benignoLabel',\n",
       "       'ransomwareLabel'],\n",
       "      dtype='object')"
      ]
     },
     "execution_count": 7,
     "metadata": {},
     "output_type": "execute_result"
    }
   ],
   "source": [
    "data.columns"
   ]
  },
  {
   "cell_type": "markdown",
   "metadata": {},
   "source": [
    "##### Establecemos cuales seran las columnas que seran utilizadas como labels y cuales seran la data para los modelos"
   ]
  },
  {
   "cell_type": "code",
   "execution_count": 8,
   "metadata": {},
   "outputs": [],
   "source": [
    "columns_label = ['binaryLabel','benignoLabel','ransomwareLabel']\n",
    "columns_data = ['Flow Duration', 'Tot Fwd Pkts', 'Tot Bwd Pkts', 'TotLen Fwd Pkts',\n",
    "       'TotLen Bwd Pkts', 'Fwd Pkt Len Min', 'Bwd Pkt Len Min',\n",
    "       'Fwd Pkt Len Max', 'Bwd Pkt Len Max', 'Fwd Pkt Len Mean',\n",
    "       'Bwd Pkt Len Mean', 'Fwd Pkt Len Std', 'Bwd Pkt Len Std', 'Flow Pkts/s',\n",
    "       'Flow Byts/s']"
   ]
  },
  {
   "cell_type": "markdown",
   "metadata": {},
   "source": [
    "##### Separamos los valores que utilizaremos para los datos de entradas (Todas las columnas de datos) y los datos de salida (los labels)"
   ]
  },
  {
   "cell_type": "code",
   "execution_count": 9,
   "metadata": {},
   "outputs": [],
   "source": [
    "dataX = data[columns_data].copy()\n",
    "dataY = data[columns_label].copy()"
   ]
  },
  {
   "cell_type": "code",
   "execution_count": 10,
   "metadata": {},
   "outputs": [
    {
     "data": {
      "text/html": [
       "<div>\n",
       "<style scoped>\n",
       "    .dataframe tbody tr th:only-of-type {\n",
       "        vertical-align: middle;\n",
       "    }\n",
       "\n",
       "    .dataframe tbody tr th {\n",
       "        vertical-align: top;\n",
       "    }\n",
       "\n",
       "    .dataframe thead th {\n",
       "        text-align: right;\n",
       "    }\n",
       "</style>\n",
       "<table border=\"1\" class=\"dataframe\">\n",
       "  <thead>\n",
       "    <tr style=\"text-align: right;\">\n",
       "      <th></th>\n",
       "      <th>Flow Duration</th>\n",
       "      <th>Tot Fwd Pkts</th>\n",
       "      <th>Tot Bwd Pkts</th>\n",
       "      <th>TotLen Fwd Pkts</th>\n",
       "      <th>TotLen Bwd Pkts</th>\n",
       "      <th>Fwd Pkt Len Min</th>\n",
       "      <th>Bwd Pkt Len Min</th>\n",
       "      <th>Fwd Pkt Len Max</th>\n",
       "      <th>Bwd Pkt Len Max</th>\n",
       "      <th>Fwd Pkt Len Mean</th>\n",
       "      <th>Bwd Pkt Len Mean</th>\n",
       "      <th>Fwd Pkt Len Std</th>\n",
       "      <th>Bwd Pkt Len Std</th>\n",
       "      <th>Flow Pkts/s</th>\n",
       "      <th>Flow Byts/s</th>\n",
       "    </tr>\n",
       "  </thead>\n",
       "  <tbody>\n",
       "    <tr>\n",
       "      <td>0</td>\n",
       "      <td>4220250</td>\n",
       "      <td>11</td>\n",
       "      <td>5</td>\n",
       "      <td>209</td>\n",
       "      <td>17581</td>\n",
       "      <td>605</td>\n",
       "      <td>-1.0</td>\n",
       "      <td>52</td>\n",
       "      <td>-1</td>\n",
       "      <td>52.0</td>\n",
       "      <td>0.0</td>\n",
       "      <td>1.0</td>\n",
       "      <td>0.0</td>\n",
       "      <td>7.938877</td>\n",
       "      <td>1343.257988</td>\n",
       "    </tr>\n",
       "    <tr>\n",
       "      <td>1</td>\n",
       "      <td>0</td>\n",
       "      <td>7</td>\n",
       "      <td>5</td>\n",
       "      <td>2415</td>\n",
       "      <td>16696</td>\n",
       "      <td>321</td>\n",
       "      <td>-1.0</td>\n",
       "      <td>52</td>\n",
       "      <td>-1</td>\n",
       "      <td>52.0</td>\n",
       "      <td>0.0</td>\n",
       "      <td>0.0</td>\n",
       "      <td>0.0</td>\n",
       "      <td>0.000000</td>\n",
       "      <td>0.000000</td>\n",
       "    </tr>\n",
       "    <tr>\n",
       "      <td>2</td>\n",
       "      <td>2</td>\n",
       "      <td>13</td>\n",
       "      <td>4</td>\n",
       "      <td>2264</td>\n",
       "      <td>8590</td>\n",
       "      <td>585</td>\n",
       "      <td>-1.0</td>\n",
       "      <td>40</td>\n",
       "      <td>-1</td>\n",
       "      <td>40.0</td>\n",
       "      <td>0.0</td>\n",
       "      <td>1.0</td>\n",
       "      <td>0.0</td>\n",
       "      <td>0.259702</td>\n",
       "      <td>109.334732</td>\n",
       "    </tr>\n",
       "    <tr>\n",
       "      <td>3</td>\n",
       "      <td>0</td>\n",
       "      <td>22</td>\n",
       "      <td>1</td>\n",
       "      <td>255</td>\n",
       "      <td>21137</td>\n",
       "      <td>293</td>\n",
       "      <td>-1.0</td>\n",
       "      <td>83</td>\n",
       "      <td>-1</td>\n",
       "      <td>83.0</td>\n",
       "      <td>0.0</td>\n",
       "      <td>0.0</td>\n",
       "      <td>0.0</td>\n",
       "      <td>50.404073</td>\n",
       "      <td>18359.851480</td>\n",
       "    </tr>\n",
       "    <tr>\n",
       "      <td>4</td>\n",
       "      <td>0</td>\n",
       "      <td>1</td>\n",
       "      <td>0</td>\n",
       "      <td>420</td>\n",
       "      <td>0</td>\n",
       "      <td>420</td>\n",
       "      <td>-1.0</td>\n",
       "      <td>420</td>\n",
       "      <td>-1</td>\n",
       "      <td>420.0</td>\n",
       "      <td>0.0</td>\n",
       "      <td>0.0</td>\n",
       "      <td>0.0</td>\n",
       "      <td>0.000000</td>\n",
       "      <td>0.000000</td>\n",
       "    </tr>\n",
       "  </tbody>\n",
       "</table>\n",
       "</div>"
      ],
      "text/plain": [
       "   Flow Duration  Tot Fwd Pkts  Tot Bwd Pkts  TotLen Fwd Pkts  \\\n",
       "0        4220250            11             5              209   \n",
       "1              0             7             5             2415   \n",
       "2              2            13             4             2264   \n",
       "3              0            22             1              255   \n",
       "4              0             1             0              420   \n",
       "\n",
       "   TotLen Bwd Pkts  Fwd Pkt Len Min  Bwd Pkt Len Min  Fwd Pkt Len Max  \\\n",
       "0            17581              605             -1.0               52   \n",
       "1            16696              321             -1.0               52   \n",
       "2             8590              585             -1.0               40   \n",
       "3            21137              293             -1.0               83   \n",
       "4                0              420             -1.0              420   \n",
       "\n",
       "   Bwd Pkt Len Max  Fwd Pkt Len Mean  Bwd Pkt Len Mean  Fwd Pkt Len Std  \\\n",
       "0               -1              52.0               0.0              1.0   \n",
       "1               -1              52.0               0.0              0.0   \n",
       "2               -1              40.0               0.0              1.0   \n",
       "3               -1              83.0               0.0              0.0   \n",
       "4               -1             420.0               0.0              0.0   \n",
       "\n",
       "   Bwd Pkt Len Std  Flow Pkts/s   Flow Byts/s  \n",
       "0              0.0     7.938877   1343.257988  \n",
       "1              0.0     0.000000      0.000000  \n",
       "2              0.0     0.259702    109.334732  \n",
       "3              0.0    50.404073  18359.851480  \n",
       "4              0.0     0.000000      0.000000  "
      ]
     },
     "execution_count": 10,
     "metadata": {},
     "output_type": "execute_result"
    }
   ],
   "source": [
    "dataX.head()"
   ]
  },
  {
   "cell_type": "code",
   "execution_count": 11,
   "metadata": {},
   "outputs": [
    {
     "data": {
      "text/html": [
       "<div>\n",
       "<style scoped>\n",
       "    .dataframe tbody tr th:only-of-type {\n",
       "        vertical-align: middle;\n",
       "    }\n",
       "\n",
       "    .dataframe tbody tr th {\n",
       "        vertical-align: top;\n",
       "    }\n",
       "\n",
       "    .dataframe thead th {\n",
       "        text-align: right;\n",
       "    }\n",
       "</style>\n",
       "<table border=\"1\" class=\"dataframe\">\n",
       "  <thead>\n",
       "    <tr style=\"text-align: right;\">\n",
       "      <th></th>\n",
       "      <th>binaryLabel</th>\n",
       "      <th>benignoLabel</th>\n",
       "      <th>ransomwareLabel</th>\n",
       "    </tr>\n",
       "  </thead>\n",
       "  <tbody>\n",
       "    <tr>\n",
       "      <td>0</td>\n",
       "      <td>0</td>\n",
       "      <td>0</td>\n",
       "      <td>1</td>\n",
       "    </tr>\n",
       "    <tr>\n",
       "      <td>1</td>\n",
       "      <td>0</td>\n",
       "      <td>0</td>\n",
       "      <td>1</td>\n",
       "    </tr>\n",
       "    <tr>\n",
       "      <td>2</td>\n",
       "      <td>0</td>\n",
       "      <td>0</td>\n",
       "      <td>1</td>\n",
       "    </tr>\n",
       "    <tr>\n",
       "      <td>3</td>\n",
       "      <td>0</td>\n",
       "      <td>0</td>\n",
       "      <td>1</td>\n",
       "    </tr>\n",
       "    <tr>\n",
       "      <td>4</td>\n",
       "      <td>1</td>\n",
       "      <td>1</td>\n",
       "      <td>0</td>\n",
       "    </tr>\n",
       "  </tbody>\n",
       "</table>\n",
       "</div>"
      ],
      "text/plain": [
       "   binaryLabel  benignoLabel  ransomwareLabel\n",
       "0            0             0                1\n",
       "1            0             0                1\n",
       "2            0             0                1\n",
       "3            0             0                1\n",
       "4            1             1                0"
      ]
     },
     "execution_count": 11,
     "metadata": {},
     "output_type": "execute_result"
    }
   ],
   "source": [
    "dataY.head()"
   ]
  },
  {
   "cell_type": "markdown",
   "metadata": {},
   "source": [
    "#### GENERAMOS LOS DATOS DE ENTRENAMIENTO,TESTING Y VALIDACIÓN\n",
    "\n",
    "\n",
    "#### Establecemos que las proporciones serán:\n",
    "###### - ENTRENAMIENTO =  70%\n",
    "###### - TESTING = 20%\n",
    "###### - VALIDACION  = 10% "
   ]
  },
  {
   "cell_type": "code",
   "execution_count": 12,
   "metadata": {},
   "outputs": [],
   "source": [
    "from sklearn.model_selection import train_test_split"
   ]
  },
  {
   "cell_type": "code",
   "execution_count": 13,
   "metadata": {},
   "outputs": [],
   "source": [
    "train_ratio = 0.7\n",
    "test_ratio = 0.2\n",
    "validation_ratio = 0.1\n",
    "semilla = 101"
   ]
  },
  {
   "cell_type": "code",
   "execution_count": 14,
   "metadata": {},
   "outputs": [],
   "source": [
    "X_train, X_test, y_train, y_test = train_test_split(dataX, dataY, test_size=test_ratio, random_state=semilla)"
   ]
  },
  {
   "cell_type": "code",
   "execution_count": 15,
   "metadata": {},
   "outputs": [],
   "source": [
    "X_train, X_val, y_train, y_val = train_test_split(X_train, y_train, test_size=validation_ratio/(validation_ratio + train_ratio), random_state=semilla)"
   ]
  },
  {
   "cell_type": "markdown",
   "metadata": {},
   "source": [
    "##### Verificamos las separación de los datos"
   ]
  },
  {
   "cell_type": "code",
   "execution_count": 16,
   "metadata": {},
   "outputs": [
    {
     "name": "stdout",
     "output_type": "stream",
     "text": [
      "Train 0.6999919880354663%\n",
      "Test 0.20000534130968914%\n",
      "Validation 0.10000267065484457%\n"
     ]
    }
   ],
   "source": [
    "print('Train ' + str(X_train.shape[0]/dataX.shape[0]) + '%')\n",
    "print('Test ' + str(X_test.shape[0]/dataX.shape[0]) + '%')\n",
    "print('Validation ' + str(X_val.shape[0]/dataX.shape[0])+ '%')"
   ]
  },
  {
   "cell_type": "markdown",
   "metadata": {},
   "source": [
    "#### Las dimensiones de cada una de las separaciones de datos"
   ]
  },
  {
   "cell_type": "code",
   "execution_count": 17,
   "metadata": {},
   "outputs": [
    {
     "name": "stdout",
     "output_type": "stream",
     "text": [
      "Data TRAIN:  (104842, 15) - Label TRAIN:  (104842, 3)\n",
      "Data TEST:  (29956, 15) - Label TEST:  (29956, 3)\n",
      "Data VALIDATION:  (14978, 15) - Label VALIDATION:  (14978, 3)\n"
     ]
    }
   ],
   "source": [
    "print('Data TRAIN: ', X_train.shape,'-', 'Label TRAIN: ' , y_train.shape)\n",
    "print('Data TEST: ', X_test.shape,'-', 'Label TEST: ' , y_test.shape)\n",
    "print('Data VALIDATION: ', X_val.shape,'-', 'Label VALIDATION: ' , y_val.shape)"
   ]
  },
  {
   "cell_type": "markdown",
   "metadata": {},
   "source": [
    "### Una vez listo lo anterior, comenzamos con el modelo ANN\n",
    "\n",
    "#### Cabe señalar que se realizar 2 modelos, uno utilizará la función de perdida \"SparseCategoricalCrossentropy\" y la otra \"BinaryCrossentropy\"\n",
    "\n",
    "***\n",
    "1. SparseCategoricalCrossentropy → Para modelos de 2 o más clases de labels, deben ser enteros.(Por eso tienen que ser 0 y 1)\n",
    "    1. Debe recibir como label un vector columna → Example : [0]\n",
    "2. BinaryCrossentropy → Para modelos de 2 clases de label. (Por eso tienen que ser 0 y 1)\n",
    "    1. Debe recibir como label un array2D → Example : [0 , 1]"
   ]
  },
  {
   "cell_type": "markdown",
   "metadata": {},
   "source": [
    "### ANN - SparseCategoricalCrossentropy"
   ]
  },
  {
   "cell_type": "code",
   "execution_count": 32,
   "metadata": {},
   "outputs": [],
   "source": [
    "modelANN_scc = tf.keras.models.Sequential()"
   ]
  },
  {
   "cell_type": "code",
   "execution_count": 33,
   "metadata": {},
   "outputs": [],
   "source": [
    "# Primera capa con dimensiones de entrada iguales al data\n",
    "modelANN_scc.add(tf.keras.layers.Dense(units = 15, activation = 'relu', input_shape = (X_train.shape[1],)))\n",
    "modelANN_scc.add(tf.keras.layers.Dropout(0.2))\n",
    "modelANN_scc.add(tf.keras.layers.Dense(units = 30, activation = 'relu'))\n",
    "modelANN_scc.add(tf.keras.layers.Dense(units = 64, activation = 'relu'))\n",
    "modelANN_scc.add(tf.keras.layers.Dropout(0.2))\n",
    "modelANN_scc.add(tf.keras.layers.Dense(units = 32, activation = 'relu'))\n",
    "modelANN_scc.add(tf.keras.layers.Dense(units = 16, activation = 'relu'))\n",
    "modelANN_scc.add(tf.keras.layers.Dropout(0.2))\n",
    "modelANN_scc.add(tf.keras.layers.Dense(units = 8, activation = 'relu'))\n",
    "modelANN_scc.add(tf.keras.layers.Dense(units = 2, activation = 'softmax'))"
   ]
  },
  {
   "cell_type": "code",
   "execution_count": 34,
   "metadata": {},
   "outputs": [
    {
     "name": "stdout",
     "output_type": "stream",
     "text": [
      "Model: \"sequential_1\"\n",
      "_________________________________________________________________\n",
      "Layer (type)                 Output Shape              Param #   \n",
      "=================================================================\n",
      "dense_7 (Dense)              (None, 15)                240       \n",
      "_________________________________________________________________\n",
      "dropout_3 (Dropout)          (None, 15)                0         \n",
      "_________________________________________________________________\n",
      "dense_8 (Dense)              (None, 30)                480       \n",
      "_________________________________________________________________\n",
      "dense_9 (Dense)              (None, 64)                1984      \n",
      "_________________________________________________________________\n",
      "dropout_4 (Dropout)          (None, 64)                0         \n",
      "_________________________________________________________________\n",
      "dense_10 (Dense)             (None, 32)                2080      \n",
      "_________________________________________________________________\n",
      "dense_11 (Dense)             (None, 16)                528       \n",
      "_________________________________________________________________\n",
      "dropout_5 (Dropout)          (None, 16)                0         \n",
      "_________________________________________________________________\n",
      "dense_12 (Dense)             (None, 8)                 136       \n",
      "_________________________________________________________________\n",
      "dense_13 (Dense)             (None, 2)                 18        \n",
      "=================================================================\n",
      "Total params: 5,466\n",
      "Trainable params: 5,466\n",
      "Non-trainable params: 0\n",
      "_________________________________________________________________\n"
     ]
    }
   ],
   "source": [
    "modelANN_scc.summary()"
   ]
  },
  {
   "cell_type": "code",
   "execution_count": 35,
   "metadata": {},
   "outputs": [],
   "source": [
    "modelANN_scc.compile(optimizer = 'adam', loss = 'sparse_categorical_crossentropy', metrics = ['sparse_categorical_accuracy'])"
   ]
  },
  {
   "cell_type": "code",
   "execution_count": 36,
   "metadata": {},
   "outputs": [
    {
     "name": "stdout",
     "output_type": "stream",
     "text": [
      "Train on 104842 samples, validate on 14978 samples\n",
      "Epoch 1/10\n",
      "104842/104842 [==============================] - 6s 55us/sample - loss: 6841.3073 - sparse_categorical_accuracy: 0.5033 - val_loss: 0.6938 - val_sparse_categorical_accuracy: 0.4927\n",
      "Epoch 2/10\n",
      "104842/104842 [==============================] - 5s 51us/sample - loss: 84.5889 - sparse_categorical_accuracy: 0.5182 - val_loss: 0.6352 - val_sparse_categorical_accuracy: 0.6712\n",
      "Epoch 3/10\n",
      "104842/104842 [==============================] - 6s 56us/sample - loss: 1.7180 - sparse_categorical_accuracy: 0.6437 - val_loss: 0.5571 - val_sparse_categorical_accuracy: 0.6714\n",
      "Epoch 4/10\n",
      "104842/104842 [==============================] - 6s 57us/sample - loss: 0.5614 - sparse_categorical_accuracy: 0.6739 - val_loss: 0.5558 - val_sparse_categorical_accuracy: 0.6715\n",
      "Epoch 5/10\n",
      "104842/104842 [==============================] - 6s 56us/sample - loss: 1.4719 - sparse_categorical_accuracy: 0.6745 - val_loss: 0.5548 - val_sparse_categorical_accuracy: 0.6721\n",
      "Epoch 6/10\n",
      "104842/104842 [==============================] - 6s 56us/sample - loss: 0.5574 - sparse_categorical_accuracy: 0.6747 - val_loss: 0.5548 - val_sparse_categorical_accuracy: 0.6721\n",
      "Epoch 7/10\n",
      "104842/104842 [==============================] - 6s 54us/sample - loss: 0.5565 - sparse_categorical_accuracy: 0.6750 - val_loss: 0.5542 - val_sparse_categorical_accuracy: 0.6721\n",
      "Epoch 8/10\n",
      "104842/104842 [==============================] - 6s 59us/sample - loss: 0.5589 - sparse_categorical_accuracy: 0.6726 - val_loss: 0.5545 - val_sparse_categorical_accuracy: 0.6723\n",
      "Epoch 9/10\n",
      "104842/104842 [==============================] - 6s 54us/sample - loss: 0.5568 - sparse_categorical_accuracy: 0.6752 - val_loss: 0.5550 - val_sparse_categorical_accuracy: 0.6721\n",
      "Epoch 10/10\n",
      "104842/104842 [==============================] - 6s 55us/sample - loss: 0.5555 - sparse_categorical_accuracy: 0.6754 - val_loss: 0.5547 - val_sparse_categorical_accuracy: 0.6725\n"
     ]
    }
   ],
   "source": [
    "historyANN_scc = modelANN_scc.fit(X_train, y_train['binaryLabel'], epochs =10,validation_data=(X_val, y_val['binaryLabel']),shuffle=True)"
   ]
  },
  {
   "cell_type": "code",
   "execution_count": 37,
   "metadata": {},
   "outputs": [
    {
     "name": "stdout",
     "output_type": "stream",
     "text": [
      "29956/29956 [==============================] - 0s 17us/sample - loss: 0.5525 - sparse_categorical_accuracy: 0.6788\n"
     ]
    }
   ],
   "source": [
    "test_lossANN_scc, test_accuracyANN_scc = modelANN_scc.evaluate(X_test, y_test['binaryLabel'])"
   ]
  },
  {
   "cell_type": "code",
   "execution_count": 38,
   "metadata": {},
   "outputs": [
    {
     "name": "stdout",
     "output_type": "stream",
     "text": [
      "PRECISIÓN:  0.5524908467134371\n",
      "LOSS:  0.67882895\n"
     ]
    }
   ],
   "source": [
    "print(\"PRECISIÓN: \",test_lossANN_scc)\n",
    "print(\"LOSS: \", test_accuracyANN_scc)"
   ]
  },
  {
   "cell_type": "markdown",
   "metadata": {},
   "source": [
    "#### Realizamos las predicciones con los datos de testeo"
   ]
  },
  {
   "cell_type": "code",
   "execution_count": 39,
   "metadata": {},
   "outputs": [],
   "source": [
    "predictions_scc = modelANN_scc.predict(X_test)"
   ]
  },
  {
   "cell_type": "code",
   "execution_count": 40,
   "metadata": {},
   "outputs": [
    {
     "data": {
      "text/plain": [
       "array([[0.6112999 , 0.38870016],\n",
       "       [0.6112999 , 0.38870016],\n",
       "       [0.6112999 , 0.38870016],\n",
       "       ...,\n",
       "       [0.6112999 , 0.38870016],\n",
       "       [0.6112999 , 0.38870016],\n",
       "       [0.6112999 , 0.38870016]], dtype=float32)"
      ]
     },
     "execution_count": 40,
     "metadata": {},
     "output_type": "execute_result"
    }
   ],
   "source": [
    "predictions_scc"
   ]
  },
  {
   "cell_type": "code",
   "execution_count": 41,
   "metadata": {},
   "outputs": [],
   "source": [
    "predictions_scc_argmax = np.argmax(predictions_scc, axis=1)"
   ]
  },
  {
   "cell_type": "markdown",
   "metadata": {},
   "source": [
    "#### Aplicamos el reporte de clasificación y matriz de confusión"
   ]
  },
  {
   "cell_type": "code",
   "execution_count": 42,
   "metadata": {},
   "outputs": [
    {
     "name": "stdout",
     "output_type": "stream",
     "text": [
      "              precision    recall  f1-score   support\n",
      "\n",
      "           0       0.61      1.00      0.76     15005\n",
      "           1       1.00      0.36      0.53     14951\n",
      "\n",
      "    accuracy                           0.68     29956\n",
      "   macro avg       0.80      0.68      0.64     29956\n",
      "weighted avg       0.80      0.68      0.64     29956\n",
      "\n"
     ]
    }
   ],
   "source": [
    "scnn_report_scc = classification_report(y_test['binaryLabel'], predictions_scc_argmax)  \n",
    "print(scnn_report_scc)"
   ]
  },
  {
   "cell_type": "code",
   "execution_count": 43,
   "metadata": {
    "scrolled": true
   },
   "outputs": [
    {
     "name": "stdout",
     "output_type": "stream",
     "text": [
      "[[14998     7]\n",
      " [ 9614  5337]]\n"
     ]
    }
   ],
   "source": [
    "scnn_cm_scc = confusion_matrix(y_test['binaryLabel'], predictions_scc_argmax)\n",
    "print(scnn_cm_scc)"
   ]
  },
  {
   "cell_type": "markdown",
   "metadata": {},
   "source": [
    "### CNN - BinaryCrossentropy"
   ]
  },
  {
   "cell_type": "code",
   "execution_count": 81,
   "metadata": {},
   "outputs": [],
   "source": [
    "modelANN_bc = tf.keras.models.Sequential()"
   ]
  },
  {
   "cell_type": "code",
   "execution_count": 82,
   "metadata": {},
   "outputs": [],
   "source": [
    "# Primera capa con dimensiones de entrada iguales al data\n",
    "modelANN_bc.add(tf.keras.layers.Dense(units = 15, activation = 'relu', input_shape = (X_train.shape[1],)))\n",
    "modelANN_bc.add(tf.keras.layers.Dropout(0.5))\n",
    "modelANN_bc.add(tf.keras.layers.Dense(units = 32, activation = 'relu'))\n",
    "modelANN_bc.add(tf.keras.layers.Dense(units = 64, activation = 'relu'))\n",
    "modelANN_bc.add(tf.keras.layers.Dropout(0.2))\n",
    "modelANN_bc.add(tf.keras.layers.Dense(units = 30, activation = 'relu'))\n",
    "modelANN_bc.add(tf.keras.layers.Dense(units = 10, activation = 'relu'))\n",
    "modelANN_bc.add(tf.keras.layers.Dropout(0.2))\n",
    "modelANN_bc.add(tf.keras.layers.Dense(units = 8, activation = 'relu'))\n",
    "modelANN_bc.add(tf.keras.layers.Dense(units = 2, activation = 'softmax'))"
   ]
  },
  {
   "cell_type": "code",
   "execution_count": 83,
   "metadata": {},
   "outputs": [
    {
     "name": "stdout",
     "output_type": "stream",
     "text": [
      "Model: \"sequential_5\"\n",
      "_________________________________________________________________\n",
      "Layer (type)                 Output Shape              Param #   \n",
      "=================================================================\n",
      "dense_35 (Dense)             (None, 15)                240       \n",
      "_________________________________________________________________\n",
      "dropout_15 (Dropout)         (None, 15)                0         \n",
      "_________________________________________________________________\n",
      "dense_36 (Dense)             (None, 32)                512       \n",
      "_________________________________________________________________\n",
      "dense_37 (Dense)             (None, 64)                2112      \n",
      "_________________________________________________________________\n",
      "dropout_16 (Dropout)         (None, 64)                0         \n",
      "_________________________________________________________________\n",
      "dense_38 (Dense)             (None, 30)                1950      \n",
      "_________________________________________________________________\n",
      "dense_39 (Dense)             (None, 10)                310       \n",
      "_________________________________________________________________\n",
      "dropout_17 (Dropout)         (None, 10)                0         \n",
      "_________________________________________________________________\n",
      "dense_40 (Dense)             (None, 8)                 88        \n",
      "_________________________________________________________________\n",
      "dense_41 (Dense)             (None, 2)                 18        \n",
      "=================================================================\n",
      "Total params: 5,230\n",
      "Trainable params: 5,230\n",
      "Non-trainable params: 0\n",
      "_________________________________________________________________\n"
     ]
    }
   ],
   "source": [
    "modelANN_bc.summary()"
   ]
  },
  {
   "cell_type": "code",
   "execution_count": 84,
   "metadata": {},
   "outputs": [],
   "source": [
    "modelANN_bc.compile(optimizer = 'adam', loss = 'binary_crossentropy', metrics = ['accuracy'])"
   ]
  },
  {
   "cell_type": "code",
   "execution_count": 85,
   "metadata": {
    "collapsed": true
   },
   "outputs": [
    {
     "name": "stdout",
     "output_type": "stream",
     "text": [
      "Train on 104842 samples, validate on 14978 samples\n",
      "Epoch 1/10\n",
      "104842/104842 [==============================] - 7s 63us/sample - loss: 1.9269 - accuracy: 0.5464 - val_loss: 0.5660 - val_accuracy: 0.6711\n",
      "Epoch 2/10\n",
      "104842/104842 [==============================] - 6s 60us/sample - loss: 1.3321 - accuracy: 0.6480 - val_loss: 0.5609 - val_accuracy: 0.6712\n",
      "Epoch 3/10\n",
      "104842/104842 [==============================] - 7s 63us/sample - loss: 0.8628 - accuracy: 0.6599 - val_loss: 0.5580 - val_accuracy: 0.6717\n",
      "Epoch 4/10\n",
      "104842/104842 [==============================] - 7s 66us/sample - loss: 0.7348 - accuracy: 0.6608 - val_loss: 0.5599 - val_accuracy: 0.6718\n",
      "Epoch 5/10\n",
      "104842/104842 [==============================] - 7s 65us/sample - loss: 0.6536 - accuracy: 0.6622 - val_loss: 0.5547 - val_accuracy: 0.6721\n",
      "Epoch 6/10\n",
      "104842/104842 [==============================] - 7s 66us/sample - loss: 0.6331 - accuracy: 0.6644 - val_loss: 0.5526 - val_accuracy: 0.6767\n",
      "Epoch 7/10\n",
      "104842/104842 [==============================] - 7s 64us/sample - loss: 0.5930 - accuracy: 0.6643 - val_loss: 0.5523 - val_accuracy: 0.6767\n",
      "Epoch 8/10\n",
      "104842/104842 [==============================] - 7s 65us/sample - loss: 0.5919 - accuracy: 0.6670 - val_loss: 0.5506 - val_accuracy: 0.6770\n",
      "Epoch 9/10\n",
      "104842/104842 [==============================] - 7s 68us/sample - loss: 0.5900 - accuracy: 0.6689 - val_loss: 0.5500 - val_accuracy: 0.6773\n",
      "Epoch 10/10\n",
      "104842/104842 [==============================] - 7s 66us/sample - loss: 0.5849 - accuracy: 0.6706 - val_loss: 0.5509 - val_accuracy: 0.6771\n"
     ]
    }
   ],
   "source": [
    "historyANN_bc = modelANN_bc.fit(X_train, y_train[['benignoLabel','ransomwareLabel']], epochs =10,validation_data=(X_val, y_val[['benignoLabel','ransomwareLabel']]))"
   ]
  },
  {
   "cell_type": "code",
   "execution_count": 86,
   "metadata": {},
   "outputs": [
    {
     "name": "stdout",
     "output_type": "stream",
     "text": [
      "29956/29956 [==============================] - 1s 17us/sample - loss: 0.5480 - accuracy: 0.6839\n"
     ]
    }
   ],
   "source": [
    "test_loss, test_acc = modelANN_bc.evaluate(X_test, y_test[['benignoLabel','ransomwareLabel']])"
   ]
  },
  {
   "cell_type": "code",
   "execution_count": 87,
   "metadata": {},
   "outputs": [
    {
     "name": "stdout",
     "output_type": "stream",
     "text": [
      "PRECISIÓN:  0.6839364\n",
      "LOSS:  0.5479563238950578\n"
     ]
    }
   ],
   "source": [
    "print(\"PRECISIÓN: \",test_acc)\n",
    "print(\"LOSS: \", test_loss)"
   ]
  },
  {
   "cell_type": "markdown",
   "metadata": {},
   "source": [
    "#### Realizamos las predicciones con los datos de testeo"
   ]
  },
  {
   "cell_type": "code",
   "execution_count": 88,
   "metadata": {},
   "outputs": [],
   "source": [
    "predictions_bc = modelANN_bc.predict(X_test)"
   ]
  },
  {
   "cell_type": "code",
   "execution_count": 89,
   "metadata": {},
   "outputs": [
    {
     "data": {
      "text/plain": [
       "array([[0.38990924, 0.61009073],\n",
       "       [0.38990924, 0.61009073],\n",
       "       [0.38990924, 0.61009073],\n",
       "       ...,\n",
       "       [0.38990924, 0.61009073],\n",
       "       [0.38990924, 0.61009073],\n",
       "       [0.38990924, 0.61009073]], dtype=float32)"
      ]
     },
     "execution_count": 89,
     "metadata": {},
     "output_type": "execute_result"
    }
   ],
   "source": [
    "predictions_bc"
   ]
  },
  {
   "cell_type": "code",
   "execution_count": 90,
   "metadata": {},
   "outputs": [],
   "source": [
    "predictions_bc_argmax = np.argmax(predictions_bc, axis=1)"
   ]
  },
  {
   "cell_type": "markdown",
   "metadata": {},
   "source": [
    "#### Aplicamos el reporte de clasificación y matriz de confusión"
   ]
  },
  {
   "cell_type": "code",
   "execution_count": 91,
   "metadata": {},
   "outputs": [
    {
     "name": "stdout",
     "output_type": "stream",
     "text": [
      "              precision    recall  f1-score   support\n",
      "\n",
      "           0       0.00      0.00      0.00     15005\n",
      "           1       0.39      0.63      0.48     14951\n",
      "\n",
      "    accuracy                           0.32     29956\n",
      "   macro avg       0.19      0.32      0.24     29956\n",
      "weighted avg       0.19      0.32      0.24     29956\n",
      "\n"
     ]
    }
   ],
   "source": [
    "scnn_report_cb = classification_report(y_test['binaryLabel'], predictions_bc_argmax)  \n",
    "print(scnn_report_cb)"
   ]
  },
  {
   "cell_type": "code",
   "execution_count": 92,
   "metadata": {
    "scrolled": true
   },
   "outputs": [
    {
     "name": "stdout",
     "output_type": "stream",
     "text": [
      "[[   11 14994]\n",
      " [ 5494  9457]]\n"
     ]
    }
   ],
   "source": [
    "scnn_cm_cb = confusion_matrix(y_test['binaryLabel'], predictions_bc_argmax)\n",
    "print(scnn_cm_cb)"
   ]
  },
  {
   "cell_type": "code",
   "execution_count": 56,
   "metadata": {},
   "outputs": [],
   "source": [
    "### mejorar modelos se deben modificar las capas de los mismo"
   ]
  },
  {
   "cell_type": "markdown",
   "metadata": {},
   "source": [
    "***"
   ]
  }
 ],
 "metadata": {
  "kernelspec": {
   "display_name": "Python 3",
   "language": "python",
   "name": "python3"
  },
  "language_info": {
   "codemirror_mode": {
    "name": "ipython",
    "version": 3
   },
   "file_extension": ".py",
   "mimetype": "text/x-python",
   "name": "python",
   "nbconvert_exporter": "python",
   "pygments_lexer": "ipython3",
   "version": "3.7.4"
  }
 },
 "nbformat": 4,
 "nbformat_minor": 2
}
