{
 "cells": [
  {
   "cell_type": "markdown",
   "metadata": {},
   "source": [
    "## CNN\n",
    "\n",
    "### Importar librerias generales"
   ]
  },
  {
   "cell_type": "code",
   "execution_count": 1,
   "metadata": {},
   "outputs": [],
   "source": [
    "import numpy as np\n",
    "import pandas as pd\n",
    "import scipy.stats as stats\n",
    "import matplotlib.pyplot as plt\n",
    "import sklearn\n",
    "import seaborn as sns\n",
    "%matplotlib inline "
   ]
  },
  {
   "cell_type": "code",
   "execution_count": 2,
   "metadata": {},
   "outputs": [],
   "source": [
    "from __future__ import absolute_import, division, print_function, unicode_literals\n",
    "\n",
    "import tensorflow as tf\n",
    "\n",
    "from tensorflow.keras import datasets, layers, models\n",
    "import matplotlib.pyplot as plt"
   ]
  },
  {
   "cell_type": "code",
   "execution_count": 3,
   "metadata": {},
   "outputs": [],
   "source": [
    "from sklearn.metrics import confusion_matrix, classification_report  "
   ]
  },
  {
   "cell_type": "markdown",
   "metadata": {},
   "source": [
    "#### Establecemos los paths de los data set a utilizar"
   ]
  },
  {
   "cell_type": "code",
   "execution_count": 6,
   "metadata": {},
   "outputs": [],
   "source": [
    "### SE HARA USO DE DATASET BALANCEADO PARA EL TRABAJO DE LOS MODELOS\n",
    "path_dataset = \"data_cleaned_balanced.csv\"\n",
    "#### IGUALMENTE SE DEJA EL DATASET NO BALANCEADO POR SI DESEA HACER MÁS PRUEBAS, solo se debe cambiar el path\n",
    "path_dataset_NOBALANCEADO = \"Data_Base_NOBALANCEADO.csv\""
   ]
  },
  {
   "cell_type": "markdown",
   "metadata": {},
   "source": [
    "#### Leemos el archivo con los datos balanceados"
   ]
  },
  {
   "cell_type": "code",
   "execution_count": 7,
   "metadata": {},
   "outputs": [],
   "source": [
    "data = pd.read_csv(path_dataset)"
   ]
  },
  {
   "cell_type": "code",
   "execution_count": 8,
   "metadata": {
    "scrolled": true
   },
   "outputs": [
    {
     "data": {
      "text/html": [
       "<div>\n",
       "<style scoped>\n",
       "    .dataframe tbody tr th:only-of-type {\n",
       "        vertical-align: middle;\n",
       "    }\n",
       "\n",
       "    .dataframe tbody tr th {\n",
       "        vertical-align: top;\n",
       "    }\n",
       "\n",
       "    .dataframe thead th {\n",
       "        text-align: right;\n",
       "    }\n",
       "</style>\n",
       "<table border=\"1\" class=\"dataframe\">\n",
       "  <thead>\n",
       "    <tr style=\"text-align: right;\">\n",
       "      <th></th>\n",
       "      <th>Flow Duration</th>\n",
       "      <th>Tot Fwd Pkts</th>\n",
       "      <th>Tot Bwd Pkts</th>\n",
       "      <th>TotLen Fwd Pkts</th>\n",
       "      <th>TotLen Bwd Pkts</th>\n",
       "      <th>Fwd Pkt Len Min</th>\n",
       "      <th>Bwd Pkt Len Min</th>\n",
       "      <th>Fwd Pkt Len Max</th>\n",
       "      <th>Bwd Pkt Len Max</th>\n",
       "      <th>Fwd Pkt Len Mean</th>\n",
       "      <th>Bwd Pkt Len Mean</th>\n",
       "      <th>Fwd Pkt Len Std</th>\n",
       "      <th>Bwd Pkt Len Std</th>\n",
       "      <th>Flow Pkts/s</th>\n",
       "      <th>Flow Byts/s</th>\n",
       "      <th>Label</th>\n",
       "      <th>binaryLabel</th>\n",
       "      <th>benignoLabel</th>\n",
       "      <th>ransomwareLabel</th>\n",
       "    </tr>\n",
       "  </thead>\n",
       "  <tbody>\n",
       "    <tr>\n",
       "      <td>0</td>\n",
       "      <td>4220250</td>\n",
       "      <td>11</td>\n",
       "      <td>5</td>\n",
       "      <td>209</td>\n",
       "      <td>17581</td>\n",
       "      <td>605</td>\n",
       "      <td>-1.0</td>\n",
       "      <td>52</td>\n",
       "      <td>-1</td>\n",
       "      <td>52.0</td>\n",
       "      <td>0.0</td>\n",
       "      <td>1.0</td>\n",
       "      <td>0.0</td>\n",
       "      <td>7.938877</td>\n",
       "      <td>1343.257988</td>\n",
       "      <td>Ransomware</td>\n",
       "      <td>0</td>\n",
       "      <td>0</td>\n",
       "      <td>1</td>\n",
       "    </tr>\n",
       "    <tr>\n",
       "      <td>1</td>\n",
       "      <td>0</td>\n",
       "      <td>7</td>\n",
       "      <td>5</td>\n",
       "      <td>2415</td>\n",
       "      <td>16696</td>\n",
       "      <td>321</td>\n",
       "      <td>-1.0</td>\n",
       "      <td>52</td>\n",
       "      <td>-1</td>\n",
       "      <td>52.0</td>\n",
       "      <td>0.0</td>\n",
       "      <td>0.0</td>\n",
       "      <td>0.0</td>\n",
       "      <td>0.000000</td>\n",
       "      <td>0.000000</td>\n",
       "      <td>Ransomware</td>\n",
       "      <td>0</td>\n",
       "      <td>0</td>\n",
       "      <td>1</td>\n",
       "    </tr>\n",
       "    <tr>\n",
       "      <td>2</td>\n",
       "      <td>2</td>\n",
       "      <td>13</td>\n",
       "      <td>4</td>\n",
       "      <td>2264</td>\n",
       "      <td>8590</td>\n",
       "      <td>585</td>\n",
       "      <td>-1.0</td>\n",
       "      <td>40</td>\n",
       "      <td>-1</td>\n",
       "      <td>40.0</td>\n",
       "      <td>0.0</td>\n",
       "      <td>1.0</td>\n",
       "      <td>0.0</td>\n",
       "      <td>0.259702</td>\n",
       "      <td>109.334732</td>\n",
       "      <td>Ransomware</td>\n",
       "      <td>0</td>\n",
       "      <td>0</td>\n",
       "      <td>1</td>\n",
       "    </tr>\n",
       "    <tr>\n",
       "      <td>3</td>\n",
       "      <td>0</td>\n",
       "      <td>22</td>\n",
       "      <td>1</td>\n",
       "      <td>255</td>\n",
       "      <td>21137</td>\n",
       "      <td>293</td>\n",
       "      <td>-1.0</td>\n",
       "      <td>83</td>\n",
       "      <td>-1</td>\n",
       "      <td>83.0</td>\n",
       "      <td>0.0</td>\n",
       "      <td>0.0</td>\n",
       "      <td>0.0</td>\n",
       "      <td>50.404073</td>\n",
       "      <td>18359.851480</td>\n",
       "      <td>Ransomware</td>\n",
       "      <td>0</td>\n",
       "      <td>0</td>\n",
       "      <td>1</td>\n",
       "    </tr>\n",
       "    <tr>\n",
       "      <td>4</td>\n",
       "      <td>0</td>\n",
       "      <td>1</td>\n",
       "      <td>0</td>\n",
       "      <td>420</td>\n",
       "      <td>0</td>\n",
       "      <td>420</td>\n",
       "      <td>-1.0</td>\n",
       "      <td>420</td>\n",
       "      <td>-1</td>\n",
       "      <td>420.0</td>\n",
       "      <td>0.0</td>\n",
       "      <td>0.0</td>\n",
       "      <td>0.0</td>\n",
       "      <td>0.000000</td>\n",
       "      <td>0.000000</td>\n",
       "      <td>Benigno</td>\n",
       "      <td>1</td>\n",
       "      <td>1</td>\n",
       "      <td>0</td>\n",
       "    </tr>\n",
       "  </tbody>\n",
       "</table>\n",
       "</div>"
      ],
      "text/plain": [
       "   Flow Duration  Tot Fwd Pkts  Tot Bwd Pkts  TotLen Fwd Pkts  \\\n",
       "0        4220250            11             5              209   \n",
       "1              0             7             5             2415   \n",
       "2              2            13             4             2264   \n",
       "3              0            22             1              255   \n",
       "4              0             1             0              420   \n",
       "\n",
       "   TotLen Bwd Pkts  Fwd Pkt Len Min  Bwd Pkt Len Min  Fwd Pkt Len Max  \\\n",
       "0            17581              605             -1.0               52   \n",
       "1            16696              321             -1.0               52   \n",
       "2             8590              585             -1.0               40   \n",
       "3            21137              293             -1.0               83   \n",
       "4                0              420             -1.0              420   \n",
       "\n",
       "   Bwd Pkt Len Max  Fwd Pkt Len Mean  Bwd Pkt Len Mean  Fwd Pkt Len Std  \\\n",
       "0               -1              52.0               0.0              1.0   \n",
       "1               -1              52.0               0.0              0.0   \n",
       "2               -1              40.0               0.0              1.0   \n",
       "3               -1              83.0               0.0              0.0   \n",
       "4               -1             420.0               0.0              0.0   \n",
       "\n",
       "   Bwd Pkt Len Std  Flow Pkts/s   Flow Byts/s       Label  binaryLabel  \\\n",
       "0              0.0     7.938877   1343.257988  Ransomware            0   \n",
       "1              0.0     0.000000      0.000000  Ransomware            0   \n",
       "2              0.0     0.259702    109.334732  Ransomware            0   \n",
       "3              0.0    50.404073  18359.851480  Ransomware            0   \n",
       "4              0.0     0.000000      0.000000     Benigno            1   \n",
       "\n",
       "   benignoLabel  ransomwareLabel  \n",
       "0             0                1  \n",
       "1             0                1  \n",
       "2             0                1  \n",
       "3             0                1  \n",
       "4             1                0  "
      ]
     },
     "execution_count": 8,
     "metadata": {},
     "output_type": "execute_result"
    }
   ],
   "source": [
    "data.head()"
   ]
  },
  {
   "cell_type": "code",
   "execution_count": 9,
   "metadata": {},
   "outputs": [
    {
     "data": {
      "text/plain": [
       "Index(['Flow Duration', 'Tot Fwd Pkts', 'Tot Bwd Pkts', 'TotLen Fwd Pkts',\n",
       "       'TotLen Bwd Pkts', 'Fwd Pkt Len Min', 'Bwd Pkt Len Min',\n",
       "       'Fwd Pkt Len Max', 'Bwd Pkt Len Max', 'Fwd Pkt Len Mean',\n",
       "       'Bwd Pkt Len Mean', 'Fwd Pkt Len Std', 'Bwd Pkt Len Std', 'Flow Pkts/s',\n",
       "       'Flow Byts/s', 'Label', 'binaryLabel', 'benignoLabel',\n",
       "       'ransomwareLabel'],\n",
       "      dtype='object')"
      ]
     },
     "execution_count": 9,
     "metadata": {},
     "output_type": "execute_result"
    }
   ],
   "source": [
    "data.columns"
   ]
  },
  {
   "cell_type": "markdown",
   "metadata": {},
   "source": [
    "##### Establecemos cuales seran las columnas que seran utilizadas como labels y cuales seran la data para los modelos"
   ]
  },
  {
   "cell_type": "code",
   "execution_count": 10,
   "metadata": {},
   "outputs": [],
   "source": [
    "columns_label = ['binaryLabel','benignoLabel','ransomwareLabel']\n",
    "columns_data = ['Flow Duration', 'Tot Fwd Pkts', 'Tot Bwd Pkts', 'TotLen Fwd Pkts',\n",
    "       'TotLen Bwd Pkts', 'Fwd Pkt Len Min', 'Bwd Pkt Len Min',\n",
    "       'Fwd Pkt Len Max', 'Bwd Pkt Len Max', 'Fwd Pkt Len Mean',\n",
    "       'Bwd Pkt Len Mean', 'Fwd Pkt Len Std', 'Bwd Pkt Len Std', 'Flow Pkts/s',\n",
    "       'Flow Byts/s']"
   ]
  },
  {
   "cell_type": "markdown",
   "metadata": {},
   "source": [
    "##### Separamos los valores que utilizaremos para los datos de entradas (Todas las columnas de datos) y los datos de salida (los labels)"
   ]
  },
  {
   "cell_type": "code",
   "execution_count": 11,
   "metadata": {},
   "outputs": [],
   "source": [
    "dataX = data[columns_data].copy()\n",
    "dataY = data[columns_label].copy()"
   ]
  },
  {
   "cell_type": "code",
   "execution_count": 12,
   "metadata": {},
   "outputs": [
    {
     "data": {
      "text/html": [
       "<div>\n",
       "<style scoped>\n",
       "    .dataframe tbody tr th:only-of-type {\n",
       "        vertical-align: middle;\n",
       "    }\n",
       "\n",
       "    .dataframe tbody tr th {\n",
       "        vertical-align: top;\n",
       "    }\n",
       "\n",
       "    .dataframe thead th {\n",
       "        text-align: right;\n",
       "    }\n",
       "</style>\n",
       "<table border=\"1\" class=\"dataframe\">\n",
       "  <thead>\n",
       "    <tr style=\"text-align: right;\">\n",
       "      <th></th>\n",
       "      <th>Flow Duration</th>\n",
       "      <th>Tot Fwd Pkts</th>\n",
       "      <th>Tot Bwd Pkts</th>\n",
       "      <th>TotLen Fwd Pkts</th>\n",
       "      <th>TotLen Bwd Pkts</th>\n",
       "      <th>Fwd Pkt Len Min</th>\n",
       "      <th>Bwd Pkt Len Min</th>\n",
       "      <th>Fwd Pkt Len Max</th>\n",
       "      <th>Bwd Pkt Len Max</th>\n",
       "      <th>Fwd Pkt Len Mean</th>\n",
       "      <th>Bwd Pkt Len Mean</th>\n",
       "      <th>Fwd Pkt Len Std</th>\n",
       "      <th>Bwd Pkt Len Std</th>\n",
       "      <th>Flow Pkts/s</th>\n",
       "      <th>Flow Byts/s</th>\n",
       "    </tr>\n",
       "  </thead>\n",
       "  <tbody>\n",
       "    <tr>\n",
       "      <td>0</td>\n",
       "      <td>4220250</td>\n",
       "      <td>11</td>\n",
       "      <td>5</td>\n",
       "      <td>209</td>\n",
       "      <td>17581</td>\n",
       "      <td>605</td>\n",
       "      <td>-1.0</td>\n",
       "      <td>52</td>\n",
       "      <td>-1</td>\n",
       "      <td>52.0</td>\n",
       "      <td>0.0</td>\n",
       "      <td>1.0</td>\n",
       "      <td>0.0</td>\n",
       "      <td>7.938877</td>\n",
       "      <td>1343.257988</td>\n",
       "    </tr>\n",
       "    <tr>\n",
       "      <td>1</td>\n",
       "      <td>0</td>\n",
       "      <td>7</td>\n",
       "      <td>5</td>\n",
       "      <td>2415</td>\n",
       "      <td>16696</td>\n",
       "      <td>321</td>\n",
       "      <td>-1.0</td>\n",
       "      <td>52</td>\n",
       "      <td>-1</td>\n",
       "      <td>52.0</td>\n",
       "      <td>0.0</td>\n",
       "      <td>0.0</td>\n",
       "      <td>0.0</td>\n",
       "      <td>0.000000</td>\n",
       "      <td>0.000000</td>\n",
       "    </tr>\n",
       "    <tr>\n",
       "      <td>2</td>\n",
       "      <td>2</td>\n",
       "      <td>13</td>\n",
       "      <td>4</td>\n",
       "      <td>2264</td>\n",
       "      <td>8590</td>\n",
       "      <td>585</td>\n",
       "      <td>-1.0</td>\n",
       "      <td>40</td>\n",
       "      <td>-1</td>\n",
       "      <td>40.0</td>\n",
       "      <td>0.0</td>\n",
       "      <td>1.0</td>\n",
       "      <td>0.0</td>\n",
       "      <td>0.259702</td>\n",
       "      <td>109.334732</td>\n",
       "    </tr>\n",
       "    <tr>\n",
       "      <td>3</td>\n",
       "      <td>0</td>\n",
       "      <td>22</td>\n",
       "      <td>1</td>\n",
       "      <td>255</td>\n",
       "      <td>21137</td>\n",
       "      <td>293</td>\n",
       "      <td>-1.0</td>\n",
       "      <td>83</td>\n",
       "      <td>-1</td>\n",
       "      <td>83.0</td>\n",
       "      <td>0.0</td>\n",
       "      <td>0.0</td>\n",
       "      <td>0.0</td>\n",
       "      <td>50.404073</td>\n",
       "      <td>18359.851480</td>\n",
       "    </tr>\n",
       "    <tr>\n",
       "      <td>4</td>\n",
       "      <td>0</td>\n",
       "      <td>1</td>\n",
       "      <td>0</td>\n",
       "      <td>420</td>\n",
       "      <td>0</td>\n",
       "      <td>420</td>\n",
       "      <td>-1.0</td>\n",
       "      <td>420</td>\n",
       "      <td>-1</td>\n",
       "      <td>420.0</td>\n",
       "      <td>0.0</td>\n",
       "      <td>0.0</td>\n",
       "      <td>0.0</td>\n",
       "      <td>0.000000</td>\n",
       "      <td>0.000000</td>\n",
       "    </tr>\n",
       "  </tbody>\n",
       "</table>\n",
       "</div>"
      ],
      "text/plain": [
       "   Flow Duration  Tot Fwd Pkts  Tot Bwd Pkts  TotLen Fwd Pkts  \\\n",
       "0        4220250            11             5              209   \n",
       "1              0             7             5             2415   \n",
       "2              2            13             4             2264   \n",
       "3              0            22             1              255   \n",
       "4              0             1             0              420   \n",
       "\n",
       "   TotLen Bwd Pkts  Fwd Pkt Len Min  Bwd Pkt Len Min  Fwd Pkt Len Max  \\\n",
       "0            17581              605             -1.0               52   \n",
       "1            16696              321             -1.0               52   \n",
       "2             8590              585             -1.0               40   \n",
       "3            21137              293             -1.0               83   \n",
       "4                0              420             -1.0              420   \n",
       "\n",
       "   Bwd Pkt Len Max  Fwd Pkt Len Mean  Bwd Pkt Len Mean  Fwd Pkt Len Std  \\\n",
       "0               -1              52.0               0.0              1.0   \n",
       "1               -1              52.0               0.0              0.0   \n",
       "2               -1              40.0               0.0              1.0   \n",
       "3               -1              83.0               0.0              0.0   \n",
       "4               -1             420.0               0.0              0.0   \n",
       "\n",
       "   Bwd Pkt Len Std  Flow Pkts/s   Flow Byts/s  \n",
       "0              0.0     7.938877   1343.257988  \n",
       "1              0.0     0.000000      0.000000  \n",
       "2              0.0     0.259702    109.334732  \n",
       "3              0.0    50.404073  18359.851480  \n",
       "4              0.0     0.000000      0.000000  "
      ]
     },
     "execution_count": 12,
     "metadata": {},
     "output_type": "execute_result"
    }
   ],
   "source": [
    "dataX.head()"
   ]
  },
  {
   "cell_type": "code",
   "execution_count": 13,
   "metadata": {},
   "outputs": [
    {
     "data": {
      "text/html": [
       "<div>\n",
       "<style scoped>\n",
       "    .dataframe tbody tr th:only-of-type {\n",
       "        vertical-align: middle;\n",
       "    }\n",
       "\n",
       "    .dataframe tbody tr th {\n",
       "        vertical-align: top;\n",
       "    }\n",
       "\n",
       "    .dataframe thead th {\n",
       "        text-align: right;\n",
       "    }\n",
       "</style>\n",
       "<table border=\"1\" class=\"dataframe\">\n",
       "  <thead>\n",
       "    <tr style=\"text-align: right;\">\n",
       "      <th></th>\n",
       "      <th>binaryLabel</th>\n",
       "      <th>benignoLabel</th>\n",
       "      <th>ransomwareLabel</th>\n",
       "    </tr>\n",
       "  </thead>\n",
       "  <tbody>\n",
       "    <tr>\n",
       "      <td>0</td>\n",
       "      <td>0</td>\n",
       "      <td>0</td>\n",
       "      <td>1</td>\n",
       "    </tr>\n",
       "    <tr>\n",
       "      <td>1</td>\n",
       "      <td>0</td>\n",
       "      <td>0</td>\n",
       "      <td>1</td>\n",
       "    </tr>\n",
       "    <tr>\n",
       "      <td>2</td>\n",
       "      <td>0</td>\n",
       "      <td>0</td>\n",
       "      <td>1</td>\n",
       "    </tr>\n",
       "    <tr>\n",
       "      <td>3</td>\n",
       "      <td>0</td>\n",
       "      <td>0</td>\n",
       "      <td>1</td>\n",
       "    </tr>\n",
       "    <tr>\n",
       "      <td>4</td>\n",
       "      <td>1</td>\n",
       "      <td>1</td>\n",
       "      <td>0</td>\n",
       "    </tr>\n",
       "  </tbody>\n",
       "</table>\n",
       "</div>"
      ],
      "text/plain": [
       "   binaryLabel  benignoLabel  ransomwareLabel\n",
       "0            0             0                1\n",
       "1            0             0                1\n",
       "2            0             0                1\n",
       "3            0             0                1\n",
       "4            1             1                0"
      ]
     },
     "execution_count": 13,
     "metadata": {},
     "output_type": "execute_result"
    }
   ],
   "source": [
    "dataY.head()"
   ]
  },
  {
   "cell_type": "markdown",
   "metadata": {},
   "source": [
    "#### GENERAMOS LOS DATOS DE ENTRENAMIENTO,TESTING Y VALIDACIÓN\n",
    "\n",
    "\n",
    "#### Establecemos que las proporciones serán:\n",
    "###### - ENTRENAMIENTO =  70%\n",
    "###### - TESTING = 20%\n",
    "###### - VALIDACION  = 10% "
   ]
  },
  {
   "cell_type": "code",
   "execution_count": 14,
   "metadata": {},
   "outputs": [],
   "source": [
    "from sklearn.model_selection import train_test_split"
   ]
  },
  {
   "cell_type": "code",
   "execution_count": 15,
   "metadata": {},
   "outputs": [],
   "source": [
    "train_ratio = 0.7\n",
    "test_ratio = 0.2\n",
    "validation_ratio = 0.1\n",
    "semilla = 101"
   ]
  },
  {
   "cell_type": "code",
   "execution_count": 16,
   "metadata": {},
   "outputs": [],
   "source": [
    "X_train, X_test, y_train, y_test = train_test_split(dataX, dataY, test_size=test_ratio, random_state=semilla)"
   ]
  },
  {
   "cell_type": "code",
   "execution_count": 17,
   "metadata": {},
   "outputs": [],
   "source": [
    "X_train, X_val, y_train, y_val = train_test_split(X_train, y_train, test_size=validation_ratio/(validation_ratio + train_ratio), random_state=semilla)"
   ]
  },
  {
   "cell_type": "markdown",
   "metadata": {},
   "source": [
    "##### Verificamos las separación de los datos"
   ]
  },
  {
   "cell_type": "code",
   "execution_count": 19,
   "metadata": {},
   "outputs": [
    {
     "name": "stdout",
     "output_type": "stream",
     "text": [
      "Train 0.6999919880354663 %\n",
      "Test 0.20000534130968914 %\n",
      "Validation 0.10000267065484457 %\n"
     ]
    }
   ],
   "source": [
    "print('Train ' + str(X_train.shape[0]/dataX.shape[0]) + ' %')\n",
    "print('Test ' + str(X_test.shape[0]/dataX.shape[0]) + ' %')\n",
    "print('Validation ' + str(X_val.shape[0]/dataX.shape[0])+ ' %')"
   ]
  },
  {
   "cell_type": "markdown",
   "metadata": {},
   "source": [
    "#### Las dimensiones de cada una de las separaciones de datos"
   ]
  },
  {
   "cell_type": "code",
   "execution_count": 20,
   "metadata": {},
   "outputs": [
    {
     "name": "stdout",
     "output_type": "stream",
     "text": [
      "Data TRAIN:  (104842, 15) - Label TRAIN:  (104842, 3)\n",
      "Data TEST:  (29956, 15) - Label TEST:  (29956, 3)\n",
      "Data VALIDATION:  (14978, 15) - Label VALIDATION:  (14978, 3)\n"
     ]
    }
   ],
   "source": [
    "print('Data TRAIN: ', X_train.shape,'-', 'Label TRAIN: ' , y_train.shape)\n",
    "print('Data TEST: ', X_test.shape,'-', 'Label TEST: ' , y_test.shape)\n",
    "print('Data VALIDATION: ', X_val.shape,'-', 'Label VALIDATION: ' , y_val.shape)"
   ]
  },
  {
   "cell_type": "markdown",
   "metadata": {},
   "source": [
    "#### Debido a necesidades del modelo CNN, lo valores de entrada (La Data) para entrenamiento, testing y validación tienen que ser del tipo 3 dimensional, por tal razón transformarmos esa matriz a una matriz trimensional generica"
   ]
  },
  {
   "cell_type": "code",
   "execution_count": 22,
   "metadata": {},
   "outputs": [],
   "source": [
    "X_train_3D = X_train.values.reshape(X_train.shape[0],X_train.shape[1],1)\n",
    "X_test_3D = X_test.values.reshape(X_test.shape[0],X_test.shape[1],1)\n",
    "X_val_3D = X_val.values.reshape(X_val.shape[0],X_val.shape[1],1)"
   ]
  },
  {
   "cell_type": "markdown",
   "metadata": {},
   "source": [
    "### Una vez listo lo anterior, comenzamos con el modelo CNN\n",
    "\n",
    "#### Cabe señalar que se realizar 2 modelos, uno utilizará la función de perdida \"SparseCategoricalCrossentropy\" y la otra \"BinaryCrossentropy\"\n",
    "\n",
    "***\n",
    "1. SparseCategoricalCrossentropy → Para modelos de 2 o más clases de labels, deben ser enteros.(Por eso tienen que ser 0 y 1)\n",
    "    1. Debe recibir como label un vector columna → Example : [0]\n",
    "2. BinaryCrossentropy → Para modelos de 2 clases de label. (Por eso tienen que ser 0 y 1)\n",
    "    1. Debe recibir como label un array2D → Example : [0 , 1]"
   ]
  },
  {
   "cell_type": "markdown",
   "metadata": {},
   "source": [
    "### CNN - SparseCategoricalCrossentropy"
   ]
  },
  {
   "cell_type": "code",
   "execution_count": 23,
   "metadata": {},
   "outputs": [],
   "source": [
    "model_scc = models.Sequential()"
   ]
  },
  {
   "cell_type": "code",
   "execution_count": 24,
   "metadata": {},
   "outputs": [],
   "source": [
    "# Primera capa con dimensiones de entrada iguales al data\n",
    "model_scc.add(layers.Conv1D(filters=15, kernel_size=3, activation='relu', input_shape=(X_train.shape[1],1)))\n",
    "model_scc.add(layers.MaxPooling1D(pool_size=2))\n",
    "model_scc.add(layers.Conv1D(filters=30, kernel_size=3, activation='relu'))\n",
    "model_scc.add(layers.MaxPooling1D(pool_size=1))\n",
    "model_scc.add(layers.Conv1D(filters=60, kernel_size=3, activation='relu'))\n",
    "model_scc.add(tf.keras.layers.Dropout(0.2))\n",
    "model_scc.add(layers.MaxPooling1D(pool_size=1))\n",
    "model_scc.add(layers.Flatten())"
   ]
  },
  {
   "cell_type": "code",
   "execution_count": 25,
   "metadata": {},
   "outputs": [],
   "source": [
    "model_scc.add(layers.Dense(32, activation='relu'))\n",
    "model_scc.add(tf.keras.layers.Dropout(0.2))\n",
    "model_scc.add(layers.Dense(10, activation='relu'))\n",
    "model_scc.add(layers.Dense(2, activation='softmax'))"
   ]
  },
  {
   "cell_type": "code",
   "execution_count": 26,
   "metadata": {},
   "outputs": [
    {
     "name": "stdout",
     "output_type": "stream",
     "text": [
      "Model: \"sequential\"\n",
      "_________________________________________________________________\n",
      "Layer (type)                 Output Shape              Param #   \n",
      "=================================================================\n",
      "conv1d (Conv1D)              (None, 13, 15)            60        \n",
      "_________________________________________________________________\n",
      "max_pooling1d (MaxPooling1D) (None, 6, 15)             0         \n",
      "_________________________________________________________________\n",
      "conv1d_1 (Conv1D)            (None, 4, 30)             1380      \n",
      "_________________________________________________________________\n",
      "max_pooling1d_1 (MaxPooling1 (None, 4, 30)             0         \n",
      "_________________________________________________________________\n",
      "conv1d_2 (Conv1D)            (None, 2, 60)             5460      \n",
      "_________________________________________________________________\n",
      "dropout (Dropout)            (None, 2, 60)             0         \n",
      "_________________________________________________________________\n",
      "max_pooling1d_2 (MaxPooling1 (None, 2, 60)             0         \n",
      "_________________________________________________________________\n",
      "flatten (Flatten)            (None, 120)               0         \n",
      "_________________________________________________________________\n",
      "dense (Dense)                (None, 32)                3872      \n",
      "_________________________________________________________________\n",
      "dropout_1 (Dropout)          (None, 32)                0         \n",
      "_________________________________________________________________\n",
      "dense_1 (Dense)              (None, 10)                330       \n",
      "_________________________________________________________________\n",
      "dense_2 (Dense)              (None, 2)                 22        \n",
      "=================================================================\n",
      "Total params: 11,124\n",
      "Trainable params: 11,124\n",
      "Non-trainable params: 0\n",
      "_________________________________________________________________\n"
     ]
    }
   ],
   "source": [
    "model_scc.summary()"
   ]
  },
  {
   "cell_type": "code",
   "execution_count": 27,
   "metadata": {},
   "outputs": [],
   "source": [
    "model_scc.compile(optimizer='adam',\n",
    "              loss=tf.keras.losses.SparseCategoricalCrossentropy(from_logits=True),\n",
    "              metrics=['sparse_categorical_accuracy','accuracy'])"
   ]
  },
  {
   "cell_type": "code",
   "execution_count": 28,
   "metadata": {},
   "outputs": [
    {
     "name": "stdout",
     "output_type": "stream",
     "text": [
      "Train on 104842 samples, validate on 14978 samples\n",
      "Epoch 1/10\n",
      "104842/104842 [==============================] - 15s 145us/sample - loss: 0.6334 - sparse_categorical_accuracy: 0.6794 - accuracy: 0.6794 - val_loss: 0.6242 - val_sparse_categorical_accuracy: 0.6891 - val_accuracy: 0.6891\n",
      "Epoch 2/10\n",
      "104842/104842 [==============================] - 15s 147us/sample - loss: 0.6305 - sparse_categorical_accuracy: 0.6828 - accuracy: 0.6828 - val_loss: 0.6152 - val_sparse_categorical_accuracy: 0.6981 - val_accuracy: 0.6981\n",
      "Epoch 3/10\n",
      "104842/104842 [==============================] - 20s 192us/sample - loss: 0.6270 - sparse_categorical_accuracy: 0.6862 - accuracy: 0.6862 - val_loss: 0.7681 - val_sparse_categorical_accuracy: 0.5451 - val_accuracy: 0.5451\n",
      "Epoch 4/10\n",
      "104842/104842 [==============================] - 19s 186us/sample - loss: 0.6767 - sparse_categorical_accuracy: 0.6366 - accuracy: 0.6366 - val_loss: 0.5997 - val_sparse_categorical_accuracy: 0.7135 - val_accuracy: 0.7135\n",
      "Epoch 5/10\n",
      "104842/104842 [==============================] - 19s 185us/sample - loss: 0.5995 - sparse_categorical_accuracy: 0.7138 - accuracy: 0.7138 - val_loss: 0.5939 - val_sparse_categorical_accuracy: 0.7194 - val_accuracy: 0.7194\n",
      "Epoch 6/10\n",
      "104842/104842 [==============================] - 19s 184us/sample - loss: 0.5868 - sparse_categorical_accuracy: 0.7264 - accuracy: 0.7264 - val_loss: 0.5532 - val_sparse_categorical_accuracy: 0.7600 - val_accuracy: 0.7600\n",
      "Epoch 7/10\n",
      "104842/104842 [==============================] - 18s 172us/sample - loss: 0.5946 - sparse_categorical_accuracy: 0.7186 - accuracy: 0.7186 - val_loss: 0.5852 - val_sparse_categorical_accuracy: 0.7281 - val_accuracy: 0.7281\n",
      "Epoch 8/10\n",
      "104842/104842 [==============================] - 17s 162us/sample - loss: 0.6763 - sparse_categorical_accuracy: 0.6369 - accuracy: 0.6369 - val_loss: 0.5993 - val_sparse_categorical_accuracy: 0.7140 - val_accuracy: 0.7140\n",
      "Epoch 9/10\n",
      "104842/104842 [==============================] - 16s 157us/sample - loss: 0.6078 - sparse_categorical_accuracy: 0.7055 - accuracy: 0.7055 - val_loss: 0.6005 - val_sparse_categorical_accuracy: 0.7127 - val_accuracy: 0.7127\n",
      "Epoch 10/10\n",
      "104842/104842 [==============================] - 17s 163us/sample - loss: 0.6068 - sparse_categorical_accuracy: 0.7065 - accuracy: 0.7065 - val_loss: 0.5981 - val_sparse_categorical_accuracy: 0.7152 - val_accuracy: 0.7152\n"
     ]
    }
   ],
   "source": [
    "history_scc = model_scc.fit(X_train_3D, y_train['binaryLabel'], epochs=10, validation_data=(X_val_3D, y_val['binaryLabel']),shuffle=True)"
   ]
  },
  {
   "cell_type": "markdown",
   "metadata": {},
   "source": [
    "#### Realizamos las predicciones con los datos de testeo"
   ]
  },
  {
   "cell_type": "code",
   "execution_count": 29,
   "metadata": {},
   "outputs": [],
   "source": [
    "predictions_scc = model_scc.predict(X_test_3D)"
   ]
  },
  {
   "cell_type": "code",
   "execution_count": 30,
   "metadata": {},
   "outputs": [
    {
     "data": {
      "text/plain": [
       "array([[0., 1.],\n",
       "       [1., 0.],\n",
       "       [1., 0.],\n",
       "       ...,\n",
       "       [0., 1.],\n",
       "       [1., 0.],\n",
       "       [1., 0.]], dtype=float32)"
      ]
     },
     "execution_count": 30,
     "metadata": {},
     "output_type": "execute_result"
    }
   ],
   "source": [
    "predictions_scc"
   ]
  },
  {
   "cell_type": "code",
   "execution_count": 31,
   "metadata": {},
   "outputs": [],
   "source": [
    "predictions_scc_argmax = np.argmax(predictions_scc, axis=1)"
   ]
  },
  {
   "cell_type": "markdown",
   "metadata": {},
   "source": [
    "#### Aplicamos el reporte de clasificación y matriz de confusión"
   ]
  },
  {
   "cell_type": "code",
   "execution_count": 32,
   "metadata": {},
   "outputs": [
    {
     "name": "stdout",
     "output_type": "stream",
     "text": [
      "              precision    recall  f1-score   support\n",
      "\n",
      "           0       0.87      0.51      0.64     15005\n",
      "           1       0.65      0.92      0.76     14951\n",
      "\n",
      "    accuracy                           0.72     29956\n",
      "   macro avg       0.76      0.72      0.70     29956\n",
      "weighted avg       0.76      0.72      0.70     29956\n",
      "\n"
     ]
    }
   ],
   "source": [
    "scnn_report_scc = classification_report(y_test['binaryLabel'], predictions_scc_argmax)  \n",
    "print(scnn_report_scc)"
   ]
  },
  {
   "cell_type": "code",
   "execution_count": 33,
   "metadata": {
    "scrolled": true
   },
   "outputs": [
    {
     "name": "stdout",
     "output_type": "stream",
     "text": [
      "[[ 7610  7395]\n",
      " [ 1135 13816]]\n"
     ]
    }
   ],
   "source": [
    "scnn_cm_scc = confusion_matrix(y_test['binaryLabel'], predictions_scc_argmax)\n",
    "print(scnn_cm_scc)"
   ]
  },
  {
   "cell_type": "markdown",
   "metadata": {},
   "source": [
    "### CNN - BinaryCrossentropy"
   ]
  },
  {
   "cell_type": "code",
   "execution_count": 34,
   "metadata": {},
   "outputs": [],
   "source": [
    "model_bc = models.Sequential()"
   ]
  },
  {
   "cell_type": "code",
   "execution_count": 35,
   "metadata": {},
   "outputs": [],
   "source": [
    "# Primera capa con dimensiones de entrada iguales al data\n",
    "model_bc.add(layers.Conv1D(filters=15, kernel_size=3, activation='relu', input_shape=(X_train.shape[1],1)))\n",
    "model_bc.add(layers.MaxPooling1D(pool_size=2))\n",
    "model_bc.add(layers.Conv1D(filters=30, kernel_size=3, activation='relu'))\n",
    "model_bc.add(layers.MaxPooling1D(pool_size=1))\n",
    "model_bc.add(layers.Conv1D(filters=60, kernel_size=3, activation='relu'))\n",
    "model_bc.add(tf.keras.layers.Dropout(0.2))\n",
    "model_bc.add(layers.MaxPooling1D(pool_size=1))\n",
    "model_bc.add(layers.Flatten())"
   ]
  },
  {
   "cell_type": "code",
   "execution_count": 36,
   "metadata": {},
   "outputs": [],
   "source": [
    "model_bc.add(layers.Dense(32, activation='relu'))\n",
    "model_bc.add(tf.keras.layers.Dropout(0.2))\n",
    "model_bc.add(layers.Dense(10, activation='relu'))\n",
    "model_bc.add(layers.Dense(2, activation='softmax'))"
   ]
  },
  {
   "cell_type": "code",
   "execution_count": 37,
   "metadata": {},
   "outputs": [
    {
     "name": "stdout",
     "output_type": "stream",
     "text": [
      "Model: \"sequential_1\"\n",
      "_________________________________________________________________\n",
      "Layer (type)                 Output Shape              Param #   \n",
      "=================================================================\n",
      "conv1d_3 (Conv1D)            (None, 13, 15)            60        \n",
      "_________________________________________________________________\n",
      "max_pooling1d_3 (MaxPooling1 (None, 6, 15)             0         \n",
      "_________________________________________________________________\n",
      "conv1d_4 (Conv1D)            (None, 4, 30)             1380      \n",
      "_________________________________________________________________\n",
      "max_pooling1d_4 (MaxPooling1 (None, 4, 30)             0         \n",
      "_________________________________________________________________\n",
      "conv1d_5 (Conv1D)            (None, 2, 60)             5460      \n",
      "_________________________________________________________________\n",
      "dropout_2 (Dropout)          (None, 2, 60)             0         \n",
      "_________________________________________________________________\n",
      "max_pooling1d_5 (MaxPooling1 (None, 2, 60)             0         \n",
      "_________________________________________________________________\n",
      "flatten_1 (Flatten)          (None, 120)               0         \n",
      "_________________________________________________________________\n",
      "dense_3 (Dense)              (None, 32)                3872      \n",
      "_________________________________________________________________\n",
      "dropout_3 (Dropout)          (None, 32)                0         \n",
      "_________________________________________________________________\n",
      "dense_4 (Dense)              (None, 10)                330       \n",
      "_________________________________________________________________\n",
      "dense_5 (Dense)              (None, 2)                 22        \n",
      "=================================================================\n",
      "Total params: 11,124\n",
      "Trainable params: 11,124\n",
      "Non-trainable params: 0\n",
      "_________________________________________________________________\n"
     ]
    }
   ],
   "source": [
    "model_bc.summary()"
   ]
  },
  {
   "cell_type": "code",
   "execution_count": 38,
   "metadata": {},
   "outputs": [],
   "source": [
    "model_bc.compile(optimizer='adam',\n",
    "              loss=tf.keras.losses.BinaryCrossentropy(from_logits=True),\n",
    "              metrics=['accuracy'])"
   ]
  },
  {
   "cell_type": "code",
   "execution_count": 39,
   "metadata": {},
   "outputs": [
    {
     "name": "stdout",
     "output_type": "stream",
     "text": [
      "Train on 104842 samples, validate on 14978 samples\n",
      "Epoch 1/10\n",
      "104842/104842 [==============================] - 18s 172us/sample - loss: 0.6667 - accuracy: 0.6728 - val_loss: 0.6605 - val_accuracy: 0.6853\n",
      "Epoch 2/10\n",
      "104842/104842 [==============================] - 18s 168us/sample - loss: 0.6520 - accuracy: 0.7025 - val_loss: 0.6543 - val_accuracy: 0.6978\n",
      "Epoch 3/10\n",
      "104842/104842 [==============================] - 18s 170us/sample - loss: 0.6568 - accuracy: 0.6929 - val_loss: 0.6515 - val_accuracy: 0.7034\n",
      "Epoch 4/10\n",
      "104842/104842 [==============================] - 18s 173us/sample - loss: 0.6592 - accuracy: 0.6880 - val_loss: 0.6714 - val_accuracy: 0.6636\n",
      "Epoch 5/10\n",
      "104842/104842 [==============================] - 18s 172us/sample - loss: 0.6621 - accuracy: 0.6822 - val_loss: 0.6566 - val_accuracy: 0.6931\n",
      "Epoch 6/10\n",
      "104842/104842 [==============================] - 18s 173us/sample - loss: 0.6546 - accuracy: 0.6972 - val_loss: 0.6410 - val_accuracy: 0.7245\n",
      "Epoch 7/10\n",
      "104842/104842 [==============================] - 18s 171us/sample - loss: 0.6485 - accuracy: 0.7094 - val_loss: 0.6441 - val_accuracy: 0.7182\n",
      "Epoch 8/10\n",
      "104842/104842 [==============================] - 18s 171us/sample - loss: 0.6600 - accuracy: 0.6863 - val_loss: 0.6514 - val_accuracy: 0.7036\n",
      "Epoch 9/10\n",
      "104842/104842 [==============================] - 18s 176us/sample - loss: 0.6564 - accuracy: 0.6935 - val_loss: 0.6539 - val_accuracy: 0.6986\n",
      "Epoch 10/10\n",
      "104842/104842 [==============================] - 19s 183us/sample - loss: 0.6609 - accuracy: 0.6846 - val_loss: 0.6539 - val_accuracy: 0.6986\n"
     ]
    }
   ],
   "source": [
    "history_bc = model_bc.fit(X_train_3D, y_train[['benignoLabel','ransomwareLabel']], epochs=10, validation_data=(X_val_3D, y_val[['benignoLabel','ransomwareLabel']]),shuffle=True)"
   ]
  },
  {
   "cell_type": "code",
   "execution_count": 40,
   "metadata": {},
   "outputs": [
    {
     "name": "stdout",
     "output_type": "stream",
     "text": [
      "29956/29956 [==============================] - 2s 68us/sample - loss: 0.6560 - accuracy: 0.6943\n"
     ]
    }
   ],
   "source": [
    "test_loss, test_acc = model_bc.evaluate(X_test_3D, y_test[['benignoLabel','ransomwareLabel']])"
   ]
  },
  {
   "cell_type": "code",
   "execution_count": 41,
   "metadata": {},
   "outputs": [
    {
     "name": "stdout",
     "output_type": "stream",
     "text": [
      "PRECISIÓN:  0.69431835\n",
      "LOSS:  0.6560453823084251\n"
     ]
    }
   ],
   "source": [
    "print(\"PRECISIÓN: \",test_acc)\n",
    "print(\"LOSS: \", test_loss)"
   ]
  },
  {
   "cell_type": "markdown",
   "metadata": {},
   "source": [
    "#### Realizamos las predicciones con los datos de testeo"
   ]
  },
  {
   "cell_type": "code",
   "execution_count": 42,
   "metadata": {},
   "outputs": [],
   "source": [
    "predictions_bc = model_bc.predict(X_test_3D)"
   ]
  },
  {
   "cell_type": "code",
   "execution_count": 43,
   "metadata": {},
   "outputs": [
    {
     "data": {
      "text/plain": [
       "array([[1., 0.],\n",
       "       [0., 1.],\n",
       "       [1., 0.],\n",
       "       ...,\n",
       "       [1., 0.],\n",
       "       [1., 0.],\n",
       "       [0., 1.]], dtype=float32)"
      ]
     },
     "execution_count": 43,
     "metadata": {},
     "output_type": "execute_result"
    }
   ],
   "source": [
    "predictions_bc"
   ]
  },
  {
   "cell_type": "code",
   "execution_count": 44,
   "metadata": {},
   "outputs": [],
   "source": [
    "predictions_bc_argmax = np.argmax(predictions_bc, axis=1)"
   ]
  },
  {
   "cell_type": "markdown",
   "metadata": {},
   "source": [
    "#### Aplicamos el reporte de clasificación y matriz de confusión"
   ]
  },
  {
   "cell_type": "code",
   "execution_count": 45,
   "metadata": {},
   "outputs": [
    {
     "name": "stdout",
     "output_type": "stream",
     "text": [
      "              precision    recall  f1-score   support\n",
      "\n",
      "           0       0.37      0.57      0.45     15005\n",
      "           1       0.09      0.04      0.06     14951\n",
      "\n",
      "    accuracy                           0.31     29956\n",
      "   macro avg       0.23      0.31      0.25     29956\n",
      "weighted avg       0.23      0.31      0.25     29956\n",
      "\n"
     ]
    }
   ],
   "source": [
    "scnn_report_cb = classification_report(y_test['binaryLabel'], predictions_bc_argmax)  \n",
    "print(scnn_report_cb)"
   ]
  },
  {
   "cell_type": "code",
   "execution_count": 48,
   "metadata": {
    "scrolled": true
   },
   "outputs": [
    {
     "name": "stdout",
     "output_type": "stream",
     "text": [
      "[[ 8529  6476]\n",
      " [14323   628]]\n"
     ]
    }
   ],
   "source": [
    "scnn_cm_cb = confusion_matrix(y_test['binaryLabel'], predictions_bc_argmax)\n",
    "print(scnn_cm_cb)"
   ]
  },
  {
   "cell_type": "code",
   "execution_count": 47,
   "metadata": {},
   "outputs": [],
   "source": [
    "### mejorar modelos se deben modificar las capas de los mismo"
   ]
  },
  {
   "cell_type": "markdown",
   "metadata": {},
   "source": [
    "***"
   ]
  }
 ],
 "metadata": {
  "kernelspec": {
   "display_name": "Python 3",
   "language": "python",
   "name": "python3"
  },
  "language_info": {
   "codemirror_mode": {
    "name": "ipython",
    "version": 3
   },
   "file_extension": ".py",
   "mimetype": "text/x-python",
   "name": "python",
   "nbconvert_exporter": "python",
   "pygments_lexer": "ipython3",
   "version": "3.7.4"
  }
 },
 "nbformat": 4,
 "nbformat_minor": 2
}
