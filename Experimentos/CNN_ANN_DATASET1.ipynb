{
 "cells": [
  {
   "cell_type": "markdown",
   "metadata": {},
   "source": [
    "### Comparación Empírica de Algoritmos Supervisados Para la Identificación de Ransomware en Tráfico de Red"
   ]
  },
  {
   "cell_type": "markdown",
   "metadata": {},
   "source": [
    "##### NOTA: SE DEBE REDISTRIBUIR MEJOR LOS DATOS DE PRUEBA, ESTAN DEMASIADO DESBALANCEADOS LA CANTIDAD DE DATOS DE BENIGNOS Y RANSOMWARE. LO QUE AFECTA A LA TOMA DE DATOS DE ENTRAMIENTO, TESTING Y VALIDACIÓN"
   ]
  },
  {
   "cell_type": "code",
   "execution_count": 1,
   "metadata": {},
   "outputs": [],
   "source": [
    "import numpy as np\n",
    "import pandas as pd\n",
    "import scipy.stats as stats\n",
    "import matplotlib.pyplot as plt\n",
    "import sklearn\n",
    "import seaborn as sns\n",
    "%matplotlib inline "
   ]
  },
  {
   "cell_type": "markdown",
   "metadata": {},
   "source": [
    "#### Establecemos los path de los data set a utilizar"
   ]
  },
  {
   "cell_type": "code",
   "execution_count": 3,
   "metadata": {},
   "outputs": [],
   "source": [
    "path_dataset1 = \"Dataset_benigno_ransomware/Dataset01.csv\"\n",
    "path_dataset2 = \"Dataset_benigno_ransomware/Dataset02.csv\""
   ]
  },
  {
   "cell_type": "markdown",
   "metadata": {},
   "source": [
    "### DATA SET 1 - BINARIO"
   ]
  },
  {
   "cell_type": "code",
   "execution_count": 3,
   "metadata": {},
   "outputs": [],
   "source": [
    "data = pd.read_csv(path_dataset1)"
   ]
  },
  {
   "cell_type": "markdown",
   "metadata": {},
   "source": [
    "### INFORMACIÓN COLUMNAS\n",
    "\n",
    "|ID| Característica #  | Descripción    | \n",
    "|---:|:-------------|:-----------|\n",
    "| 1 | Flow duration  | Duración de flujos en microsegundos       | \n",
    "| 2 | flowBytesPerSecond  | Número de flujos de bytes por segundo    |\n",
    "| 3 | total opackets  | Total de Paquetes en al dirección de salida    |\n",
    "| 4 |  total ipackets  |  Total de paquetes en dirección de entrada    |\n",
    "| 5 | min opktl  | Tamaño mínimo de paquetes con dirección de salida    |\n",
    "| 6 | max opktl  | Máximo tamaño del paquete con dirección de salida   |\n",
    "| 7 | mean opktl  | Tamaño Medio del paquete con dirección de salida   |\n",
    "| 8 | std opktl  | Número de flujos de bytes por segundo    |\n",
    "| 9 | min ipktl  | Mínimo tamaño de paquete con dirección de entrada    |\n",
    "| 10 | max ipktl  | Tamaño máximo de paquete con dirección de entrada    |\n",
    "| 11 | mean ipktl   | Tamaño Medio del paquete con dirección de entrada    |\n",
    "| 12 | std ipktl  | Desviación estándar de paquetes con dirección de entrada   |\n",
    "| 13 | min flowpktl  | Mínimo tamaño de un flujo    |\n",
    "| 14 | max flowpktl  | Máximo tamaño de un flujo    |\n",
    "| 15 | mean flowpktl  | Media del tamaño de un flujo    |\n",
    "\n",
    "A esto debe añadirse la columna 'Label' que indica si el información hace referencia a un dato benigno o a un ransomware"
   ]
  },
  {
   "cell_type": "code",
   "execution_count": 4,
   "metadata": {},
   "outputs": [
    {
     "name": "stdout",
     "output_type": "stream",
     "text": [
      "<class 'pandas.core.frame.DataFrame'>\n",
      "RangeIndex: 212795 entries, 0 to 212794\n",
      "Data columns (total 16 columns):\n",
      "Flow Duration       212795 non-null int64\n",
      "Tot Fwd Pkts        212795 non-null int64\n",
      "Tot Bwd Pkts        212795 non-null int64\n",
      "TotLen Fwd Pkts     212795 non-null int64\n",
      "TotLen Bwd Pkts     212795 non-null int64\n",
      "Fwd Pkt Len Min     212795 non-null int64\n",
      "Bwd Pkt Len Min     212795 non-null float64\n",
      "Fwd Pkt Len Max     212795 non-null int64\n",
      "Bwd Pkt Len Max     212795 non-null int64\n",
      "Fwd Pkt Len Mean    212795 non-null float64\n",
      "Bwd Pkt Len Mean    212795 non-null float64\n",
      "Fwd Pkt Len Std     212795 non-null float64\n",
      "Bwd Pkt Len Std     212795 non-null float64\n",
      "Flow Pkts/s         212795 non-null float64\n",
      "Flow Byts/s         212795 non-null float64\n",
      "Label               212795 non-null object\n",
      "dtypes: float64(7), int64(8), object(1)\n",
      "memory usage: 26.0+ MB\n"
     ]
    }
   ],
   "source": [
    "data.info()"
   ]
  },
  {
   "cell_type": "code",
   "execution_count": 5,
   "metadata": {},
   "outputs": [
    {
     "data": {
      "text/plain": [
       "(212795, 16)"
      ]
     },
     "execution_count": 5,
     "metadata": {},
     "output_type": "execute_result"
    }
   ],
   "source": [
    "data.shape"
   ]
  },
  {
   "cell_type": "code",
   "execution_count": 6,
   "metadata": {},
   "outputs": [
    {
     "data": {
      "text/plain": [
       "0            Benigno\n",
       "1            Benigno\n",
       "2            Benigno\n",
       "3            Benigno\n",
       "4            Benigno\n",
       "             ...    \n",
       "212790    Ransomware\n",
       "212791    Ransomware\n",
       "212792    Ransomware\n",
       "212793       Benigno\n",
       "212794    Ransomware\n",
       "Name: Label, Length: 212795, dtype: object"
      ]
     },
     "execution_count": 6,
     "metadata": {},
     "output_type": "execute_result"
    }
   ],
   "source": [
    "data['Label']"
   ]
  },
  {
   "cell_type": "code",
   "execution_count": 7,
   "metadata": {},
   "outputs": [
    {
     "data": {
      "text/plain": [
       "array(['Benigno', 'Ransomware'], dtype=object)"
      ]
     },
     "execution_count": 7,
     "metadata": {},
     "output_type": "execute_result"
    }
   ],
   "source": [
    "data['Label'].unique()"
   ]
  },
  {
   "cell_type": "markdown",
   "metadata": {},
   "source": [
    "### Se observa que la columna 'Label' es de tipo string, por tal razón se generará una columna denominada 'binaryLabel', la cual representará el valor de la columna 'Label' de forma binaria, de la siguiente forma:\n",
    "\n",
    "#### Beningo = 1\n",
    "#### Ransomware = 0"
   ]
  },
  {
   "cell_type": "code",
   "execution_count": 8,
   "metadata": {},
   "outputs": [],
   "source": [
    "def transform_label(x):\n",
    "    return 1 if(x == 'Benigno') else 0"
   ]
  },
  {
   "cell_type": "code",
   "execution_count": 9,
   "metadata": {},
   "outputs": [],
   "source": [
    "data['binaryLabel']=data['Label'].apply(transform_label)"
   ]
  },
  {
   "cell_type": "code",
   "execution_count": 11,
   "metadata": {},
   "outputs": [],
   "source": [
    "def matirx_binary_label(x, name):\n",
    "    if(x == name):\n",
    "        return 1\n",
    "    else:\n",
    "        return 0"
   ]
  },
  {
   "cell_type": "code",
   "execution_count": 12,
   "metadata": {},
   "outputs": [],
   "source": [
    "data['benignoLabel']=data['Label'].apply(matirx_binary_label, name='Benigno')"
   ]
  },
  {
   "cell_type": "code",
   "execution_count": 13,
   "metadata": {},
   "outputs": [],
   "source": [
    "data['ransomwareLabel']=data['Label'].apply(matirx_binary_label, name='Ransomware')"
   ]
  },
  {
   "cell_type": "code",
   "execution_count": 14,
   "metadata": {},
   "outputs": [
    {
     "data": {
      "text/html": [
       "<div>\n",
       "<style scoped>\n",
       "    .dataframe tbody tr th:only-of-type {\n",
       "        vertical-align: middle;\n",
       "    }\n",
       "\n",
       "    .dataframe tbody tr th {\n",
       "        vertical-align: top;\n",
       "    }\n",
       "\n",
       "    .dataframe thead th {\n",
       "        text-align: right;\n",
       "    }\n",
       "</style>\n",
       "<table border=\"1\" class=\"dataframe\">\n",
       "  <thead>\n",
       "    <tr style=\"text-align: right;\">\n",
       "      <th></th>\n",
       "      <th>Flow Duration</th>\n",
       "      <th>Tot Fwd Pkts</th>\n",
       "      <th>Tot Bwd Pkts</th>\n",
       "      <th>TotLen Fwd Pkts</th>\n",
       "      <th>TotLen Bwd Pkts</th>\n",
       "      <th>Fwd Pkt Len Min</th>\n",
       "      <th>Bwd Pkt Len Min</th>\n",
       "      <th>Fwd Pkt Len Max</th>\n",
       "      <th>Bwd Pkt Len Max</th>\n",
       "      <th>Fwd Pkt Len Mean</th>\n",
       "      <th>Bwd Pkt Len Mean</th>\n",
       "      <th>Fwd Pkt Len Std</th>\n",
       "      <th>Bwd Pkt Len Std</th>\n",
       "      <th>Flow Pkts/s</th>\n",
       "      <th>Flow Byts/s</th>\n",
       "      <th>Label</th>\n",
       "      <th>binaryLabel</th>\n",
       "      <th>benignoLabel</th>\n",
       "      <th>ransomwareLabel</th>\n",
       "    </tr>\n",
       "  </thead>\n",
       "  <tbody>\n",
       "    <tr>\n",
       "      <td>0</td>\n",
       "      <td>13</td>\n",
       "      <td>0</td>\n",
       "      <td>2</td>\n",
       "      <td>0</td>\n",
       "      <td>135</td>\n",
       "      <td>-1</td>\n",
       "      <td>52.0</td>\n",
       "      <td>-1</td>\n",
       "      <td>83</td>\n",
       "      <td>0.0</td>\n",
       "      <td>67.5</td>\n",
       "      <td>0.0</td>\n",
       "      <td>21.897488</td>\n",
       "      <td>153846.1538</td>\n",
       "      <td>1.040000e+07</td>\n",
       "      <td>Benigno</td>\n",
       "      <td>1</td>\n",
       "      <td>1</td>\n",
       "      <td>0</td>\n",
       "    </tr>\n",
       "    <tr>\n",
       "      <td>1</td>\n",
       "      <td>15</td>\n",
       "      <td>0</td>\n",
       "      <td>2</td>\n",
       "      <td>0</td>\n",
       "      <td>135</td>\n",
       "      <td>-1</td>\n",
       "      <td>52.0</td>\n",
       "      <td>-1</td>\n",
       "      <td>83</td>\n",
       "      <td>0.0</td>\n",
       "      <td>67.5</td>\n",
       "      <td>0.0</td>\n",
       "      <td>21.897488</td>\n",
       "      <td>133333.3333</td>\n",
       "      <td>9.000000e+06</td>\n",
       "      <td>Benigno</td>\n",
       "      <td>1</td>\n",
       "      <td>1</td>\n",
       "      <td>0</td>\n",
       "    </tr>\n",
       "    <tr>\n",
       "      <td>2</td>\n",
       "      <td>14</td>\n",
       "      <td>0</td>\n",
       "      <td>2</td>\n",
       "      <td>0</td>\n",
       "      <td>111</td>\n",
       "      <td>-1</td>\n",
       "      <td>40.0</td>\n",
       "      <td>-1</td>\n",
       "      <td>71</td>\n",
       "      <td>0.0</td>\n",
       "      <td>55.5</td>\n",
       "      <td>0.0</td>\n",
       "      <td>21.897488</td>\n",
       "      <td>142857.1429</td>\n",
       "      <td>7.928571e+06</td>\n",
       "      <td>Benigno</td>\n",
       "      <td>1</td>\n",
       "      <td>1</td>\n",
       "      <td>0</td>\n",
       "    </tr>\n",
       "    <tr>\n",
       "      <td>3</td>\n",
       "      <td>0</td>\n",
       "      <td>0</td>\n",
       "      <td>1</td>\n",
       "      <td>0</td>\n",
       "      <td>83</td>\n",
       "      <td>-1</td>\n",
       "      <td>83.0</td>\n",
       "      <td>-1</td>\n",
       "      <td>83</td>\n",
       "      <td>0.0</td>\n",
       "      <td>83.0</td>\n",
       "      <td>0.0</td>\n",
       "      <td>0.000000</td>\n",
       "      <td>0.0000</td>\n",
       "      <td>0.000000e+00</td>\n",
       "      <td>Benigno</td>\n",
       "      <td>1</td>\n",
       "      <td>1</td>\n",
       "      <td>0</td>\n",
       "    </tr>\n",
       "    <tr>\n",
       "      <td>4</td>\n",
       "      <td>13</td>\n",
       "      <td>0</td>\n",
       "      <td>2</td>\n",
       "      <td>0</td>\n",
       "      <td>159</td>\n",
       "      <td>-1</td>\n",
       "      <td>52.0</td>\n",
       "      <td>-1</td>\n",
       "      <td>107</td>\n",
       "      <td>0.0</td>\n",
       "      <td>79.5</td>\n",
       "      <td>0.0</td>\n",
       "      <td>38.878014</td>\n",
       "      <td>153846.1538</td>\n",
       "      <td>1.220000e+07</td>\n",
       "      <td>Benigno</td>\n",
       "      <td>1</td>\n",
       "      <td>1</td>\n",
       "      <td>0</td>\n",
       "    </tr>\n",
       "  </tbody>\n",
       "</table>\n",
       "</div>"
      ],
      "text/plain": [
       "   Flow Duration  Tot Fwd Pkts  Tot Bwd Pkts  TotLen Fwd Pkts  \\\n",
       "0             13             0             2                0   \n",
       "1             15             0             2                0   \n",
       "2             14             0             2                0   \n",
       "3              0             0             1                0   \n",
       "4             13             0             2                0   \n",
       "\n",
       "   TotLen Bwd Pkts  Fwd Pkt Len Min  Bwd Pkt Len Min  Fwd Pkt Len Max  \\\n",
       "0              135               -1             52.0               -1   \n",
       "1              135               -1             52.0               -1   \n",
       "2              111               -1             40.0               -1   \n",
       "3               83               -1             83.0               -1   \n",
       "4              159               -1             52.0               -1   \n",
       "\n",
       "   Bwd Pkt Len Max  Fwd Pkt Len Mean  Bwd Pkt Len Mean  Fwd Pkt Len Std  \\\n",
       "0               83               0.0              67.5              0.0   \n",
       "1               83               0.0              67.5              0.0   \n",
       "2               71               0.0              55.5              0.0   \n",
       "3               83               0.0              83.0              0.0   \n",
       "4              107               0.0              79.5              0.0   \n",
       "\n",
       "   Bwd Pkt Len Std  Flow Pkts/s   Flow Byts/s    Label  binaryLabel  \\\n",
       "0        21.897488  153846.1538  1.040000e+07  Benigno            1   \n",
       "1        21.897488  133333.3333  9.000000e+06  Benigno            1   \n",
       "2        21.897488  142857.1429  7.928571e+06  Benigno            1   \n",
       "3         0.000000       0.0000  0.000000e+00  Benigno            1   \n",
       "4        38.878014  153846.1538  1.220000e+07  Benigno            1   \n",
       "\n",
       "   benignoLabel  ransomwareLabel  \n",
       "0             1                0  \n",
       "1             1                0  \n",
       "2             1                0  \n",
       "3             1                0  \n",
       "4             1                0  "
      ]
     },
     "execution_count": 14,
     "metadata": {},
     "output_type": "execute_result"
    }
   ],
   "source": [
    "data.head()"
   ]
  },
  {
   "cell_type": "code",
   "execution_count": 15,
   "metadata": {},
   "outputs": [
    {
     "data": {
      "text/plain": [
       "Index(['Flow Duration', 'Tot Fwd Pkts', 'Tot Bwd Pkts', 'TotLen Fwd Pkts',\n",
       "       'TotLen Bwd Pkts', 'Fwd Pkt Len Min', 'Bwd Pkt Len Min',\n",
       "       'Fwd Pkt Len Max', 'Bwd Pkt Len Max', 'Fwd Pkt Len Mean',\n",
       "       'Bwd Pkt Len Mean', 'Fwd Pkt Len Std', 'Bwd Pkt Len Std', 'Flow Pkts/s',\n",
       "       'Flow Byts/s', 'Label', 'binaryLabel', 'benignoLabel',\n",
       "       'ransomwareLabel'],\n",
       "      dtype='object')"
      ]
     },
     "execution_count": 15,
     "metadata": {},
     "output_type": "execute_result"
    }
   ],
   "source": [
    "data.columns"
   ]
  },
  {
   "cell_type": "code",
   "execution_count": 16,
   "metadata": {},
   "outputs": [
    {
     "data": {
      "text/plain": [
       "19"
      ]
     },
     "execution_count": 16,
     "metadata": {},
     "output_type": "execute_result"
    }
   ],
   "source": [
    "len(data.columns)"
   ]
  },
  {
   "cell_type": "markdown",
   "metadata": {},
   "source": [
    "#### Eliminamos la columna 'Label' debido a que utilizaremos la nueva columna generada "
   ]
  },
  {
   "cell_type": "code",
   "execution_count": 17,
   "metadata": {},
   "outputs": [],
   "source": [
    "data.drop(axis=1,inplace=True,columns=['Label'])"
   ]
  },
  {
   "cell_type": "markdown",
   "metadata": {},
   "source": [
    "### Análisis Exploratorio"
   ]
  },
  {
   "cell_type": "code",
   "execution_count": 18,
   "metadata": {},
   "outputs": [
    {
     "data": {
      "text/html": [
       "<div>\n",
       "<style scoped>\n",
       "    .dataframe tbody tr th:only-of-type {\n",
       "        vertical-align: middle;\n",
       "    }\n",
       "\n",
       "    .dataframe tbody tr th {\n",
       "        vertical-align: top;\n",
       "    }\n",
       "\n",
       "    .dataframe thead th {\n",
       "        text-align: right;\n",
       "    }\n",
       "</style>\n",
       "<table border=\"1\" class=\"dataframe\">\n",
       "  <thead>\n",
       "    <tr style=\"text-align: right;\">\n",
       "      <th></th>\n",
       "      <th>Flow Duration</th>\n",
       "      <th>Tot Fwd Pkts</th>\n",
       "      <th>Tot Bwd Pkts</th>\n",
       "      <th>TotLen Fwd Pkts</th>\n",
       "      <th>TotLen Bwd Pkts</th>\n",
       "      <th>Fwd Pkt Len Min</th>\n",
       "      <th>Bwd Pkt Len Min</th>\n",
       "      <th>Fwd Pkt Len Max</th>\n",
       "      <th>Bwd Pkt Len Max</th>\n",
       "      <th>Fwd Pkt Len Mean</th>\n",
       "      <th>Bwd Pkt Len Mean</th>\n",
       "      <th>Fwd Pkt Len Std</th>\n",
       "      <th>Bwd Pkt Len Std</th>\n",
       "      <th>Flow Pkts/s</th>\n",
       "      <th>Flow Byts/s</th>\n",
       "      <th>binaryLabel</th>\n",
       "      <th>benignoLabel</th>\n",
       "      <th>ransomwareLabel</th>\n",
       "    </tr>\n",
       "  </thead>\n",
       "  <tbody>\n",
       "    <tr>\n",
       "      <td>count</td>\n",
       "      <td>2.127950e+05</td>\n",
       "      <td>2.127950e+05</td>\n",
       "      <td>212795.000000</td>\n",
       "      <td>2.127950e+05</td>\n",
       "      <td>2.127950e+05</td>\n",
       "      <td>212795.000000</td>\n",
       "      <td>212795.000000</td>\n",
       "      <td>212795.000000</td>\n",
       "      <td>212795.000000</td>\n",
       "      <td>212795.000000</td>\n",
       "      <td>212795.000000</td>\n",
       "      <td>212795.000000</td>\n",
       "      <td>212795.000000</td>\n",
       "      <td>2.127950e+05</td>\n",
       "      <td>2.127950e+05</td>\n",
       "      <td>212795.000000</td>\n",
       "      <td>212795.000000</td>\n",
       "      <td>212795.000000</td>\n",
       "    </tr>\n",
       "    <tr>\n",
       "      <td>mean</td>\n",
       "      <td>2.422540e+07</td>\n",
       "      <td>2.043308e+04</td>\n",
       "      <td>5.810146</td>\n",
       "      <td>1.085226e+03</td>\n",
       "      <td>9.085128e+03</td>\n",
       "      <td>238.715280</td>\n",
       "      <td>45.956728</td>\n",
       "      <td>259.632703</td>\n",
       "      <td>192.447562</td>\n",
       "      <td>163.740223</td>\n",
       "      <td>110.319757</td>\n",
       "      <td>58.171107</td>\n",
       "      <td>65.224459</td>\n",
       "      <td>3.329488e+04</td>\n",
       "      <td>1.752033e+06</td>\n",
       "      <td>0.648074</td>\n",
       "      <td>0.648074</td>\n",
       "      <td>0.351926</td>\n",
       "    </tr>\n",
       "    <tr>\n",
       "      <td>std</td>\n",
       "      <td>1.801012e+08</td>\n",
       "      <td>1.687524e+06</td>\n",
       "      <td>172.177682</td>\n",
       "      <td>2.736665e+04</td>\n",
       "      <td>2.513910e+05</td>\n",
       "      <td>359.060019</td>\n",
       "      <td>91.031050</td>\n",
       "      <td>301.277188</td>\n",
       "      <td>378.868557</td>\n",
       "      <td>158.776634</td>\n",
       "      <td>212.217955</td>\n",
       "      <td>130.460713</td>\n",
       "      <td>160.771440</td>\n",
       "      <td>1.699153e+05</td>\n",
       "      <td>9.293515e+06</td>\n",
       "      <td>0.477572</td>\n",
       "      <td>0.477572</td>\n",
       "      <td>0.477572</td>\n",
       "    </tr>\n",
       "    <tr>\n",
       "      <td>min</td>\n",
       "      <td>-1.800000e+01</td>\n",
       "      <td>0.000000e+00</td>\n",
       "      <td>0.000000</td>\n",
       "      <td>0.000000e+00</td>\n",
       "      <td>0.000000e+00</td>\n",
       "      <td>-1.000000</td>\n",
       "      <td>-1.000000</td>\n",
       "      <td>-1.000000</td>\n",
       "      <td>-1.000000</td>\n",
       "      <td>0.000000</td>\n",
       "      <td>0.000000</td>\n",
       "      <td>0.000000</td>\n",
       "      <td>0.000000</td>\n",
       "      <td>0.000000e+00</td>\n",
       "      <td>0.000000e+00</td>\n",
       "      <td>0.000000</td>\n",
       "      <td>0.000000</td>\n",
       "      <td>0.000000</td>\n",
       "    </tr>\n",
       "    <tr>\n",
       "      <td>25%</td>\n",
       "      <td>0.000000e+00</td>\n",
       "      <td>1.000000e+00</td>\n",
       "      <td>0.000000</td>\n",
       "      <td>1.040000e+02</td>\n",
       "      <td>0.000000e+00</td>\n",
       "      <td>52.000000</td>\n",
       "      <td>-1.000000</td>\n",
       "      <td>52.000000</td>\n",
       "      <td>-1.000000</td>\n",
       "      <td>52.000000</td>\n",
       "      <td>0.000000</td>\n",
       "      <td>0.000000</td>\n",
       "      <td>0.000000</td>\n",
       "      <td>0.000000e+00</td>\n",
       "      <td>0.000000e+00</td>\n",
       "      <td>0.000000</td>\n",
       "      <td>0.000000</td>\n",
       "      <td>0.000000</td>\n",
       "    </tr>\n",
       "    <tr>\n",
       "      <td>50%</td>\n",
       "      <td>3.351200e+04</td>\n",
       "      <td>2.000000e+00</td>\n",
       "      <td>1.000000</td>\n",
       "      <td>4.200000e+02</td>\n",
       "      <td>1.640000e+02</td>\n",
       "      <td>114.000000</td>\n",
       "      <td>-1.000000</td>\n",
       "      <td>83.000000</td>\n",
       "      <td>-1.000000</td>\n",
       "      <td>70.000000</td>\n",
       "      <td>0.000000</td>\n",
       "      <td>0.000000</td>\n",
       "      <td>0.000000</td>\n",
       "      <td>5.528303e-01</td>\n",
       "      <td>7.002158e+01</td>\n",
       "      <td>1.000000</td>\n",
       "      <td>1.000000</td>\n",
       "      <td>0.000000</td>\n",
       "    </tr>\n",
       "    <tr>\n",
       "      <td>75%</td>\n",
       "      <td>3.316564e+06</td>\n",
       "      <td>1.000000e+01</td>\n",
       "      <td>4.000000</td>\n",
       "      <td>1.469000e+03</td>\n",
       "      <td>8.720000e+03</td>\n",
       "      <td>420.000000</td>\n",
       "      <td>52.000000</td>\n",
       "      <td>420.000000</td>\n",
       "      <td>176.000000</td>\n",
       "      <td>297.000000</td>\n",
       "      <td>106.200000</td>\n",
       "      <td>19.065676</td>\n",
       "      <td>1.000000</td>\n",
       "      <td>6.013772e+01</td>\n",
       "      <td>6.232552e+03</td>\n",
       "      <td>1.000000</td>\n",
       "      <td>1.000000</td>\n",
       "      <td>1.000000</td>\n",
       "    </tr>\n",
       "    <tr>\n",
       "      <td>max</td>\n",
       "      <td>1.154108e+10</td>\n",
       "      <td>2.630639e+08</td>\n",
       "      <td>53758.000000</td>\n",
       "      <td>1.220839e+07</td>\n",
       "      <td>7.463559e+07</td>\n",
       "      <td>126552.000000</td>\n",
       "      <td>1390.000000</td>\n",
       "      <td>1500.000000</td>\n",
       "      <td>1390.000000</td>\n",
       "      <td>1390.000000</td>\n",
       "      <td>1390.000000</td>\n",
       "      <td>954.593631</td>\n",
       "      <td>946.108345</td>\n",
       "      <td>2.000000e+06</td>\n",
       "      <td>7.440000e+08</td>\n",
       "      <td>1.000000</td>\n",
       "      <td>1.000000</td>\n",
       "      <td>1.000000</td>\n",
       "    </tr>\n",
       "  </tbody>\n",
       "</table>\n",
       "</div>"
      ],
      "text/plain": [
       "       Flow Duration  Tot Fwd Pkts   Tot Bwd Pkts  TotLen Fwd Pkts  \\\n",
       "count   2.127950e+05  2.127950e+05  212795.000000     2.127950e+05   \n",
       "mean    2.422540e+07  2.043308e+04       5.810146     1.085226e+03   \n",
       "std     1.801012e+08  1.687524e+06     172.177682     2.736665e+04   \n",
       "min    -1.800000e+01  0.000000e+00       0.000000     0.000000e+00   \n",
       "25%     0.000000e+00  1.000000e+00       0.000000     1.040000e+02   \n",
       "50%     3.351200e+04  2.000000e+00       1.000000     4.200000e+02   \n",
       "75%     3.316564e+06  1.000000e+01       4.000000     1.469000e+03   \n",
       "max     1.154108e+10  2.630639e+08   53758.000000     1.220839e+07   \n",
       "\n",
       "       TotLen Bwd Pkts  Fwd Pkt Len Min  Bwd Pkt Len Min  Fwd Pkt Len Max  \\\n",
       "count     2.127950e+05    212795.000000    212795.000000    212795.000000   \n",
       "mean      9.085128e+03       238.715280        45.956728       259.632703   \n",
       "std       2.513910e+05       359.060019        91.031050       301.277188   \n",
       "min       0.000000e+00        -1.000000        -1.000000        -1.000000   \n",
       "25%       0.000000e+00        52.000000        -1.000000        52.000000   \n",
       "50%       1.640000e+02       114.000000        -1.000000        83.000000   \n",
       "75%       8.720000e+03       420.000000        52.000000       420.000000   \n",
       "max       7.463559e+07    126552.000000      1390.000000      1500.000000   \n",
       "\n",
       "       Bwd Pkt Len Max  Fwd Pkt Len Mean  Bwd Pkt Len Mean  Fwd Pkt Len Std  \\\n",
       "count    212795.000000     212795.000000     212795.000000    212795.000000   \n",
       "mean        192.447562        163.740223        110.319757        58.171107   \n",
       "std         378.868557        158.776634        212.217955       130.460713   \n",
       "min          -1.000000          0.000000          0.000000         0.000000   \n",
       "25%          -1.000000         52.000000          0.000000         0.000000   \n",
       "50%          -1.000000         70.000000          0.000000         0.000000   \n",
       "75%         176.000000        297.000000        106.200000        19.065676   \n",
       "max        1390.000000       1390.000000       1390.000000       954.593631   \n",
       "\n",
       "       Bwd Pkt Len Std   Flow Pkts/s   Flow Byts/s    binaryLabel  \\\n",
       "count    212795.000000  2.127950e+05  2.127950e+05  212795.000000   \n",
       "mean         65.224459  3.329488e+04  1.752033e+06       0.648074   \n",
       "std         160.771440  1.699153e+05  9.293515e+06       0.477572   \n",
       "min           0.000000  0.000000e+00  0.000000e+00       0.000000   \n",
       "25%           0.000000  0.000000e+00  0.000000e+00       0.000000   \n",
       "50%           0.000000  5.528303e-01  7.002158e+01       1.000000   \n",
       "75%           1.000000  6.013772e+01  6.232552e+03       1.000000   \n",
       "max         946.108345  2.000000e+06  7.440000e+08       1.000000   \n",
       "\n",
       "        benignoLabel  ransomwareLabel  \n",
       "count  212795.000000    212795.000000  \n",
       "mean        0.648074         0.351926  \n",
       "std         0.477572         0.477572  \n",
       "min         0.000000         0.000000  \n",
       "25%         0.000000         0.000000  \n",
       "50%         1.000000         0.000000  \n",
       "75%         1.000000         1.000000  \n",
       "max         1.000000         1.000000  "
      ]
     },
     "execution_count": 18,
     "metadata": {},
     "output_type": "execute_result"
    }
   ],
   "source": [
    "data.describe()"
   ]
  },
  {
   "cell_type": "markdown",
   "metadata": {},
   "source": [
    "##### Vemos la correlacion de las variables"
   ]
  },
  {
   "cell_type": "code",
   "execution_count": 19,
   "metadata": {},
   "outputs": [
    {
     "data": {
      "text/html": [
       "<div>\n",
       "<style scoped>\n",
       "    .dataframe tbody tr th:only-of-type {\n",
       "        vertical-align: middle;\n",
       "    }\n",
       "\n",
       "    .dataframe tbody tr th {\n",
       "        vertical-align: top;\n",
       "    }\n",
       "\n",
       "    .dataframe thead th {\n",
       "        text-align: right;\n",
       "    }\n",
       "</style>\n",
       "<table border=\"1\" class=\"dataframe\">\n",
       "  <thead>\n",
       "    <tr style=\"text-align: right;\">\n",
       "      <th></th>\n",
       "      <th>Flow Duration</th>\n",
       "      <th>Tot Fwd Pkts</th>\n",
       "      <th>Tot Bwd Pkts</th>\n",
       "      <th>TotLen Fwd Pkts</th>\n",
       "      <th>TotLen Bwd Pkts</th>\n",
       "      <th>Fwd Pkt Len Min</th>\n",
       "      <th>Bwd Pkt Len Min</th>\n",
       "      <th>Fwd Pkt Len Max</th>\n",
       "      <th>Bwd Pkt Len Max</th>\n",
       "      <th>Fwd Pkt Len Mean</th>\n",
       "      <th>Bwd Pkt Len Mean</th>\n",
       "      <th>Fwd Pkt Len Std</th>\n",
       "      <th>Bwd Pkt Len Std</th>\n",
       "      <th>Flow Pkts/s</th>\n",
       "      <th>Flow Byts/s</th>\n",
       "      <th>binaryLabel</th>\n",
       "      <th>benignoLabel</th>\n",
       "      <th>ransomwareLabel</th>\n",
       "    </tr>\n",
       "  </thead>\n",
       "  <tbody>\n",
       "    <tr>\n",
       "      <td>Flow Duration</td>\n",
       "      <td>1.000000</td>\n",
       "      <td>-0.000716</td>\n",
       "      <td>0.006230</td>\n",
       "      <td>0.006959</td>\n",
       "      <td>0.006073</td>\n",
       "      <td>0.004475</td>\n",
       "      <td>-0.035321</td>\n",
       "      <td>0.000903</td>\n",
       "      <td>0.032044</td>\n",
       "      <td>-0.045544</td>\n",
       "      <td>0.014324</td>\n",
       "      <td>0.028341</td>\n",
       "      <td>0.039825</td>\n",
       "      <td>-0.002011</td>\n",
       "      <td>-0.003201</td>\n",
       "      <td>-0.063908</td>\n",
       "      <td>-0.063908</td>\n",
       "      <td>0.063908</td>\n",
       "    </tr>\n",
       "    <tr>\n",
       "      <td>Tot Fwd Pkts</td>\n",
       "      <td>-0.000716</td>\n",
       "      <td>1.000000</td>\n",
       "      <td>0.000173</td>\n",
       "      <td>-0.000460</td>\n",
       "      <td>-0.000321</td>\n",
       "      <td>0.080409</td>\n",
       "      <td>0.002213</td>\n",
       "      <td>-0.002693</td>\n",
       "      <td>0.000929</td>\n",
       "      <td>-0.003809</td>\n",
       "      <td>-0.000001</td>\n",
       "      <td>-0.001153</td>\n",
       "      <td>0.002340</td>\n",
       "      <td>-0.002327</td>\n",
       "      <td>-0.002219</td>\n",
       "      <td>-0.015334</td>\n",
       "      <td>-0.015334</td>\n",
       "      <td>0.015334</td>\n",
       "    </tr>\n",
       "    <tr>\n",
       "      <td>Tot Bwd Pkts</td>\n",
       "      <td>0.006230</td>\n",
       "      <td>0.000173</td>\n",
       "      <td>1.000000</td>\n",
       "      <td>0.179983</td>\n",
       "      <td>0.933032</td>\n",
       "      <td>-0.008401</td>\n",
       "      <td>0.003373</td>\n",
       "      <td>0.020968</td>\n",
       "      <td>0.059122</td>\n",
       "      <td>-0.010896</td>\n",
       "      <td>0.094241</td>\n",
       "      <td>0.008214</td>\n",
       "      <td>0.021124</td>\n",
       "      <td>-0.003752</td>\n",
       "      <td>-0.002629</td>\n",
       "      <td>0.004596</td>\n",
       "      <td>0.004596</td>\n",
       "      <td>-0.004596</td>\n",
       "    </tr>\n",
       "    <tr>\n",
       "      <td>TotLen Fwd Pkts</td>\n",
       "      <td>0.006959</td>\n",
       "      <td>-0.000460</td>\n",
       "      <td>0.179983</td>\n",
       "      <td>1.000000</td>\n",
       "      <td>0.123478</td>\n",
       "      <td>0.002232</td>\n",
       "      <td>0.000896</td>\n",
       "      <td>0.026386</td>\n",
       "      <td>0.022584</td>\n",
       "      <td>0.021697</td>\n",
       "      <td>0.022750</td>\n",
       "      <td>0.018101</td>\n",
       "      <td>0.014644</td>\n",
       "      <td>-0.001918</td>\n",
       "      <td>-0.001687</td>\n",
       "      <td>-0.013130</td>\n",
       "      <td>-0.013130</td>\n",
       "      <td>0.013130</td>\n",
       "    </tr>\n",
       "    <tr>\n",
       "      <td>TotLen Bwd Pkts</td>\n",
       "      <td>0.006073</td>\n",
       "      <td>-0.000321</td>\n",
       "      <td>0.933032</td>\n",
       "      <td>0.123478</td>\n",
       "      <td>1.000000</td>\n",
       "      <td>-0.001919</td>\n",
       "      <td>0.001957</td>\n",
       "      <td>0.013190</td>\n",
       "      <td>0.048257</td>\n",
       "      <td>-0.014111</td>\n",
       "      <td>0.082515</td>\n",
       "      <td>0.003977</td>\n",
       "      <td>0.013116</td>\n",
       "      <td>-0.001522</td>\n",
       "      <td>-0.000467</td>\n",
       "      <td>-0.010032</td>\n",
       "      <td>-0.010032</td>\n",
       "      <td>0.010032</td>\n",
       "    </tr>\n",
       "    <tr>\n",
       "      <td>Fwd Pkt Len Min</td>\n",
       "      <td>0.004475</td>\n",
       "      <td>0.080409</td>\n",
       "      <td>-0.008401</td>\n",
       "      <td>0.002232</td>\n",
       "      <td>-0.001919</td>\n",
       "      <td>1.000000</td>\n",
       "      <td>-0.081856</td>\n",
       "      <td>0.079691</td>\n",
       "      <td>-0.063171</td>\n",
       "      <td>0.200373</td>\n",
       "      <td>-0.066490</td>\n",
       "      <td>-0.030798</td>\n",
       "      <td>-0.045330</td>\n",
       "      <td>-0.026579</td>\n",
       "      <td>-0.026833</td>\n",
       "      <td>-0.230654</td>\n",
       "      <td>-0.230654</td>\n",
       "      <td>0.230654</td>\n",
       "    </tr>\n",
       "    <tr>\n",
       "      <td>Bwd Pkt Len Min</td>\n",
       "      <td>-0.035321</td>\n",
       "      <td>0.002213</td>\n",
       "      <td>0.003373</td>\n",
       "      <td>0.000896</td>\n",
       "      <td>0.001957</td>\n",
       "      <td>-0.081856</td>\n",
       "      <td>1.000000</td>\n",
       "      <td>-0.069515</td>\n",
       "      <td>0.260626</td>\n",
       "      <td>-0.187629</td>\n",
       "      <td>0.437099</td>\n",
       "      <td>0.042064</td>\n",
       "      <td>0.030949</td>\n",
       "      <td>-0.041702</td>\n",
       "      <td>-0.037918</td>\n",
       "      <td>-0.035651</td>\n",
       "      <td>-0.035651</td>\n",
       "      <td>0.035651</td>\n",
       "    </tr>\n",
       "    <tr>\n",
       "      <td>Fwd Pkt Len Max</td>\n",
       "      <td>0.000903</td>\n",
       "      <td>-0.002693</td>\n",
       "      <td>0.020968</td>\n",
       "      <td>0.026386</td>\n",
       "      <td>0.013190</td>\n",
       "      <td>0.079691</td>\n",
       "      <td>-0.069515</td>\n",
       "      <td>1.000000</td>\n",
       "      <td>0.500764</td>\n",
       "      <td>0.700446</td>\n",
       "      <td>0.354749</td>\n",
       "      <td>0.839363</td>\n",
       "      <td>0.538054</td>\n",
       "      <td>-0.072961</td>\n",
       "      <td>-0.068300</td>\n",
       "      <td>0.037498</td>\n",
       "      <td>0.037498</td>\n",
       "      <td>-0.037498</td>\n",
       "    </tr>\n",
       "    <tr>\n",
       "      <td>Bwd Pkt Len Max</td>\n",
       "      <td>0.032044</td>\n",
       "      <td>0.000929</td>\n",
       "      <td>0.059122</td>\n",
       "      <td>0.022584</td>\n",
       "      <td>0.048257</td>\n",
       "      <td>-0.063171</td>\n",
       "      <td>0.260626</td>\n",
       "      <td>0.500764</td>\n",
       "      <td>1.000000</td>\n",
       "      <td>0.024108</td>\n",
       "      <td>0.886523</td>\n",
       "      <td>0.543772</td>\n",
       "      <td>0.934668</td>\n",
       "      <td>-0.040608</td>\n",
       "      <td>-0.038516</td>\n",
       "      <td>-0.072631</td>\n",
       "      <td>-0.072631</td>\n",
       "      <td>0.072631</td>\n",
       "    </tr>\n",
       "    <tr>\n",
       "      <td>Fwd Pkt Len Mean</td>\n",
       "      <td>-0.045544</td>\n",
       "      <td>-0.003809</td>\n",
       "      <td>-0.010896</td>\n",
       "      <td>0.021697</td>\n",
       "      <td>-0.014111</td>\n",
       "      <td>0.200373</td>\n",
       "      <td>-0.187629</td>\n",
       "      <td>0.700446</td>\n",
       "      <td>0.024108</td>\n",
       "      <td>1.000000</td>\n",
       "      <td>-0.055893</td>\n",
       "      <td>0.325511</td>\n",
       "      <td>0.088318</td>\n",
       "      <td>-0.101021</td>\n",
       "      <td>-0.094328</td>\n",
       "      <td>0.219957</td>\n",
       "      <td>0.219957</td>\n",
       "      <td>-0.219957</td>\n",
       "    </tr>\n",
       "    <tr>\n",
       "      <td>Bwd Pkt Len Mean</td>\n",
       "      <td>0.014324</td>\n",
       "      <td>-0.000001</td>\n",
       "      <td>0.094241</td>\n",
       "      <td>0.022750</td>\n",
       "      <td>0.082515</td>\n",
       "      <td>-0.066490</td>\n",
       "      <td>0.437099</td>\n",
       "      <td>0.354749</td>\n",
       "      <td>0.886523</td>\n",
       "      <td>-0.055893</td>\n",
       "      <td>1.000000</td>\n",
       "      <td>0.387522</td>\n",
       "      <td>0.730896</td>\n",
       "      <td>-0.041751</td>\n",
       "      <td>-0.039101</td>\n",
       "      <td>-0.067173</td>\n",
       "      <td>-0.067173</td>\n",
       "      <td>0.067173</td>\n",
       "    </tr>\n",
       "    <tr>\n",
       "      <td>Fwd Pkt Len Std</td>\n",
       "      <td>0.028341</td>\n",
       "      <td>-0.001153</td>\n",
       "      <td>0.008214</td>\n",
       "      <td>0.018101</td>\n",
       "      <td>0.003977</td>\n",
       "      <td>-0.030798</td>\n",
       "      <td>0.042064</td>\n",
       "      <td>0.839363</td>\n",
       "      <td>0.543772</td>\n",
       "      <td>0.325511</td>\n",
       "      <td>0.387522</td>\n",
       "      <td>1.000000</td>\n",
       "      <td>0.585098</td>\n",
       "      <td>-0.022881</td>\n",
       "      <td>-0.019663</td>\n",
       "      <td>-0.124156</td>\n",
       "      <td>-0.124156</td>\n",
       "      <td>0.124156</td>\n",
       "    </tr>\n",
       "    <tr>\n",
       "      <td>Bwd Pkt Len Std</td>\n",
       "      <td>0.039825</td>\n",
       "      <td>0.002340</td>\n",
       "      <td>0.021124</td>\n",
       "      <td>0.014644</td>\n",
       "      <td>0.013116</td>\n",
       "      <td>-0.045330</td>\n",
       "      <td>0.030949</td>\n",
       "      <td>0.538054</td>\n",
       "      <td>0.934668</td>\n",
       "      <td>0.088318</td>\n",
       "      <td>0.730896</td>\n",
       "      <td>0.585098</td>\n",
       "      <td>1.000000</td>\n",
       "      <td>-0.031346</td>\n",
       "      <td>-0.029525</td>\n",
       "      <td>-0.072445</td>\n",
       "      <td>-0.072445</td>\n",
       "      <td>0.072445</td>\n",
       "    </tr>\n",
       "    <tr>\n",
       "      <td>Flow Pkts/s</td>\n",
       "      <td>-0.002011</td>\n",
       "      <td>-0.002327</td>\n",
       "      <td>-0.003752</td>\n",
       "      <td>-0.001918</td>\n",
       "      <td>-0.001522</td>\n",
       "      <td>-0.026579</td>\n",
       "      <td>-0.041702</td>\n",
       "      <td>-0.072961</td>\n",
       "      <td>-0.040608</td>\n",
       "      <td>-0.101021</td>\n",
       "      <td>-0.041751</td>\n",
       "      <td>-0.022881</td>\n",
       "      <td>-0.031346</td>\n",
       "      <td>1.000000</td>\n",
       "      <td>0.897262</td>\n",
       "      <td>-0.035863</td>\n",
       "      <td>-0.035863</td>\n",
       "      <td>0.035863</td>\n",
       "    </tr>\n",
       "    <tr>\n",
       "      <td>Flow Byts/s</td>\n",
       "      <td>-0.003201</td>\n",
       "      <td>-0.002219</td>\n",
       "      <td>-0.002629</td>\n",
       "      <td>-0.001687</td>\n",
       "      <td>-0.000467</td>\n",
       "      <td>-0.026833</td>\n",
       "      <td>-0.037918</td>\n",
       "      <td>-0.068300</td>\n",
       "      <td>-0.038516</td>\n",
       "      <td>-0.094328</td>\n",
       "      <td>-0.039101</td>\n",
       "      <td>-0.019663</td>\n",
       "      <td>-0.029525</td>\n",
       "      <td>0.897262</td>\n",
       "      <td>1.000000</td>\n",
       "      <td>-0.026917</td>\n",
       "      <td>-0.026917</td>\n",
       "      <td>0.026917</td>\n",
       "    </tr>\n",
       "    <tr>\n",
       "      <td>binaryLabel</td>\n",
       "      <td>-0.063908</td>\n",
       "      <td>-0.015334</td>\n",
       "      <td>0.004596</td>\n",
       "      <td>-0.013130</td>\n",
       "      <td>-0.010032</td>\n",
       "      <td>-0.230654</td>\n",
       "      <td>-0.035651</td>\n",
       "      <td>0.037498</td>\n",
       "      <td>-0.072631</td>\n",
       "      <td>0.219957</td>\n",
       "      <td>-0.067173</td>\n",
       "      <td>-0.124156</td>\n",
       "      <td>-0.072445</td>\n",
       "      <td>-0.035863</td>\n",
       "      <td>-0.026917</td>\n",
       "      <td>1.000000</td>\n",
       "      <td>1.000000</td>\n",
       "      <td>-1.000000</td>\n",
       "    </tr>\n",
       "    <tr>\n",
       "      <td>benignoLabel</td>\n",
       "      <td>-0.063908</td>\n",
       "      <td>-0.015334</td>\n",
       "      <td>0.004596</td>\n",
       "      <td>-0.013130</td>\n",
       "      <td>-0.010032</td>\n",
       "      <td>-0.230654</td>\n",
       "      <td>-0.035651</td>\n",
       "      <td>0.037498</td>\n",
       "      <td>-0.072631</td>\n",
       "      <td>0.219957</td>\n",
       "      <td>-0.067173</td>\n",
       "      <td>-0.124156</td>\n",
       "      <td>-0.072445</td>\n",
       "      <td>-0.035863</td>\n",
       "      <td>-0.026917</td>\n",
       "      <td>1.000000</td>\n",
       "      <td>1.000000</td>\n",
       "      <td>-1.000000</td>\n",
       "    </tr>\n",
       "    <tr>\n",
       "      <td>ransomwareLabel</td>\n",
       "      <td>0.063908</td>\n",
       "      <td>0.015334</td>\n",
       "      <td>-0.004596</td>\n",
       "      <td>0.013130</td>\n",
       "      <td>0.010032</td>\n",
       "      <td>0.230654</td>\n",
       "      <td>0.035651</td>\n",
       "      <td>-0.037498</td>\n",
       "      <td>0.072631</td>\n",
       "      <td>-0.219957</td>\n",
       "      <td>0.067173</td>\n",
       "      <td>0.124156</td>\n",
       "      <td>0.072445</td>\n",
       "      <td>0.035863</td>\n",
       "      <td>0.026917</td>\n",
       "      <td>-1.000000</td>\n",
       "      <td>-1.000000</td>\n",
       "      <td>1.000000</td>\n",
       "    </tr>\n",
       "  </tbody>\n",
       "</table>\n",
       "</div>"
      ],
      "text/plain": [
       "                  Flow Duration  Tot Fwd Pkts  Tot Bwd Pkts  TotLen Fwd Pkts  \\\n",
       "Flow Duration          1.000000     -0.000716      0.006230         0.006959   \n",
       "Tot Fwd Pkts          -0.000716      1.000000      0.000173        -0.000460   \n",
       "Tot Bwd Pkts           0.006230      0.000173      1.000000         0.179983   \n",
       "TotLen Fwd Pkts        0.006959     -0.000460      0.179983         1.000000   \n",
       "TotLen Bwd Pkts        0.006073     -0.000321      0.933032         0.123478   \n",
       "Fwd Pkt Len Min        0.004475      0.080409     -0.008401         0.002232   \n",
       "Bwd Pkt Len Min       -0.035321      0.002213      0.003373         0.000896   \n",
       "Fwd Pkt Len Max        0.000903     -0.002693      0.020968         0.026386   \n",
       "Bwd Pkt Len Max        0.032044      0.000929      0.059122         0.022584   \n",
       "Fwd Pkt Len Mean      -0.045544     -0.003809     -0.010896         0.021697   \n",
       "Bwd Pkt Len Mean       0.014324     -0.000001      0.094241         0.022750   \n",
       "Fwd Pkt Len Std        0.028341     -0.001153      0.008214         0.018101   \n",
       "Bwd Pkt Len Std        0.039825      0.002340      0.021124         0.014644   \n",
       "Flow Pkts/s           -0.002011     -0.002327     -0.003752        -0.001918   \n",
       "Flow Byts/s           -0.003201     -0.002219     -0.002629        -0.001687   \n",
       "binaryLabel           -0.063908     -0.015334      0.004596        -0.013130   \n",
       "benignoLabel          -0.063908     -0.015334      0.004596        -0.013130   \n",
       "ransomwareLabel        0.063908      0.015334     -0.004596         0.013130   \n",
       "\n",
       "                  TotLen Bwd Pkts  Fwd Pkt Len Min  Bwd Pkt Len Min  \\\n",
       "Flow Duration            0.006073         0.004475        -0.035321   \n",
       "Tot Fwd Pkts            -0.000321         0.080409         0.002213   \n",
       "Tot Bwd Pkts             0.933032        -0.008401         0.003373   \n",
       "TotLen Fwd Pkts          0.123478         0.002232         0.000896   \n",
       "TotLen Bwd Pkts          1.000000        -0.001919         0.001957   \n",
       "Fwd Pkt Len Min         -0.001919         1.000000        -0.081856   \n",
       "Bwd Pkt Len Min          0.001957        -0.081856         1.000000   \n",
       "Fwd Pkt Len Max          0.013190         0.079691        -0.069515   \n",
       "Bwd Pkt Len Max          0.048257        -0.063171         0.260626   \n",
       "Fwd Pkt Len Mean        -0.014111         0.200373        -0.187629   \n",
       "Bwd Pkt Len Mean         0.082515        -0.066490         0.437099   \n",
       "Fwd Pkt Len Std          0.003977        -0.030798         0.042064   \n",
       "Bwd Pkt Len Std          0.013116        -0.045330         0.030949   \n",
       "Flow Pkts/s             -0.001522        -0.026579        -0.041702   \n",
       "Flow Byts/s             -0.000467        -0.026833        -0.037918   \n",
       "binaryLabel             -0.010032        -0.230654        -0.035651   \n",
       "benignoLabel            -0.010032        -0.230654        -0.035651   \n",
       "ransomwareLabel          0.010032         0.230654         0.035651   \n",
       "\n",
       "                  Fwd Pkt Len Max  Bwd Pkt Len Max  Fwd Pkt Len Mean  \\\n",
       "Flow Duration            0.000903         0.032044         -0.045544   \n",
       "Tot Fwd Pkts            -0.002693         0.000929         -0.003809   \n",
       "Tot Bwd Pkts             0.020968         0.059122         -0.010896   \n",
       "TotLen Fwd Pkts          0.026386         0.022584          0.021697   \n",
       "TotLen Bwd Pkts          0.013190         0.048257         -0.014111   \n",
       "Fwd Pkt Len Min          0.079691        -0.063171          0.200373   \n",
       "Bwd Pkt Len Min         -0.069515         0.260626         -0.187629   \n",
       "Fwd Pkt Len Max          1.000000         0.500764          0.700446   \n",
       "Bwd Pkt Len Max          0.500764         1.000000          0.024108   \n",
       "Fwd Pkt Len Mean         0.700446         0.024108          1.000000   \n",
       "Bwd Pkt Len Mean         0.354749         0.886523         -0.055893   \n",
       "Fwd Pkt Len Std          0.839363         0.543772          0.325511   \n",
       "Bwd Pkt Len Std          0.538054         0.934668          0.088318   \n",
       "Flow Pkts/s             -0.072961        -0.040608         -0.101021   \n",
       "Flow Byts/s             -0.068300        -0.038516         -0.094328   \n",
       "binaryLabel              0.037498        -0.072631          0.219957   \n",
       "benignoLabel             0.037498        -0.072631          0.219957   \n",
       "ransomwareLabel         -0.037498         0.072631         -0.219957   \n",
       "\n",
       "                  Bwd Pkt Len Mean  Fwd Pkt Len Std  Bwd Pkt Len Std  \\\n",
       "Flow Duration             0.014324         0.028341         0.039825   \n",
       "Tot Fwd Pkts             -0.000001        -0.001153         0.002340   \n",
       "Tot Bwd Pkts              0.094241         0.008214         0.021124   \n",
       "TotLen Fwd Pkts           0.022750         0.018101         0.014644   \n",
       "TotLen Bwd Pkts           0.082515         0.003977         0.013116   \n",
       "Fwd Pkt Len Min          -0.066490        -0.030798        -0.045330   \n",
       "Bwd Pkt Len Min           0.437099         0.042064         0.030949   \n",
       "Fwd Pkt Len Max           0.354749         0.839363         0.538054   \n",
       "Bwd Pkt Len Max           0.886523         0.543772         0.934668   \n",
       "Fwd Pkt Len Mean         -0.055893         0.325511         0.088318   \n",
       "Bwd Pkt Len Mean          1.000000         0.387522         0.730896   \n",
       "Fwd Pkt Len Std           0.387522         1.000000         0.585098   \n",
       "Bwd Pkt Len Std           0.730896         0.585098         1.000000   \n",
       "Flow Pkts/s              -0.041751        -0.022881        -0.031346   \n",
       "Flow Byts/s              -0.039101        -0.019663        -0.029525   \n",
       "binaryLabel              -0.067173        -0.124156        -0.072445   \n",
       "benignoLabel             -0.067173        -0.124156        -0.072445   \n",
       "ransomwareLabel           0.067173         0.124156         0.072445   \n",
       "\n",
       "                  Flow Pkts/s  Flow Byts/s  binaryLabel  benignoLabel  \\\n",
       "Flow Duration       -0.002011    -0.003201    -0.063908     -0.063908   \n",
       "Tot Fwd Pkts        -0.002327    -0.002219    -0.015334     -0.015334   \n",
       "Tot Bwd Pkts        -0.003752    -0.002629     0.004596      0.004596   \n",
       "TotLen Fwd Pkts     -0.001918    -0.001687    -0.013130     -0.013130   \n",
       "TotLen Bwd Pkts     -0.001522    -0.000467    -0.010032     -0.010032   \n",
       "Fwd Pkt Len Min     -0.026579    -0.026833    -0.230654     -0.230654   \n",
       "Bwd Pkt Len Min     -0.041702    -0.037918    -0.035651     -0.035651   \n",
       "Fwd Pkt Len Max     -0.072961    -0.068300     0.037498      0.037498   \n",
       "Bwd Pkt Len Max     -0.040608    -0.038516    -0.072631     -0.072631   \n",
       "Fwd Pkt Len Mean    -0.101021    -0.094328     0.219957      0.219957   \n",
       "Bwd Pkt Len Mean    -0.041751    -0.039101    -0.067173     -0.067173   \n",
       "Fwd Pkt Len Std     -0.022881    -0.019663    -0.124156     -0.124156   \n",
       "Bwd Pkt Len Std     -0.031346    -0.029525    -0.072445     -0.072445   \n",
       "Flow Pkts/s          1.000000     0.897262    -0.035863     -0.035863   \n",
       "Flow Byts/s          0.897262     1.000000    -0.026917     -0.026917   \n",
       "binaryLabel         -0.035863    -0.026917     1.000000      1.000000   \n",
       "benignoLabel        -0.035863    -0.026917     1.000000      1.000000   \n",
       "ransomwareLabel      0.035863     0.026917    -1.000000     -1.000000   \n",
       "\n",
       "                  ransomwareLabel  \n",
       "Flow Duration            0.063908  \n",
       "Tot Fwd Pkts             0.015334  \n",
       "Tot Bwd Pkts            -0.004596  \n",
       "TotLen Fwd Pkts          0.013130  \n",
       "TotLen Bwd Pkts          0.010032  \n",
       "Fwd Pkt Len Min          0.230654  \n",
       "Bwd Pkt Len Min          0.035651  \n",
       "Fwd Pkt Len Max         -0.037498  \n",
       "Bwd Pkt Len Max          0.072631  \n",
       "Fwd Pkt Len Mean        -0.219957  \n",
       "Bwd Pkt Len Mean         0.067173  \n",
       "Fwd Pkt Len Std          0.124156  \n",
       "Bwd Pkt Len Std          0.072445  \n",
       "Flow Pkts/s              0.035863  \n",
       "Flow Byts/s              0.026917  \n",
       "binaryLabel             -1.000000  \n",
       "benignoLabel            -1.000000  \n",
       "ransomwareLabel          1.000000  "
      ]
     },
     "execution_count": 19,
     "metadata": {},
     "output_type": "execute_result"
    }
   ],
   "source": [
    "data.corr()"
   ]
  },
  {
   "cell_type": "code",
   "execution_count": 20,
   "metadata": {},
   "outputs": [
    {
     "data": {
      "text/plain": [
       "18"
      ]
     },
     "execution_count": 20,
     "metadata": {},
     "output_type": "execute_result"
    }
   ],
   "source": [
    "len(data.columns)"
   ]
  },
  {
   "cell_type": "code",
   "execution_count": 21,
   "metadata": {},
   "outputs": [
    {
     "data": {
      "text/plain": [
       "<matplotlib.axes._subplots.AxesSubplot at 0x1d78da62588>"
      ]
     },
     "execution_count": 21,
     "metadata": {},
     "output_type": "execute_result"
    },
    {
     "data": {
      "image/png": "[encoded data removed]",
      "text/plain": [
       "<Figure size 432x288 with 2 Axes>"
      ]
     },
     "metadata": {
      "needs_background": "light"
     },
     "output_type": "display_data"
    }
   ],
   "source": [
    "sns.heatmap(data.drop(axis=1,inplace=False,columns=['benignoLabel','ransomwareLabel']).corr(), cmap=\"Greens\")"
   ]
  },
  {
   "cell_type": "markdown",
   "metadata": {},
   "source": [
    "#### Separamos los valores que utilizaremos para los datos de entradas (Todas las columnas menos el label binario) y los datos de salida (los label asociados)"
   ]
  },
  {
   "cell_type": "code",
   "execution_count": 23,
   "metadata": {},
   "outputs": [],
   "source": [
    "from sklearn.model_selection import train_test_split"
   ]
  },
  {
   "cell_type": "code",
   "execution_count": 24,
   "metadata": {},
   "outputs": [],
   "source": [
    "dataX = data.drop(['binaryLabel','benignoLabel','ransomwareLabel'], axis = 1).copy()"
   ]
  },
  {
   "cell_type": "code",
   "execution_count": 25,
   "metadata": {},
   "outputs": [],
   "source": [
    "dataY = data[['binaryLabel','benignoLabel','ransomwareLabel']].copy()"
   ]
  },
  {
   "cell_type": "code",
   "execution_count": 26,
   "metadata": {},
   "outputs": [
    {
     "data": {
      "text/html": [
       "<div>\n",
       "<style scoped>\n",
       "    .dataframe tbody tr th:only-of-type {\n",
       "        vertical-align: middle;\n",
       "    }\n",
       "\n",
       "    .dataframe tbody tr th {\n",
       "        vertical-align: top;\n",
       "    }\n",
       "\n",
       "    .dataframe thead th {\n",
       "        text-align: right;\n",
       "    }\n",
       "</style>\n",
       "<table border=\"1\" class=\"dataframe\">\n",
       "  <thead>\n",
       "    <tr style=\"text-align: right;\">\n",
       "      <th></th>\n",
       "      <th>Flow Duration</th>\n",
       "      <th>Tot Fwd Pkts</th>\n",
       "      <th>Tot Bwd Pkts</th>\n",
       "      <th>TotLen Fwd Pkts</th>\n",
       "      <th>TotLen Bwd Pkts</th>\n",
       "      <th>Fwd Pkt Len Min</th>\n",
       "      <th>Bwd Pkt Len Min</th>\n",
       "      <th>Fwd Pkt Len Max</th>\n",
       "      <th>Bwd Pkt Len Max</th>\n",
       "      <th>Fwd Pkt Len Mean</th>\n",
       "      <th>Bwd Pkt Len Mean</th>\n",
       "      <th>Fwd Pkt Len Std</th>\n",
       "      <th>Bwd Pkt Len Std</th>\n",
       "      <th>Flow Pkts/s</th>\n",
       "      <th>Flow Byts/s</th>\n",
       "    </tr>\n",
       "  </thead>\n",
       "  <tbody>\n",
       "    <tr>\n",
       "      <td>0</td>\n",
       "      <td>13</td>\n",
       "      <td>0</td>\n",
       "      <td>2</td>\n",
       "      <td>0</td>\n",
       "      <td>135</td>\n",
       "      <td>-1</td>\n",
       "      <td>52.0</td>\n",
       "      <td>-1</td>\n",
       "      <td>83</td>\n",
       "      <td>0.0</td>\n",
       "      <td>67.5</td>\n",
       "      <td>0.0</td>\n",
       "      <td>21.897488</td>\n",
       "      <td>153846.1538</td>\n",
       "      <td>1.040000e+07</td>\n",
       "    </tr>\n",
       "    <tr>\n",
       "      <td>1</td>\n",
       "      <td>15</td>\n",
       "      <td>0</td>\n",
       "      <td>2</td>\n",
       "      <td>0</td>\n",
       "      <td>135</td>\n",
       "      <td>-1</td>\n",
       "      <td>52.0</td>\n",
       "      <td>-1</td>\n",
       "      <td>83</td>\n",
       "      <td>0.0</td>\n",
       "      <td>67.5</td>\n",
       "      <td>0.0</td>\n",
       "      <td>21.897488</td>\n",
       "      <td>133333.3333</td>\n",
       "      <td>9.000000e+06</td>\n",
       "    </tr>\n",
       "    <tr>\n",
       "      <td>2</td>\n",
       "      <td>14</td>\n",
       "      <td>0</td>\n",
       "      <td>2</td>\n",
       "      <td>0</td>\n",
       "      <td>111</td>\n",
       "      <td>-1</td>\n",
       "      <td>40.0</td>\n",
       "      <td>-1</td>\n",
       "      <td>71</td>\n",
       "      <td>0.0</td>\n",
       "      <td>55.5</td>\n",
       "      <td>0.0</td>\n",
       "      <td>21.897488</td>\n",
       "      <td>142857.1429</td>\n",
       "      <td>7.928571e+06</td>\n",
       "    </tr>\n",
       "    <tr>\n",
       "      <td>3</td>\n",
       "      <td>0</td>\n",
       "      <td>0</td>\n",
       "      <td>1</td>\n",
       "      <td>0</td>\n",
       "      <td>83</td>\n",
       "      <td>-1</td>\n",
       "      <td>83.0</td>\n",
       "      <td>-1</td>\n",
       "      <td>83</td>\n",
       "      <td>0.0</td>\n",
       "      <td>83.0</td>\n",
       "      <td>0.0</td>\n",
       "      <td>0.000000</td>\n",
       "      <td>0.0000</td>\n",
       "      <td>0.000000e+00</td>\n",
       "    </tr>\n",
       "    <tr>\n",
       "      <td>4</td>\n",
       "      <td>13</td>\n",
       "      <td>0</td>\n",
       "      <td>2</td>\n",
       "      <td>0</td>\n",
       "      <td>159</td>\n",
       "      <td>-1</td>\n",
       "      <td>52.0</td>\n",
       "      <td>-1</td>\n",
       "      <td>107</td>\n",
       "      <td>0.0</td>\n",
       "      <td>79.5</td>\n",
       "      <td>0.0</td>\n",
       "      <td>38.878014</td>\n",
       "      <td>153846.1538</td>\n",
       "      <td>1.220000e+07</td>\n",
       "    </tr>\n",
       "  </tbody>\n",
       "</table>\n",
       "</div>"
      ],
      "text/plain": [
       "   Flow Duration  Tot Fwd Pkts  Tot Bwd Pkts  TotLen Fwd Pkts  \\\n",
       "0             13             0             2                0   \n",
       "1             15             0             2                0   \n",
       "2             14             0             2                0   \n",
       "3              0             0             1                0   \n",
       "4             13             0             2                0   \n",
       "\n",
       "   TotLen Bwd Pkts  Fwd Pkt Len Min  Bwd Pkt Len Min  Fwd Pkt Len Max  \\\n",
       "0              135               -1             52.0               -1   \n",
       "1              135               -1             52.0               -1   \n",
       "2              111               -1             40.0               -1   \n",
       "3               83               -1             83.0               -1   \n",
       "4              159               -1             52.0               -1   \n",
       "\n",
       "   Bwd Pkt Len Max  Fwd Pkt Len Mean  Bwd Pkt Len Mean  Fwd Pkt Len Std  \\\n",
       "0               83               0.0              67.5              0.0   \n",
       "1               83               0.0              67.5              0.0   \n",
       "2               71               0.0              55.5              0.0   \n",
       "3               83               0.0              83.0              0.0   \n",
       "4              107               0.0              79.5              0.0   \n",
       "\n",
       "   Bwd Pkt Len Std  Flow Pkts/s   Flow Byts/s  \n",
       "0        21.897488  153846.1538  1.040000e+07  \n",
       "1        21.897488  133333.3333  9.000000e+06  \n",
       "2        21.897488  142857.1429  7.928571e+06  \n",
       "3         0.000000       0.0000  0.000000e+00  \n",
       "4        38.878014  153846.1538  1.220000e+07  "
      ]
     },
     "execution_count": 26,
     "metadata": {},
     "output_type": "execute_result"
    }
   ],
   "source": [
    "dataX.head()"
   ]
  },
  {
   "cell_type": "code",
   "execution_count": 27,
   "metadata": {},
   "outputs": [
    {
     "data": {
      "text/plain": [
       "(212795, 15)"
      ]
     },
     "execution_count": 27,
     "metadata": {},
     "output_type": "execute_result"
    }
   ],
   "source": [
    "dataX.shape"
   ]
  },
  {
   "cell_type": "code",
   "execution_count": 28,
   "metadata": {},
   "outputs": [
    {
     "data": {
      "text/html": [
       "<div>\n",
       "<style scoped>\n",
       "    .dataframe tbody tr th:only-of-type {\n",
       "        vertical-align: middle;\n",
       "    }\n",
       "\n",
       "    .dataframe tbody tr th {\n",
       "        vertical-align: top;\n",
       "    }\n",
       "\n",
       "    .dataframe thead th {\n",
       "        text-align: right;\n",
       "    }\n",
       "</style>\n",
       "<table border=\"1\" class=\"dataframe\">\n",
       "  <thead>\n",
       "    <tr style=\"text-align: right;\">\n",
       "      <th></th>\n",
       "      <th>binaryLabel</th>\n",
       "      <th>benignoLabel</th>\n",
       "      <th>ransomwareLabel</th>\n",
       "    </tr>\n",
       "  </thead>\n",
       "  <tbody>\n",
       "    <tr>\n",
       "      <td>0</td>\n",
       "      <td>1</td>\n",
       "      <td>1</td>\n",
       "      <td>0</td>\n",
       "    </tr>\n",
       "    <tr>\n",
       "      <td>1</td>\n",
       "      <td>1</td>\n",
       "      <td>1</td>\n",
       "      <td>0</td>\n",
       "    </tr>\n",
       "    <tr>\n",
       "      <td>2</td>\n",
       "      <td>1</td>\n",
       "      <td>1</td>\n",
       "      <td>0</td>\n",
       "    </tr>\n",
       "    <tr>\n",
       "      <td>3</td>\n",
       "      <td>1</td>\n",
       "      <td>1</td>\n",
       "      <td>0</td>\n",
       "    </tr>\n",
       "    <tr>\n",
       "      <td>4</td>\n",
       "      <td>1</td>\n",
       "      <td>1</td>\n",
       "      <td>0</td>\n",
       "    </tr>\n",
       "  </tbody>\n",
       "</table>\n",
       "</div>"
      ],
      "text/plain": [
       "   binaryLabel  benignoLabel  ransomwareLabel\n",
       "0            1             1                0\n",
       "1            1             1                0\n",
       "2            1             1                0\n",
       "3            1             1                0\n",
       "4            1             1                0"
      ]
     },
     "execution_count": 28,
     "metadata": {},
     "output_type": "execute_result"
    }
   ],
   "source": [
    "dataY.head()"
   ]
  },
  {
   "cell_type": "code",
   "execution_count": 29,
   "metadata": {},
   "outputs": [
    {
     "data": {
      "text/plain": [
       "(212795, 3)"
      ]
     },
     "execution_count": 29,
     "metadata": {},
     "output_type": "execute_result"
    }
   ],
   "source": [
    "dataY.shape"
   ]
  },
  {
   "cell_type": "markdown",
   "metadata": {},
   "source": [
    "#### GENERAMOS LOS DATOS DE ENTRENAMIENTO,TESTING Y VALIDACIÓN\n",
    "\n",
    "\n",
    "#### Establecemos que las proporciones serán:\n",
    "###### - ENTRENAMIENTO =  70%\n",
    "###### - TESTING = 20%\n",
    "###### - VALIDACION  = 10% "
   ]
  },
  {
   "cell_type": "code",
   "execution_count": 30,
   "metadata": {},
   "outputs": [],
   "source": [
    "train_ratio = 0.7\n",
    "test_ratio = 0.2\n",
    "validation_ratio = 0.1"
   ]
  },
  {
   "cell_type": "code",
   "execution_count": 31,
   "metadata": {},
   "outputs": [],
   "source": [
    "X_train, X_test, y_train, y_test = train_test_split(dataX, dataY, test_size=test_ratio, random_state=101)"
   ]
  },
  {
   "cell_type": "code",
   "execution_count": 32,
   "metadata": {},
   "outputs": [],
   "source": [
    "X_train, X_val, y_train, y_val = train_test_split(X_train, y_train, test_size=validation_ratio/(validation_ratio + train_ratio), random_state=101)"
   ]
  },
  {
   "cell_type": "code",
   "execution_count": 33,
   "metadata": {},
   "outputs": [
    {
     "data": {
      "text/plain": [
       "(148956, 15)"
      ]
     },
     "execution_count": 33,
     "metadata": {},
     "output_type": "execute_result"
    }
   ],
   "source": [
    "X_train.shape "
   ]
  },
  {
   "cell_type": "code",
   "execution_count": 34,
   "metadata": {},
   "outputs": [
    {
     "data": {
      "text/plain": [
       "0.6999976503207312"
      ]
     },
     "execution_count": 34,
     "metadata": {},
     "output_type": "execute_result"
    }
   ],
   "source": [
    "X_train.shape[0]/dataX.shape[0]"
   ]
  },
  {
   "cell_type": "code",
   "execution_count": 35,
   "metadata": {},
   "outputs": [
    {
     "data": {
      "text/plain": [
       "(42559, 15)"
      ]
     },
     "execution_count": 35,
     "metadata": {},
     "output_type": "execute_result"
    }
   ],
   "source": [
    "X_test.shape"
   ]
  },
  {
   "cell_type": "code",
   "execution_count": 36,
   "metadata": {},
   "outputs": [
    {
     "data": {
      "text/plain": [
       "(42559, 3)"
      ]
     },
     "execution_count": 36,
     "metadata": {},
     "output_type": "execute_result"
    }
   ],
   "source": [
    "y_test.shape"
   ]
  },
  {
   "cell_type": "code",
   "execution_count": 37,
   "metadata": {},
   "outputs": [
    {
     "data": {
      "text/plain": [
       "0.2"
      ]
     },
     "execution_count": 37,
     "metadata": {},
     "output_type": "execute_result"
    }
   ],
   "source": [
    "X_test.shape[0]/dataX.shape[0]"
   ]
  },
  {
   "cell_type": "code",
   "execution_count": 38,
   "metadata": {},
   "outputs": [
    {
     "data": {
      "text/plain": [
       "(21280, 15)"
      ]
     },
     "execution_count": 38,
     "metadata": {},
     "output_type": "execute_result"
    }
   ],
   "source": [
    "X_val.shape"
   ]
  },
  {
   "cell_type": "code",
   "execution_count": 39,
   "metadata": {},
   "outputs": [
    {
     "data": {
      "text/plain": [
       "(21280, 3)"
      ]
     },
     "execution_count": 39,
     "metadata": {},
     "output_type": "execute_result"
    }
   ],
   "source": [
    "y_val.shape"
   ]
  },
  {
   "cell_type": "code",
   "execution_count": 40,
   "metadata": {},
   "outputs": [
    {
     "data": {
      "text/plain": [
       "0.10000234967926878"
      ]
     },
     "execution_count": 40,
     "metadata": {},
     "output_type": "execute_result"
    }
   ],
   "source": [
    "X_val.shape[0]/dataX.shape[0]"
   ]
  },
  {
   "cell_type": "markdown",
   "metadata": {},
   "source": [
    "##### Comenzamos con el modelos"
   ]
  },
  {
   "cell_type": "markdown",
   "metadata": {},
   "source": [
    "### CNN - SHU"
   ]
  },
  {
   "cell_type": "code",
   "execution_count": 41,
   "metadata": {},
   "outputs": [],
   "source": [
    "from __future__ import absolute_import, division, print_function, unicode_literals\n",
    "\n",
    "import tensorflow as tf\n",
    "\n",
    "from tensorflow.keras import datasets, layers, models\n",
    "import matplotlib.pyplot as plt"
   ]
  },
  {
   "cell_type": "markdown",
   "metadata": {},
   "source": [
    "### Modelo Secuencial CNN"
   ]
  },
  {
   "cell_type": "code",
   "execution_count": 78,
   "metadata": {},
   "outputs": [],
   "source": [
    "model = models.Sequential()"
   ]
  },
  {
   "cell_type": "code",
   "execution_count": 79,
   "metadata": {},
   "outputs": [],
   "source": [
    "model.add(layers.Conv1D(filters=15, kernel_size=3, activation='relu', input_shape=(X_train.shape[1],1)))\n",
    "model.add(layers.MaxPooling1D(pool_size=2))\n",
    "model.add(layers.Conv1D(filters=30, kernel_size=3, activation='relu'))\n",
    "model.add(layers.Dropout(0.2))\n",
    "model.add(layers.MaxPooling1D(pool_size=2))\n",
    "model.add(layers.Flatten())"
   ]
  },
  {
   "cell_type": "code",
   "execution_count": 80,
   "metadata": {},
   "outputs": [],
   "source": [
    "model.add(layers.Dense(32, activation='relu'))\n",
    "model.add(layers.Dense(10, activation='relu'))\n",
    "model.add(layers.Dense(2, activation='softmax'))"
   ]
  },
  {
   "cell_type": "code",
   "execution_count": 81,
   "metadata": {},
   "outputs": [
    {
     "name": "stdout",
     "output_type": "stream",
     "text": [
      "Model: \"sequential_11\"\n",
      "_________________________________________________________________\n",
      "Layer (type)                 Output Shape              Param #   \n",
      "=================================================================\n",
      "conv1d_30 (Conv1D)           (None, 13, 15)            60        \n",
      "_________________________________________________________________\n",
      "max_pooling1d_17 (MaxPooling (None, 6, 15)             0         \n",
      "_________________________________________________________________\n",
      "conv1d_31 (Conv1D)           (None, 4, 30)             1380      \n",
      "_________________________________________________________________\n",
      "dropout_11 (Dropout)         (None, 4, 30)             0         \n",
      "_________________________________________________________________\n",
      "max_pooling1d_18 (MaxPooling (None, 2, 30)             0         \n",
      "_________________________________________________________________\n",
      "flatten_3 (Flatten)          (None, 60)                0         \n",
      "_________________________________________________________________\n",
      "dense_9 (Dense)              (None, 32)                1952      \n",
      "_________________________________________________________________\n",
      "dense_10 (Dense)             (None, 10)                330       \n",
      "_________________________________________________________________\n",
      "dense_11 (Dense)             (None, 2)                 22        \n",
      "=================================================================\n",
      "Total params: 3,744\n",
      "Trainable params: 3,744\n",
      "Non-trainable params: 0\n",
      "_________________________________________________________________\n"
     ]
    }
   ],
   "source": [
    "model.summary()"
   ]
  },
  {
   "cell_type": "markdown",
   "metadata": {},
   "source": [
    "#### Debido a necesidades del modelo, lo valores de entrada para entrenamiento, testing y validación tienen que ser del tipo 3 dimensional, por tal razón transformarmos esa matriz a una matriz trimensional generica"
   ]
  },
  {
   "cell_type": "code",
   "execution_count": 69,
   "metadata": {},
   "outputs": [],
   "source": [
    "X_train_3D = X_train.values.reshape(X_train.shape[0],X_train.shape[1],1)\n",
    "X_test_3D = X_test.values.reshape(X_test.shape[0],X_test.shape[1],1)\n",
    "X_val_3D = X_val.values.reshape(X_val.shape[0],X_val.shape[1],1)"
   ]
  },
  {
   "cell_type": "markdown",
   "metadata": {},
   "source": [
    "#### Aqui separamos el modelo en base al tipo de función de perdida a utilizar:\n",
    "\n",
    " -BINARIO: DEBE RECIBIR COMO LABEL UN ARRAY2D -> [0 , 1]\n",
    " \n",
    " -SPARSECATEGORICALCROSSENTROPY: RECIBE COMO LABEL UN VECTOR COLUMNA [0]"
   ]
  },
  {
   "cell_type": "code",
   "execution_count": 70,
   "metadata": {},
   "outputs": [],
   "source": [
    "model.compile(optimizer='adam',\n",
    "              loss=tf.keras.losses.SparseCategoricalCrossentropy(from_logits=True),\n",
    "              metrics=['accuracy'])"
   ]
  },
  {
   "cell_type": "code",
   "execution_count": 71,
   "metadata": {},
   "outputs": [
    {
     "name": "stdout",
     "output_type": "stream",
     "text": [
      "Train on 148956 samples, validate on 21280 samples\n",
      "Epoch 1/10\n",
      "148956/148956 - 11s - loss: 0.6036 - accuracy: 0.7096 - val_loss: 0.5513 - val_accuracy: 0.7619\n",
      "Epoch 2/10\n",
      "148956/148956 - 10s - loss: 0.5639 - accuracy: 0.7494 - val_loss: 0.5583 - val_accuracy: 0.7550\n",
      "Epoch 3/10\n",
      "148956/148956 - 10s - loss: 0.5567 - accuracy: 0.7565 - val_loss: 0.5490 - val_accuracy: 0.7642\n",
      "Epoch 4/10\n",
      "148956/148956 - 10s - loss: 0.5505 - accuracy: 0.7627 - val_loss: 0.5538 - val_accuracy: 0.7594\n",
      "Epoch 5/10\n",
      "148956/148956 - 10s - loss: 0.5500 - accuracy: 0.7633 - val_loss: 0.5395 - val_accuracy: 0.7738\n",
      "Epoch 6/10\n",
      "148956/148956 - 10s - loss: 0.5240 - accuracy: 0.7892 - val_loss: 0.5041 - val_accuracy: 0.8092\n",
      "Epoch 7/10\n",
      "148956/148956 - 10s - loss: 0.5104 - accuracy: 0.8029 - val_loss: 0.5201 - val_accuracy: 0.7932\n",
      "Epoch 8/10\n",
      "148956/148956 - 10s - loss: 0.4837 - accuracy: 0.8295 - val_loss: 0.4434 - val_accuracy: 0.8699\n",
      "Epoch 9/10\n",
      "148956/148956 - 10s - loss: 0.4810 - accuracy: 0.8322 - val_loss: 0.4925 - val_accuracy: 0.8208\n",
      "Epoch 10/10\n",
      "148956/148956 - 10s - loss: 0.5123 - accuracy: 0.8009 - val_loss: 0.5122 - val_accuracy: 0.8011\n"
     ]
    }
   ],
   "source": [
    "history = model.fit(X_train_3D, y_train['binaryLabel'], epochs=10, validation_data=(X_val_3D, y_val['binaryLabel']))"
   ]
  },
  {
   "cell_type": "code",
   "execution_count": 82,
   "metadata": {},
   "outputs": [],
   "source": [
    "model.compile(optimizer='adam',\n",
    "              loss=tf.keras.losses.BinaryCrossentropy(from_logits=True),\n",
    "              metrics=['accuracy'])"
   ]
  },
  {
   "cell_type": "code",
   "execution_count": 83,
   "metadata": {},
   "outputs": [
    {
     "name": "stdout",
     "output_type": "stream",
     "text": [
      "Train on 148956 samples, validate on 21280 samples\n",
      "Epoch 1/10\n",
      "148956/148956 [==============================] - 12s 84us/sample - loss: 0.6804 - accuracy: 0.6457 - val_loss: 0.6796 - val_accuracy: 0.6473\n",
      "Epoch 2/10\n",
      "148956/148956 [==============================] - 11s 74us/sample - loss: 0.6791 - accuracy: 0.6481 - val_loss: 0.6796 - val_accuracy: 0.6473\n",
      "Epoch 3/10\n",
      "148956/148956 [==============================] - 11s 75us/sample - loss: 0.6792 - accuracy: 0.6481 - val_loss: 0.6796 - val_accuracy: 0.6473\n",
      "Epoch 4/10\n",
      "148956/148956 [==============================] - 11s 75us/sample - loss: 0.6792 - accuracy: 0.6481 - val_loss: 0.6796 - val_accuracy: 0.6473\n",
      "Epoch 5/10\n",
      "148956/148956 [==============================] - 11s 75us/sample - loss: 0.6791 - accuracy: 0.6481 - val_loss: 0.6796 - val_accuracy: 0.6473\n",
      "Epoch 6/10\n",
      "148956/148956 [==============================] - 11s 75us/sample - loss: 0.6791 - accuracy: 0.6481 - val_loss: 0.6796 - val_accuracy: 0.6473\n",
      "Epoch 7/10\n",
      "148956/148956 [==============================] - 11s 74us/sample - loss: 0.6792 - accuracy: 0.6481 - val_loss: 0.6796 - val_accuracy: 0.6473\n",
      "Epoch 8/10\n",
      "148956/148956 [==============================] - 11s 74us/sample - loss: 0.6792 - accuracy: 0.6481 - val_loss: 0.6796 - val_accuracy: 0.6473\n",
      "Epoch 9/10\n",
      "148956/148956 [==============================] - 11s 75us/sample - loss: 0.6792 - accuracy: 0.6481 - val_loss: 0.6796 - val_accuracy: 0.6473\n",
      "Epoch 10/10\n",
      "148956/148956 [==============================] - 11s 75us/sample - loss: 0.6792 - accuracy: 0.6481 - val_loss: 0.6796 - val_accuracy: 0.6473\n"
     ]
    }
   ],
   "source": [
    "history = model.fit(X_train_3D, y_train[['benignoLabel','ransomwareLabel']], epochs=10, validation_data=(X_val_3D, y_val[['benignoLabel','ransomwareLabel']]))"
   ]
  },
  {
   "cell_type": "markdown",
   "metadata": {},
   "source": [
    "### GUARDAR MODELO"
   ]
  },
  {
   "cell_type": "code",
   "execution_count": 85,
   "metadata": {},
   "outputs": [
    {
     "name": "stdout",
     "output_type": "stream",
     "text": [
      "WARNING:tensorflow:From C:\\Users\\marce\\Anaconda3\\lib\\site-packages\\tensorflow_core\\python\\ops\\resource_variable_ops.py:1786: calling BaseResourceVariable.__init__ (from tensorflow.python.ops.resource_variable_ops) with constraint is deprecated and will be removed in a future version.\n",
      "Instructions for updating:\n",
      "If using Keras pass *_constraint arguments to layers.\n",
      "INFO:tensorflow:Assets written to: .\\modelos_entrenados\\modelo_cnn_dataset1\\assets\n"
     ]
    }
   ],
   "source": [
    "import os\n",
    "name_model_ccn_data1 = 'modelo_cnn_dataset1'\n",
    "path_model = 'modelos_entrenados'\n",
    "if not os.path.exists(path_model):\n",
    "    os.mkdir(path_model)\n",
    "model.save( '.\\\\'+  path_model + '\\\\' + name_model_ccn_data1)"
   ]
  },
  {
   "cell_type": "code",
   "execution_count": 86,
   "metadata": {},
   "outputs": [],
   "source": [
    "new_model = tf.keras.models.load_model('./'+ path_model + '/' + name_model_ccn_data1)"
   ]
  },
  {
   "cell_type": "code",
   "execution_count": 87,
   "metadata": {},
   "outputs": [
    {
     "name": "stdout",
     "output_type": "stream",
     "text": [
      "42559/42559 [==============================] - 1s 34us/sample - loss: 0.6790 - accuracy: 0.6483\n"
     ]
    }
   ],
   "source": [
    "test_loss, test_acc = new_model.evaluate(X_test_3D, y_test[['benignoLabel','ransomwareLabel']])"
   ]
  },
  {
   "cell_type": "code",
   "execution_count": 88,
   "metadata": {},
   "outputs": [
    {
     "name": "stdout",
     "output_type": "stream",
     "text": [
      "PRECISIÓN 0.648347\n",
      "LOSS 0.6790309050423823\n"
     ]
    }
   ],
   "source": [
    "print(\"PRECISIÓN\",test_acc)\n",
    "print(\"LOSS\", test_loss)"
   ]
  },
  {
   "cell_type": "code",
   "execution_count": 89,
   "metadata": {},
   "outputs": [],
   "source": [
    "predictions = model.predict(X_test_3D)"
   ]
  },
  {
   "cell_type": "code",
   "execution_count": 90,
   "metadata": {},
   "outputs": [
    {
     "data": {
      "text/plain": [
       "array([[1., 0.],\n",
       "       [1., 0.],\n",
       "       [1., 0.],\n",
       "       ...,\n",
       "       [1., 0.],\n",
       "       [1., 0.],\n",
       "       [1., 0.]], dtype=float32)"
      ]
     },
     "execution_count": 90,
     "metadata": {},
     "output_type": "execute_result"
    }
   ],
   "source": [
    "predictions"
   ]
  },
  {
   "cell_type": "markdown",
   "metadata": {},
   "source": [
    "### ANN\n",
    "###### observación: Por ahora es una ann generica"
   ]
  },
  {
   "cell_type": "markdown",
   "metadata": {},
   "source": [
    "##### Recordar la distribución de binaryLabel\n",
    "\n",
    "0 → Ransomware\n",
    "\n",
    "1 → Benigno"
   ]
  },
  {
   "cell_type": "code",
   "execution_count": 94,
   "metadata": {},
   "outputs": [],
   "source": [
    "modelANN = tf.keras.models.Sequential()"
   ]
  },
  {
   "cell_type": "code",
   "execution_count": 95,
   "metadata": {},
   "outputs": [],
   "source": [
    "modelANN.add(tf.keras.layers.Dense(units = 15, activation = 'relu', input_shape = (X_train.shape[1],)))\n",
    "modelANN.add(tf.keras.layers.Dropout(0.2))\n",
    "modelANN.add(tf.keras.layers.Dense(units = 30, activation = 'relu'))\n",
    "modelANN.add(tf.keras.layers.Dense(units = 64, activation = 'relu'))\n",
    "modelANN.add(tf.keras.layers.Dropout(0.2))\n",
    "modelANN.add(tf.keras.layers.Dense(units = 32, activation = 'relu'))\n",
    "modelANN.add(tf.keras.layers.Dense(units = 16, activation = 'relu'))\n",
    "modelANN.add(tf.keras.layers.Dropout(0.2))\n",
    "modelANN.add(tf.keras.layers.Dense(units = 8, activation = 'relu'))\n",
    "modelANN.add(tf.keras.layers.Dense(units = 2, activation = 'softmax'))"
   ]
  },
  {
   "cell_type": "code",
   "execution_count": 96,
   "metadata": {},
   "outputs": [],
   "source": [
    "modelANN.compile(optimizer = 'adam', loss = 'sparse_categorical_crossentropy', metrics = ['sparse_categorical_accuracy'])"
   ]
  },
  {
   "cell_type": "code",
   "execution_count": 97,
   "metadata": {},
   "outputs": [
    {
     "name": "stdout",
     "output_type": "stream",
     "text": [
      "Model: \"sequential_14\"\n",
      "_________________________________________________________________\n",
      "Layer (type)                 Output Shape              Param #   \n",
      "=================================================================\n",
      "dense_13 (Dense)             (None, 15)                240       \n",
      "_________________________________________________________________\n",
      "dropout_12 (Dropout)         (None, 15)                0         \n",
      "_________________________________________________________________\n",
      "dense_14 (Dense)             (None, 30)                480       \n",
      "_________________________________________________________________\n",
      "dense_15 (Dense)             (None, 64)                1984      \n",
      "_________________________________________________________________\n",
      "dropout_13 (Dropout)         (None, 64)                0         \n",
      "_________________________________________________________________\n",
      "dense_16 (Dense)             (None, 32)                2080      \n",
      "_________________________________________________________________\n",
      "dense_17 (Dense)             (None, 16)                528       \n",
      "_________________________________________________________________\n",
      "dropout_14 (Dropout)         (None, 16)                0         \n",
      "_________________________________________________________________\n",
      "dense_18 (Dense)             (None, 8)                 136       \n",
      "_________________________________________________________________\n",
      "dense_19 (Dense)             (None, 2)                 18        \n",
      "=================================================================\n",
      "Total params: 5,466\n",
      "Trainable params: 5,466\n",
      "Non-trainable params: 0\n",
      "_________________________________________________________________\n"
     ]
    }
   ],
   "source": [
    "modelANN.summary()"
   ]
  },
  {
   "cell_type": "code",
   "execution_count": 98,
   "metadata": {},
   "outputs": [
    {
     "name": "stdout",
     "output_type": "stream",
     "text": [
      "Train on 148956 samples, validate on 21280 samples\n",
      "Epoch 1/10\n",
      "148956/148956 [==============================] - 8s 53us/sample - loss: 12379.3936 - sparse_categorical_accuracy: 0.6338 - val_loss: 0.6491 - val_sparse_categorical_accuracy: 0.6473\n",
      "Epoch 2/10\n",
      "148956/148956 [==============================] - 7s 49us/sample - loss: 188.8674 - sparse_categorical_accuracy: 0.6463 - val_loss: 0.6492 - val_sparse_categorical_accuracy: 0.6473\n",
      "Epoch 3/10\n",
      "148956/148956 [==============================] - 8s 51us/sample - loss: 17.6174 - sparse_categorical_accuracy: 0.6476 - val_loss: 0.6491 - val_sparse_categorical_accuracy: 0.6473\n",
      "Epoch 4/10\n",
      "148956/148956 [==============================] - 7s 47us/sample - loss: 3.0272 - sparse_categorical_accuracy: 0.6479 - val_loss: 0.6491 - val_sparse_categorical_accuracy: 0.6473\n",
      "Epoch 5/10\n",
      "148956/148956 [==============================] - 8s 53us/sample - loss: 0.6482 - sparse_categorical_accuracy: 0.6481 - val_loss: 0.6492 - val_sparse_categorical_accuracy: 0.6473\n",
      "Epoch 6/10\n",
      "148956/148956 [==============================] - 8s 55us/sample - loss: 3.5137 - sparse_categorical_accuracy: 0.6480 - val_loss: 0.5354 - val_sparse_categorical_accuracy: 0.6473\n",
      "Epoch 7/10\n",
      "148956/148956 [==============================] - 9s 59us/sample - loss: 0.5379 - sparse_categorical_accuracy: 0.6481 - val_loss: 0.5352 - val_sparse_categorical_accuracy: 0.6473\n",
      "Epoch 8/10\n",
      "148956/148956 [==============================] - 8s 55us/sample - loss: 0.5362 - sparse_categorical_accuracy: 0.6481 - val_loss: 0.5349 - val_sparse_categorical_accuracy: 0.6473\n",
      "Epoch 9/10\n",
      "148956/148956 [==============================] - 9s 58us/sample - loss: 0.5350 - sparse_categorical_accuracy: 0.6481 - val_loss: 0.5352 - val_sparse_categorical_accuracy: 0.6473\n",
      "Epoch 10/10\n",
      "148956/148956 [==============================] - 8s 53us/sample - loss: 0.5346 - sparse_categorical_accuracy: 0.6481 - val_loss: 0.5345 - val_sparse_categorical_accuracy: 0.6473\n"
     ]
    }
   ],
   "source": [
    "historyANN = modelANN.fit(X_train, y_train['binaryLabel'], epochs =10,validation_data=(X_val, y_val['binaryLabel']))"
   ]
  },
  {
   "cell_type": "code",
   "execution_count": 99,
   "metadata": {},
   "outputs": [
    {
     "name": "stdout",
     "output_type": "stream",
     "text": [
      "42559/42559 [==============================] - 1s 20us/sample - loss: 0.5326 - sparse_categorical_accuracy: 0.6483\n"
     ]
    }
   ],
   "source": [
    "test_lossANN, test_accuracyANN = modelANN.evaluate(X_test, y_test['binaryLabel'])"
   ]
  },
  {
   "cell_type": "code",
   "execution_count": 100,
   "metadata": {},
   "outputs": [],
   "source": [
    "predictionsANN = modelANN.predict(X_test)"
   ]
  },
  {
   "cell_type": "code",
   "execution_count": 101,
   "metadata": {},
   "outputs": [
    {
     "data": {
      "text/plain": [
       "array([[0.00118134, 0.9988187 ],\n",
       "       [0.00118134, 0.9988187 ],\n",
       "       [0.45664802, 0.54335207],\n",
       "       ...,\n",
       "       [0.45664802, 0.54335207],\n",
       "       [0.45664802, 0.54335207],\n",
       "       [0.45664802, 0.54335207]], dtype=float32)"
      ]
     },
     "execution_count": 101,
     "metadata": {},
     "output_type": "execute_result"
    }
   ],
   "source": [
    "predictionsANN"
   ]
  },
  {
   "cell_type": "markdown",
   "metadata": {},
   "source": [
    "### PROCESO PARA IGUAL CANTIDAD DE CLASES (BENIGNO - RANSOMWARE)"
   ]
  },
  {
   "cell_type": "code",
   "execution_count": 6,
   "metadata": {},
   "outputs": [],
   "source": [
    "data2 = pd.read_csv(\"Dataset_benigno_ransomware/Dataset01.csv\")"
   ]
  },
  {
   "cell_type": "code",
   "execution_count": 7,
   "metadata": {},
   "outputs": [
    {
     "data": {
      "text/html": [
       "<div>\n",
       "<style scoped>\n",
       "    .dataframe tbody tr th:only-of-type {\n",
       "        vertical-align: middle;\n",
       "    }\n",
       "\n",
       "    .dataframe tbody tr th {\n",
       "        vertical-align: top;\n",
       "    }\n",
       "\n",
       "    .dataframe thead th {\n",
       "        text-align: right;\n",
       "    }\n",
       "</style>\n",
       "<table border=\"1\" class=\"dataframe\">\n",
       "  <thead>\n",
       "    <tr style=\"text-align: right;\">\n",
       "      <th></th>\n",
       "      <th>Flow Duration</th>\n",
       "      <th>Tot Fwd Pkts</th>\n",
       "      <th>Tot Bwd Pkts</th>\n",
       "      <th>TotLen Fwd Pkts</th>\n",
       "      <th>TotLen Bwd Pkts</th>\n",
       "      <th>Fwd Pkt Len Min</th>\n",
       "      <th>Bwd Pkt Len Min</th>\n",
       "      <th>Fwd Pkt Len Max</th>\n",
       "      <th>Bwd Pkt Len Max</th>\n",
       "      <th>Fwd Pkt Len Mean</th>\n",
       "      <th>Bwd Pkt Len Mean</th>\n",
       "      <th>Fwd Pkt Len Std</th>\n",
       "      <th>Bwd Pkt Len Std</th>\n",
       "      <th>Flow Pkts/s</th>\n",
       "      <th>Flow Byts/s</th>\n",
       "      <th>Label</th>\n",
       "    </tr>\n",
       "  </thead>\n",
       "  <tbody>\n",
       "    <tr>\n",
       "      <td>0</td>\n",
       "      <td>13</td>\n",
       "      <td>0</td>\n",
       "      <td>2</td>\n",
       "      <td>0</td>\n",
       "      <td>135</td>\n",
       "      <td>-1</td>\n",
       "      <td>52.0</td>\n",
       "      <td>-1</td>\n",
       "      <td>83</td>\n",
       "      <td>0.0</td>\n",
       "      <td>67.5</td>\n",
       "      <td>0.000000</td>\n",
       "      <td>21.897488</td>\n",
       "      <td>153846.153800</td>\n",
       "      <td>1.040000e+07</td>\n",
       "      <td>Benigno</td>\n",
       "    </tr>\n",
       "    <tr>\n",
       "      <td>1</td>\n",
       "      <td>15</td>\n",
       "      <td>0</td>\n",
       "      <td>2</td>\n",
       "      <td>0</td>\n",
       "      <td>135</td>\n",
       "      <td>-1</td>\n",
       "      <td>52.0</td>\n",
       "      <td>-1</td>\n",
       "      <td>83</td>\n",
       "      <td>0.0</td>\n",
       "      <td>67.5</td>\n",
       "      <td>0.000000</td>\n",
       "      <td>21.897488</td>\n",
       "      <td>133333.333300</td>\n",
       "      <td>9.000000e+06</td>\n",
       "      <td>Benigno</td>\n",
       "    </tr>\n",
       "    <tr>\n",
       "      <td>2</td>\n",
       "      <td>14</td>\n",
       "      <td>0</td>\n",
       "      <td>2</td>\n",
       "      <td>0</td>\n",
       "      <td>111</td>\n",
       "      <td>-1</td>\n",
       "      <td>40.0</td>\n",
       "      <td>-1</td>\n",
       "      <td>71</td>\n",
       "      <td>0.0</td>\n",
       "      <td>55.5</td>\n",
       "      <td>0.000000</td>\n",
       "      <td>21.897488</td>\n",
       "      <td>142857.142900</td>\n",
       "      <td>7.928571e+06</td>\n",
       "      <td>Benigno</td>\n",
       "    </tr>\n",
       "    <tr>\n",
       "      <td>3</td>\n",
       "      <td>0</td>\n",
       "      <td>0</td>\n",
       "      <td>1</td>\n",
       "      <td>0</td>\n",
       "      <td>83</td>\n",
       "      <td>-1</td>\n",
       "      <td>83.0</td>\n",
       "      <td>-1</td>\n",
       "      <td>83</td>\n",
       "      <td>0.0</td>\n",
       "      <td>83.0</td>\n",
       "      <td>0.000000</td>\n",
       "      <td>0.000000</td>\n",
       "      <td>0.000000</td>\n",
       "      <td>0.000000e+00</td>\n",
       "      <td>Benigno</td>\n",
       "    </tr>\n",
       "    <tr>\n",
       "      <td>4</td>\n",
       "      <td>13</td>\n",
       "      <td>0</td>\n",
       "      <td>2</td>\n",
       "      <td>0</td>\n",
       "      <td>159</td>\n",
       "      <td>-1</td>\n",
       "      <td>52.0</td>\n",
       "      <td>-1</td>\n",
       "      <td>107</td>\n",
       "      <td>0.0</td>\n",
       "      <td>79.5</td>\n",
       "      <td>0.000000</td>\n",
       "      <td>38.878014</td>\n",
       "      <td>153846.153800</td>\n",
       "      <td>1.220000e+07</td>\n",
       "      <td>Benigno</td>\n",
       "    </tr>\n",
       "    <tr>\n",
       "      <td>...</td>\n",
       "      <td>...</td>\n",
       "      <td>...</td>\n",
       "      <td>...</td>\n",
       "      <td>...</td>\n",
       "      <td>...</td>\n",
       "      <td>...</td>\n",
       "      <td>...</td>\n",
       "      <td>...</td>\n",
       "      <td>...</td>\n",
       "      <td>...</td>\n",
       "      <td>...</td>\n",
       "      <td>...</td>\n",
       "      <td>...</td>\n",
       "      <td>...</td>\n",
       "      <td>...</td>\n",
       "      <td>...</td>\n",
       "    </tr>\n",
       "    <tr>\n",
       "      <td>212790</td>\n",
       "      <td>6935</td>\n",
       "      <td>55118503</td>\n",
       "      <td>51</td>\n",
       "      <td>55</td>\n",
       "      <td>8844</td>\n",
       "      <td>12692</td>\n",
       "      <td>52.0</td>\n",
       "      <td>52</td>\n",
       "      <td>52</td>\n",
       "      <td>52.0</td>\n",
       "      <td>52.0</td>\n",
       "      <td>0.000000</td>\n",
       "      <td>0.000000</td>\n",
       "      <td>3944.773176</td>\n",
       "      <td>7.218935e+05</td>\n",
       "      <td>Ransomware</td>\n",
       "    </tr>\n",
       "    <tr>\n",
       "      <td>212791</td>\n",
       "      <td>4053974</td>\n",
       "      <td>30711742</td>\n",
       "      <td>24</td>\n",
       "      <td>25</td>\n",
       "      <td>2652</td>\n",
       "      <td>12942</td>\n",
       "      <td>52.0</td>\n",
       "      <td>40</td>\n",
       "      <td>-1</td>\n",
       "      <td>40.0</td>\n",
       "      <td>0.0</td>\n",
       "      <td>1.000000</td>\n",
       "      <td>0.000000</td>\n",
       "      <td>0.000000</td>\n",
       "      <td>0.000000e+00</td>\n",
       "      <td>Ransomware</td>\n",
       "    </tr>\n",
       "    <tr>\n",
       "      <td>212792</td>\n",
       "      <td>5744</td>\n",
       "      <td>66134134</td>\n",
       "      <td>11</td>\n",
       "      <td>16</td>\n",
       "      <td>1198</td>\n",
       "      <td>16758</td>\n",
       "      <td>52.0</td>\n",
       "      <td>1390</td>\n",
       "      <td>40</td>\n",
       "      <td>1390.0</td>\n",
       "      <td>40.0</td>\n",
       "      <td>0.447214</td>\n",
       "      <td>0.000000</td>\n",
       "      <td>0.000000</td>\n",
       "      <td>0.000000e+00</td>\n",
       "      <td>Ransomware</td>\n",
       "    </tr>\n",
       "    <tr>\n",
       "      <td>212793</td>\n",
       "      <td>56624</td>\n",
       "      <td>2439519</td>\n",
       "      <td>12</td>\n",
       "      <td>23</td>\n",
       "      <td>902</td>\n",
       "      <td>21363</td>\n",
       "      <td>52.0</td>\n",
       "      <td>-1</td>\n",
       "      <td>83</td>\n",
       "      <td>0.0</td>\n",
       "      <td>67.5</td>\n",
       "      <td>0.000000</td>\n",
       "      <td>21.897488</td>\n",
       "      <td>8163.265306</td>\n",
       "      <td>5.510204e+05</td>\n",
       "      <td>Benigno</td>\n",
       "    </tr>\n",
       "    <tr>\n",
       "      <td>212794</td>\n",
       "      <td>2262</td>\n",
       "      <td>681241</td>\n",
       "      <td>39</td>\n",
       "      <td>97</td>\n",
       "      <td>2014</td>\n",
       "      <td>126552</td>\n",
       "      <td>40.0</td>\n",
       "      <td>52</td>\n",
       "      <td>52</td>\n",
       "      <td>52.0</td>\n",
       "      <td>52.0</td>\n",
       "      <td>0.000000</td>\n",
       "      <td>0.000000</td>\n",
       "      <td>80.507792</td>\n",
       "      <td>3.365226e+04</td>\n",
       "      <td>Ransomware</td>\n",
       "    </tr>\n",
       "  </tbody>\n",
       "</table>\n",
       "<p>212795 rows × 16 columns</p>\n",
       "</div>"
      ],
      "text/plain": [
       "        Flow Duration  Tot Fwd Pkts  Tot Bwd Pkts  TotLen Fwd Pkts  \\\n",
       "0                  13             0             2                0   \n",
       "1                  15             0             2                0   \n",
       "2                  14             0             2                0   \n",
       "3                   0             0             1                0   \n",
       "4                  13             0             2                0   \n",
       "...               ...           ...           ...              ...   \n",
       "212790           6935      55118503            51               55   \n",
       "212791        4053974      30711742            24               25   \n",
       "212792           5744      66134134            11               16   \n",
       "212793          56624       2439519            12               23   \n",
       "212794           2262        681241            39               97   \n",
       "\n",
       "        TotLen Bwd Pkts  Fwd Pkt Len Min  Bwd Pkt Len Min  Fwd Pkt Len Max  \\\n",
       "0                   135               -1             52.0               -1   \n",
       "1                   135               -1             52.0               -1   \n",
       "2                   111               -1             40.0               -1   \n",
       "3                    83               -1             83.0               -1   \n",
       "4                   159               -1             52.0               -1   \n",
       "...                 ...              ...              ...              ...   \n",
       "212790             8844            12692             52.0               52   \n",
       "212791             2652            12942             52.0               40   \n",
       "212792             1198            16758             52.0             1390   \n",
       "212793              902            21363             52.0               -1   \n",
       "212794             2014           126552             40.0               52   \n",
       "\n",
       "        Bwd Pkt Len Max  Fwd Pkt Len Mean  Bwd Pkt Len Mean  Fwd Pkt Len Std  \\\n",
       "0                    83               0.0              67.5         0.000000   \n",
       "1                    83               0.0              67.5         0.000000   \n",
       "2                    71               0.0              55.5         0.000000   \n",
       "3                    83               0.0              83.0         0.000000   \n",
       "4                   107               0.0              79.5         0.000000   \n",
       "...                 ...               ...               ...              ...   \n",
       "212790               52              52.0              52.0         0.000000   \n",
       "212791               -1              40.0               0.0         1.000000   \n",
       "212792               40            1390.0              40.0         0.447214   \n",
       "212793               83               0.0              67.5         0.000000   \n",
       "212794               52              52.0              52.0         0.000000   \n",
       "\n",
       "        Bwd Pkt Len Std    Flow Pkts/s   Flow Byts/s       Label  \n",
       "0             21.897488  153846.153800  1.040000e+07     Benigno  \n",
       "1             21.897488  133333.333300  9.000000e+06     Benigno  \n",
       "2             21.897488  142857.142900  7.928571e+06     Benigno  \n",
       "3              0.000000       0.000000  0.000000e+00     Benigno  \n",
       "4             38.878014  153846.153800  1.220000e+07     Benigno  \n",
       "...                 ...            ...           ...         ...  \n",
       "212790         0.000000    3944.773176  7.218935e+05  Ransomware  \n",
       "212791         0.000000       0.000000  0.000000e+00  Ransomware  \n",
       "212792         0.000000       0.000000  0.000000e+00  Ransomware  \n",
       "212793        21.897488    8163.265306  5.510204e+05     Benigno  \n",
       "212794         0.000000      80.507792  3.365226e+04  Ransomware  \n",
       "\n",
       "[212795 rows x 16 columns]"
      ]
     },
     "execution_count": 7,
     "metadata": {},
     "output_type": "execute_result"
    }
   ],
   "source": [
    "data2"
   ]
  },
  {
   "cell_type": "code",
   "execution_count": 14,
   "metadata": {},
   "outputs": [],
   "source": [
    "def transform_label(x):\n",
    "    return 1 if(x == 'Benigno') else 0"
   ]
  },
  {
   "cell_type": "code",
   "execution_count": 15,
   "metadata": {},
   "outputs": [],
   "source": [
    "data2['binaryLabel']=data2['Label'].apply(transform_label)"
   ]
  },
  {
   "cell_type": "code",
   "execution_count": 16,
   "metadata": {},
   "outputs": [],
   "source": [
    "def matirx_binary_label(x, name):\n",
    "    if(x == name):\n",
    "        return 1\n",
    "    else:\n",
    "        return 0"
   ]
  },
  {
   "cell_type": "code",
   "execution_count": 17,
   "metadata": {},
   "outputs": [],
   "source": [
    "data2['benignoLabel']=data2['Label'].apply(matirx_binary_label, name='Benigno')"
   ]
  },
  {
   "cell_type": "code",
   "execution_count": 18,
   "metadata": {},
   "outputs": [],
   "source": [
    "data2['ransomwareLabel']=data2['Label'].apply(matirx_binary_label, name='Ransomware')"
   ]
  },
  {
   "cell_type": "code",
   "execution_count": 19,
   "metadata": {},
   "outputs": [],
   "source": [
    "dataBenigno = data2[data2['Label']=='Benigno']"
   ]
  },
  {
   "cell_type": "code",
   "execution_count": 20,
   "metadata": {},
   "outputs": [],
   "source": [
    "dataRansomware = data2[data2['Label']!='Benigno']"
   ]
  },
  {
   "cell_type": "markdown",
   "metadata": {},
   "source": [
    "#### Cantidad Benignos"
   ]
  },
  {
   "cell_type": "code",
   "execution_count": 23,
   "metadata": {},
   "outputs": [
    {
     "data": {
      "text/html": [
       "<div>\n",
       "<style scoped>\n",
       "    .dataframe tbody tr th:only-of-type {\n",
       "        vertical-align: middle;\n",
       "    }\n",
       "\n",
       "    .dataframe tbody tr th {\n",
       "        vertical-align: top;\n",
       "    }\n",
       "\n",
       "    .dataframe thead th {\n",
       "        text-align: right;\n",
       "    }\n",
       "</style>\n",
       "<table border=\"1\" class=\"dataframe\">\n",
       "  <thead>\n",
       "    <tr style=\"text-align: right;\">\n",
       "      <th></th>\n",
       "      <th>Flow Duration</th>\n",
       "      <th>Tot Fwd Pkts</th>\n",
       "      <th>Tot Bwd Pkts</th>\n",
       "      <th>TotLen Fwd Pkts</th>\n",
       "      <th>TotLen Bwd Pkts</th>\n",
       "      <th>Fwd Pkt Len Min</th>\n",
       "      <th>Bwd Pkt Len Min</th>\n",
       "      <th>Fwd Pkt Len Max</th>\n",
       "      <th>Bwd Pkt Len Max</th>\n",
       "      <th>Fwd Pkt Len Mean</th>\n",
       "      <th>Bwd Pkt Len Mean</th>\n",
       "      <th>Fwd Pkt Len Std</th>\n",
       "      <th>Bwd Pkt Len Std</th>\n",
       "      <th>Flow Pkts/s</th>\n",
       "      <th>Flow Byts/s</th>\n",
       "      <th>Label</th>\n",
       "      <th>binaryLabel</th>\n",
       "      <th>benignoLabel</th>\n",
       "      <th>ransomwareLabel</th>\n",
       "    </tr>\n",
       "  </thead>\n",
       "  <tbody>\n",
       "    <tr>\n",
       "      <td>0</td>\n",
       "      <td>13</td>\n",
       "      <td>0</td>\n",
       "      <td>2</td>\n",
       "      <td>0</td>\n",
       "      <td>135</td>\n",
       "      <td>-1</td>\n",
       "      <td>52.0</td>\n",
       "      <td>-1</td>\n",
       "      <td>83</td>\n",
       "      <td>0.0</td>\n",
       "      <td>67.5</td>\n",
       "      <td>0.0</td>\n",
       "      <td>21.897488</td>\n",
       "      <td>153846.1538</td>\n",
       "      <td>1.040000e+07</td>\n",
       "      <td>Benigno</td>\n",
       "      <td>1</td>\n",
       "      <td>1</td>\n",
       "      <td>0</td>\n",
       "    </tr>\n",
       "    <tr>\n",
       "      <td>1</td>\n",
       "      <td>15</td>\n",
       "      <td>0</td>\n",
       "      <td>2</td>\n",
       "      <td>0</td>\n",
       "      <td>135</td>\n",
       "      <td>-1</td>\n",
       "      <td>52.0</td>\n",
       "      <td>-1</td>\n",
       "      <td>83</td>\n",
       "      <td>0.0</td>\n",
       "      <td>67.5</td>\n",
       "      <td>0.0</td>\n",
       "      <td>21.897488</td>\n",
       "      <td>133333.3333</td>\n",
       "      <td>9.000000e+06</td>\n",
       "      <td>Benigno</td>\n",
       "      <td>1</td>\n",
       "      <td>1</td>\n",
       "      <td>0</td>\n",
       "    </tr>\n",
       "    <tr>\n",
       "      <td>2</td>\n",
       "      <td>14</td>\n",
       "      <td>0</td>\n",
       "      <td>2</td>\n",
       "      <td>0</td>\n",
       "      <td>111</td>\n",
       "      <td>-1</td>\n",
       "      <td>40.0</td>\n",
       "      <td>-1</td>\n",
       "      <td>71</td>\n",
       "      <td>0.0</td>\n",
       "      <td>55.5</td>\n",
       "      <td>0.0</td>\n",
       "      <td>21.897488</td>\n",
       "      <td>142857.1429</td>\n",
       "      <td>7.928571e+06</td>\n",
       "      <td>Benigno</td>\n",
       "      <td>1</td>\n",
       "      <td>1</td>\n",
       "      <td>0</td>\n",
       "    </tr>\n",
       "    <tr>\n",
       "      <td>3</td>\n",
       "      <td>0</td>\n",
       "      <td>0</td>\n",
       "      <td>1</td>\n",
       "      <td>0</td>\n",
       "      <td>83</td>\n",
       "      <td>-1</td>\n",
       "      <td>83.0</td>\n",
       "      <td>-1</td>\n",
       "      <td>83</td>\n",
       "      <td>0.0</td>\n",
       "      <td>83.0</td>\n",
       "      <td>0.0</td>\n",
       "      <td>0.000000</td>\n",
       "      <td>0.0000</td>\n",
       "      <td>0.000000e+00</td>\n",
       "      <td>Benigno</td>\n",
       "      <td>1</td>\n",
       "      <td>1</td>\n",
       "      <td>0</td>\n",
       "    </tr>\n",
       "    <tr>\n",
       "      <td>4</td>\n",
       "      <td>13</td>\n",
       "      <td>0</td>\n",
       "      <td>2</td>\n",
       "      <td>0</td>\n",
       "      <td>159</td>\n",
       "      <td>-1</td>\n",
       "      <td>52.0</td>\n",
       "      <td>-1</td>\n",
       "      <td>107</td>\n",
       "      <td>0.0</td>\n",
       "      <td>79.5</td>\n",
       "      <td>0.0</td>\n",
       "      <td>38.878014</td>\n",
       "      <td>153846.1538</td>\n",
       "      <td>1.220000e+07</td>\n",
       "      <td>Benigno</td>\n",
       "      <td>1</td>\n",
       "      <td>1</td>\n",
       "      <td>0</td>\n",
       "    </tr>\n",
       "  </tbody>\n",
       "</table>\n",
       "</div>"
      ],
      "text/plain": [
       "   Flow Duration  Tot Fwd Pkts  Tot Bwd Pkts  TotLen Fwd Pkts  \\\n",
       "0             13             0             2                0   \n",
       "1             15             0             2                0   \n",
       "2             14             0             2                0   \n",
       "3              0             0             1                0   \n",
       "4             13             0             2                0   \n",
       "\n",
       "   TotLen Bwd Pkts  Fwd Pkt Len Min  Bwd Pkt Len Min  Fwd Pkt Len Max  \\\n",
       "0              135               -1             52.0               -1   \n",
       "1              135               -1             52.0               -1   \n",
       "2              111               -1             40.0               -1   \n",
       "3               83               -1             83.0               -1   \n",
       "4              159               -1             52.0               -1   \n",
       "\n",
       "   Bwd Pkt Len Max  Fwd Pkt Len Mean  Bwd Pkt Len Mean  Fwd Pkt Len Std  \\\n",
       "0               83               0.0              67.5              0.0   \n",
       "1               83               0.0              67.5              0.0   \n",
       "2               71               0.0              55.5              0.0   \n",
       "3               83               0.0              83.0              0.0   \n",
       "4              107               0.0              79.5              0.0   \n",
       "\n",
       "   Bwd Pkt Len Std  Flow Pkts/s   Flow Byts/s    Label  binaryLabel  \\\n",
       "0        21.897488  153846.1538  1.040000e+07  Benigno            1   \n",
       "1        21.897488  133333.3333  9.000000e+06  Benigno            1   \n",
       "2        21.897488  142857.1429  7.928571e+06  Benigno            1   \n",
       "3         0.000000       0.0000  0.000000e+00  Benigno            1   \n",
       "4        38.878014  153846.1538  1.220000e+07  Benigno            1   \n",
       "\n",
       "   benignoLabel  ransomwareLabel  \n",
       "0             1                0  \n",
       "1             1                0  \n",
       "2             1                0  \n",
       "3             1                0  \n",
       "4             1                0  "
      ]
     },
     "execution_count": 23,
     "metadata": {},
     "output_type": "execute_result"
    }
   ],
   "source": [
    "dataBenigno.head()"
   ]
  },
  {
   "cell_type": "code",
   "execution_count": 21,
   "metadata": {},
   "outputs": [
    {
     "data": {
      "text/plain": [
       "137907"
      ]
     },
     "execution_count": 21,
     "metadata": {},
     "output_type": "execute_result"
    }
   ],
   "source": [
    "dataBenigno.shape[0]"
   ]
  },
  {
   "cell_type": "markdown",
   "metadata": {},
   "source": [
    "#### Cantidad Ransomware"
   ]
  },
  {
   "cell_type": "code",
   "execution_count": 24,
   "metadata": {},
   "outputs": [
    {
     "data": {
      "text/html": [
       "<div>\n",
       "<style scoped>\n",
       "    .dataframe tbody tr th:only-of-type {\n",
       "        vertical-align: middle;\n",
       "    }\n",
       "\n",
       "    .dataframe tbody tr th {\n",
       "        vertical-align: top;\n",
       "    }\n",
       "\n",
       "    .dataframe thead th {\n",
       "        text-align: right;\n",
       "    }\n",
       "</style>\n",
       "<table border=\"1\" class=\"dataframe\">\n",
       "  <thead>\n",
       "    <tr style=\"text-align: right;\">\n",
       "      <th></th>\n",
       "      <th>Flow Duration</th>\n",
       "      <th>Tot Fwd Pkts</th>\n",
       "      <th>Tot Bwd Pkts</th>\n",
       "      <th>TotLen Fwd Pkts</th>\n",
       "      <th>TotLen Bwd Pkts</th>\n",
       "      <th>Fwd Pkt Len Min</th>\n",
       "      <th>Bwd Pkt Len Min</th>\n",
       "      <th>Fwd Pkt Len Max</th>\n",
       "      <th>Bwd Pkt Len Max</th>\n",
       "      <th>Fwd Pkt Len Mean</th>\n",
       "      <th>Bwd Pkt Len Mean</th>\n",
       "      <th>Fwd Pkt Len Std</th>\n",
       "      <th>Bwd Pkt Len Std</th>\n",
       "      <th>Flow Pkts/s</th>\n",
       "      <th>Flow Byts/s</th>\n",
       "      <th>Label</th>\n",
       "      <th>binaryLabel</th>\n",
       "      <th>benignoLabel</th>\n",
       "      <th>ransomwareLabel</th>\n",
       "    </tr>\n",
       "  </thead>\n",
       "  <tbody>\n",
       "    <tr>\n",
       "      <td>9</td>\n",
       "      <td>0</td>\n",
       "      <td>0</td>\n",
       "      <td>1</td>\n",
       "      <td>0</td>\n",
       "      <td>83</td>\n",
       "      <td>-1</td>\n",
       "      <td>83.0</td>\n",
       "      <td>1093</td>\n",
       "      <td>789</td>\n",
       "      <td>314.250000</td>\n",
       "      <td>238.250000</td>\n",
       "      <td>519.180043</td>\n",
       "      <td>367.185580</td>\n",
       "      <td>1.043094</td>\n",
       "      <td>5.424088e+01</td>\n",
       "      <td>Ransomware</td>\n",
       "      <td>0</td>\n",
       "      <td>0</td>\n",
       "      <td>1</td>\n",
       "    </tr>\n",
       "    <tr>\n",
       "      <td>18</td>\n",
       "      <td>28119</td>\n",
       "      <td>0</td>\n",
       "      <td>2</td>\n",
       "      <td>0</td>\n",
       "      <td>135</td>\n",
       "      <td>-1</td>\n",
       "      <td>-1.0</td>\n",
       "      <td>52</td>\n",
       "      <td>-1</td>\n",
       "      <td>52.000000</td>\n",
       "      <td>0.000000</td>\n",
       "      <td>1.000000</td>\n",
       "      <td>0.000000</td>\n",
       "      <td>1.534993</td>\n",
       "      <td>4.541661e+02</td>\n",
       "      <td>Ransomware</td>\n",
       "      <td>0</td>\n",
       "      <td>0</td>\n",
       "      <td>1</td>\n",
       "    </tr>\n",
       "    <tr>\n",
       "      <td>22</td>\n",
       "      <td>30326757</td>\n",
       "      <td>0</td>\n",
       "      <td>7</td>\n",
       "      <td>0</td>\n",
       "      <td>581</td>\n",
       "      <td>-1</td>\n",
       "      <td>83.0</td>\n",
       "      <td>1390</td>\n",
       "      <td>407</td>\n",
       "      <td>363.285714</td>\n",
       "      <td>123.428571</td>\n",
       "      <td>491.957049</td>\n",
       "      <td>134.871985</td>\n",
       "      <td>200000.000000</td>\n",
       "      <td>8.000000e+06</td>\n",
       "      <td>Ransomware</td>\n",
       "      <td>0</td>\n",
       "      <td>0</td>\n",
       "      <td>1</td>\n",
       "    </tr>\n",
       "    <tr>\n",
       "      <td>24</td>\n",
       "      <td>0</td>\n",
       "      <td>0</td>\n",
       "      <td>1</td>\n",
       "      <td>0</td>\n",
       "      <td>83</td>\n",
       "      <td>-1</td>\n",
       "      <td>-1.0</td>\n",
       "      <td>40</td>\n",
       "      <td>-1</td>\n",
       "      <td>40.000000</td>\n",
       "      <td>0.000000</td>\n",
       "      <td>1.000000</td>\n",
       "      <td>0.000000</td>\n",
       "      <td>0.122068</td>\n",
       "      <td>2.915903e+01</td>\n",
       "      <td>Ransomware</td>\n",
       "      <td>0</td>\n",
       "      <td>0</td>\n",
       "      <td>1</td>\n",
       "    </tr>\n",
       "    <tr>\n",
       "      <td>42</td>\n",
       "      <td>0</td>\n",
       "      <td>0</td>\n",
       "      <td>1</td>\n",
       "      <td>0</td>\n",
       "      <td>83</td>\n",
       "      <td>-1</td>\n",
       "      <td>-1.0</td>\n",
       "      <td>52</td>\n",
       "      <td>-1</td>\n",
       "      <td>52.000000</td>\n",
       "      <td>0.000000</td>\n",
       "      <td>1.000000</td>\n",
       "      <td>0.000000</td>\n",
       "      <td>0.001591</td>\n",
       "      <td>8.275361e-02</td>\n",
       "      <td>Ransomware</td>\n",
       "      <td>0</td>\n",
       "      <td>0</td>\n",
       "      <td>1</td>\n",
       "    </tr>\n",
       "  </tbody>\n",
       "</table>\n",
       "</div>"
      ],
      "text/plain": [
       "    Flow Duration  Tot Fwd Pkts  Tot Bwd Pkts  TotLen Fwd Pkts  \\\n",
       "9               0             0             1                0   \n",
       "18          28119             0             2                0   \n",
       "22       30326757             0             7                0   \n",
       "24              0             0             1                0   \n",
       "42              0             0             1                0   \n",
       "\n",
       "    TotLen Bwd Pkts  Fwd Pkt Len Min  Bwd Pkt Len Min  Fwd Pkt Len Max  \\\n",
       "9                83               -1             83.0             1093   \n",
       "18              135               -1             -1.0               52   \n",
       "22              581               -1             83.0             1390   \n",
       "24               83               -1             -1.0               40   \n",
       "42               83               -1             -1.0               52   \n",
       "\n",
       "    Bwd Pkt Len Max  Fwd Pkt Len Mean  Bwd Pkt Len Mean  Fwd Pkt Len Std  \\\n",
       "9               789        314.250000        238.250000       519.180043   \n",
       "18               -1         52.000000          0.000000         1.000000   \n",
       "22              407        363.285714        123.428571       491.957049   \n",
       "24               -1         40.000000          0.000000         1.000000   \n",
       "42               -1         52.000000          0.000000         1.000000   \n",
       "\n",
       "    Bwd Pkt Len Std    Flow Pkts/s   Flow Byts/s       Label  binaryLabel  \\\n",
       "9        367.185580       1.043094  5.424088e+01  Ransomware            0   \n",
       "18         0.000000       1.534993  4.541661e+02  Ransomware            0   \n",
       "22       134.871985  200000.000000  8.000000e+06  Ransomware            0   \n",
       "24         0.000000       0.122068  2.915903e+01  Ransomware            0   \n",
       "42         0.000000       0.001591  8.275361e-02  Ransomware            0   \n",
       "\n",
       "    benignoLabel  ransomwareLabel  \n",
       "9              0                1  \n",
       "18             0                1  \n",
       "22             0                1  \n",
       "24             0                1  \n",
       "42             0                1  "
      ]
     },
     "execution_count": 24,
     "metadata": {},
     "output_type": "execute_result"
    }
   ],
   "source": [
    "dataRansomware.head()"
   ]
  },
  {
   "cell_type": "code",
   "execution_count": 22,
   "metadata": {},
   "outputs": [
    {
     "data": {
      "text/plain": [
       "74888"
      ]
     },
     "execution_count": 22,
     "metadata": {},
     "output_type": "execute_result"
    }
   ],
   "source": [
    "dataRansomware.shape[0]"
   ]
  },
  {
   "cell_type": "markdown",
   "metadata": {},
   "source": [
    "#### GENERAMOS NUEVOS CSV"
   ]
  },
  {
   "cell_type": "code",
   "execution_count": 37,
   "metadata": {},
   "outputs": [],
   "source": [
    "dataBenigno.to_csv(r'Data_Beningo.csv', index = False)\n",
    "dataRansomware.to_csv(r'Data_Ransomware.csv', index = False)"
   ]
  },
  {
   "cell_type": "markdown",
   "metadata": {},
   "source": [
    "##### Nuevos PATH a utilizar"
   ]
  },
  {
   "cell_type": "code",
   "execution_count": 2,
   "metadata": {},
   "outputs": [],
   "source": [
    "path_dataset_benigno = \"Data_Beningo.csv\"\n",
    "path_dataset_ransomware = \"Data_Ransomware.csv\""
   ]
  },
  {
   "cell_type": "code",
   "execution_count": 3,
   "metadata": {},
   "outputs": [],
   "source": [
    "dataBeningoCSV = pd.read_csv(\"Data_Beningo.csv\")\n",
    "dataRansomwareCSV = pd.read_csv(\"Data_Ransomware.csv\")"
   ]
  },
  {
   "cell_type": "code",
   "execution_count": 4,
   "metadata": {},
   "outputs": [],
   "source": [
    "cantidadBenigno =dataBeningoCSV.shape[0]"
   ]
  },
  {
   "cell_type": "code",
   "execution_count": 104,
   "metadata": {},
   "outputs": [
    {
     "data": {
      "text/plain": [
       "137907"
      ]
     },
     "execution_count": 104,
     "metadata": {},
     "output_type": "execute_result"
    }
   ],
   "source": [
    "cantidadBenigno"
   ]
  },
  {
   "cell_type": "code",
   "execution_count": 5,
   "metadata": {},
   "outputs": [],
   "source": [
    "cantidadRansomware = dataRansomwareCSV.shape[0]\n"
   ]
  },
  {
   "cell_type": "code",
   "execution_count": 105,
   "metadata": {},
   "outputs": [
    {
     "data": {
      "text/plain": [
       "74888"
      ]
     },
     "execution_count": 105,
     "metadata": {},
     "output_type": "execute_result"
    }
   ],
   "source": [
    "cantidadRansomware"
   ]
  },
  {
   "cell_type": "code",
   "execution_count": 6,
   "metadata": {},
   "outputs": [],
   "source": [
    "cantidadFinal = cantidadRansomware if(cantidadBenigno > cantidadRansomware) else cantidadBenigno"
   ]
  },
  {
   "cell_type": "code",
   "execution_count": 7,
   "metadata": {},
   "outputs": [],
   "source": [
    "dataBenignoBalanced = dataBeningoCSV.head(cantidadFinal)"
   ]
  },
  {
   "cell_type": "code",
   "execution_count": 8,
   "metadata": {},
   "outputs": [],
   "source": [
    "dataRansomwareBalanced = dataRansomwareCSV.head(cantidadFinal)"
   ]
  },
  {
   "cell_type": "code",
   "execution_count": 9,
   "metadata": {},
   "outputs": [],
   "source": [
    "data_unite_balanced = pd.concat([dataRansomwareBalanced, dataBenignoBalanced], axis=0)"
   ]
  },
  {
   "cell_type": "markdown",
   "metadata": {},
   "source": [
    "#### Data ya balanceada"
   ]
  },
  {
   "cell_type": "code",
   "execution_count": 10,
   "metadata": {
    "scrolled": false
   },
   "outputs": [
    {
     "data": {
      "text/html": [
       "<div>\n",
       "<style scoped>\n",
       "    .dataframe tbody tr th:only-of-type {\n",
       "        vertical-align: middle;\n",
       "    }\n",
       "\n",
       "    .dataframe tbody tr th {\n",
       "        vertical-align: top;\n",
       "    }\n",
       "\n",
       "    .dataframe thead th {\n",
       "        text-align: right;\n",
       "    }\n",
       "</style>\n",
       "<table border=\"1\" class=\"dataframe\">\n",
       "  <thead>\n",
       "    <tr style=\"text-align: right;\">\n",
       "      <th></th>\n",
       "      <th>Flow Duration</th>\n",
       "      <th>Tot Fwd Pkts</th>\n",
       "      <th>Tot Bwd Pkts</th>\n",
       "      <th>TotLen Fwd Pkts</th>\n",
       "      <th>TotLen Bwd Pkts</th>\n",
       "      <th>Fwd Pkt Len Min</th>\n",
       "      <th>Bwd Pkt Len Min</th>\n",
       "      <th>Fwd Pkt Len Max</th>\n",
       "      <th>Bwd Pkt Len Max</th>\n",
       "      <th>Fwd Pkt Len Mean</th>\n",
       "      <th>Bwd Pkt Len Mean</th>\n",
       "      <th>Fwd Pkt Len Std</th>\n",
       "      <th>Bwd Pkt Len Std</th>\n",
       "      <th>Flow Pkts/s</th>\n",
       "      <th>Flow Byts/s</th>\n",
       "      <th>Label</th>\n",
       "      <th>binaryLabel</th>\n",
       "      <th>benignoLabel</th>\n",
       "      <th>ransomwareLabel</th>\n",
       "    </tr>\n",
       "  </thead>\n",
       "  <tbody>\n",
       "    <tr>\n",
       "      <td>0</td>\n",
       "      <td>0</td>\n",
       "      <td>0</td>\n",
       "      <td>1</td>\n",
       "      <td>0</td>\n",
       "      <td>83</td>\n",
       "      <td>-1</td>\n",
       "      <td>83.0</td>\n",
       "      <td>1093</td>\n",
       "      <td>789</td>\n",
       "      <td>314.250000</td>\n",
       "      <td>238.250000</td>\n",
       "      <td>519.180043</td>\n",
       "      <td>367.185580</td>\n",
       "      <td>1.043094</td>\n",
       "      <td>5.424088e+01</td>\n",
       "      <td>Ransomware</td>\n",
       "      <td>0</td>\n",
       "      <td>0</td>\n",
       "      <td>1</td>\n",
       "    </tr>\n",
       "    <tr>\n",
       "      <td>1</td>\n",
       "      <td>28119</td>\n",
       "      <td>0</td>\n",
       "      <td>2</td>\n",
       "      <td>0</td>\n",
       "      <td>135</td>\n",
       "      <td>-1</td>\n",
       "      <td>-1.0</td>\n",
       "      <td>52</td>\n",
       "      <td>-1</td>\n",
       "      <td>52.000000</td>\n",
       "      <td>0.000000</td>\n",
       "      <td>1.000000</td>\n",
       "      <td>0.000000</td>\n",
       "      <td>1.534993</td>\n",
       "      <td>4.541661e+02</td>\n",
       "      <td>Ransomware</td>\n",
       "      <td>0</td>\n",
       "      <td>0</td>\n",
       "      <td>1</td>\n",
       "    </tr>\n",
       "    <tr>\n",
       "      <td>2</td>\n",
       "      <td>30326757</td>\n",
       "      <td>0</td>\n",
       "      <td>7</td>\n",
       "      <td>0</td>\n",
       "      <td>581</td>\n",
       "      <td>-1</td>\n",
       "      <td>83.0</td>\n",
       "      <td>1390</td>\n",
       "      <td>407</td>\n",
       "      <td>363.285714</td>\n",
       "      <td>123.428571</td>\n",
       "      <td>491.957049</td>\n",
       "      <td>134.871985</td>\n",
       "      <td>200000.000000</td>\n",
       "      <td>8.000000e+06</td>\n",
       "      <td>Ransomware</td>\n",
       "      <td>0</td>\n",
       "      <td>0</td>\n",
       "      <td>1</td>\n",
       "    </tr>\n",
       "    <tr>\n",
       "      <td>3</td>\n",
       "      <td>0</td>\n",
       "      <td>0</td>\n",
       "      <td>1</td>\n",
       "      <td>0</td>\n",
       "      <td>83</td>\n",
       "      <td>-1</td>\n",
       "      <td>-1.0</td>\n",
       "      <td>40</td>\n",
       "      <td>-1</td>\n",
       "      <td>40.000000</td>\n",
       "      <td>0.000000</td>\n",
       "      <td>1.000000</td>\n",
       "      <td>0.000000</td>\n",
       "      <td>0.122068</td>\n",
       "      <td>2.915903e+01</td>\n",
       "      <td>Ransomware</td>\n",
       "      <td>0</td>\n",
       "      <td>0</td>\n",
       "      <td>1</td>\n",
       "    </tr>\n",
       "    <tr>\n",
       "      <td>4</td>\n",
       "      <td>0</td>\n",
       "      <td>0</td>\n",
       "      <td>1</td>\n",
       "      <td>0</td>\n",
       "      <td>83</td>\n",
       "      <td>-1</td>\n",
       "      <td>-1.0</td>\n",
       "      <td>52</td>\n",
       "      <td>-1</td>\n",
       "      <td>52.000000</td>\n",
       "      <td>0.000000</td>\n",
       "      <td>1.000000</td>\n",
       "      <td>0.000000</td>\n",
       "      <td>0.001591</td>\n",
       "      <td>8.275361e-02</td>\n",
       "      <td>Ransomware</td>\n",
       "      <td>0</td>\n",
       "      <td>0</td>\n",
       "      <td>1</td>\n",
       "    </tr>\n",
       "    <tr>\n",
       "      <td>...</td>\n",
       "      <td>...</td>\n",
       "      <td>...</td>\n",
       "      <td>...</td>\n",
       "      <td>...</td>\n",
       "      <td>...</td>\n",
       "      <td>...</td>\n",
       "      <td>...</td>\n",
       "      <td>...</td>\n",
       "      <td>...</td>\n",
       "      <td>...</td>\n",
       "      <td>...</td>\n",
       "      <td>...</td>\n",
       "      <td>...</td>\n",
       "      <td>...</td>\n",
       "      <td>...</td>\n",
       "      <td>...</td>\n",
       "      <td>...</td>\n",
       "      <td>...</td>\n",
       "      <td>...</td>\n",
       "    </tr>\n",
       "    <tr>\n",
       "      <td>74883</td>\n",
       "      <td>208115</td>\n",
       "      <td>1</td>\n",
       "      <td>1</td>\n",
       "      <td>64</td>\n",
       "      <td>416</td>\n",
       "      <td>64</td>\n",
       "      <td>416.0</td>\n",
       "      <td>64</td>\n",
       "      <td>416</td>\n",
       "      <td>64.000000</td>\n",
       "      <td>416.000000</td>\n",
       "      <td>0.000000</td>\n",
       "      <td>0.000000</td>\n",
       "      <td>9.610071</td>\n",
       "      <td>2.306417e+03</td>\n",
       "      <td>Benigno</td>\n",
       "      <td>1</td>\n",
       "      <td>1</td>\n",
       "      <td>0</td>\n",
       "    </tr>\n",
       "    <tr>\n",
       "      <td>74884</td>\n",
       "      <td>737865</td>\n",
       "      <td>1</td>\n",
       "      <td>2</td>\n",
       "      <td>64</td>\n",
       "      <td>116</td>\n",
       "      <td>64</td>\n",
       "      <td>52.0</td>\n",
       "      <td>64</td>\n",
       "      <td>64</td>\n",
       "      <td>64.000000</td>\n",
       "      <td>58.000000</td>\n",
       "      <td>0.000000</td>\n",
       "      <td>8.426150</td>\n",
       "      <td>4.065784</td>\n",
       "      <td>2.439471e+02</td>\n",
       "      <td>Benigno</td>\n",
       "      <td>1</td>\n",
       "      <td>1</td>\n",
       "      <td>0</td>\n",
       "    </tr>\n",
       "    <tr>\n",
       "      <td>74885</td>\n",
       "      <td>1318</td>\n",
       "      <td>1</td>\n",
       "      <td>1</td>\n",
       "      <td>64</td>\n",
       "      <td>242</td>\n",
       "      <td>64</td>\n",
       "      <td>242.0</td>\n",
       "      <td>64</td>\n",
       "      <td>242</td>\n",
       "      <td>64.000000</td>\n",
       "      <td>242.000000</td>\n",
       "      <td>0.000000</td>\n",
       "      <td>0.000000</td>\n",
       "      <td>1517.450683</td>\n",
       "      <td>2.321700e+05</td>\n",
       "      <td>Benigno</td>\n",
       "      <td>1</td>\n",
       "      <td>1</td>\n",
       "      <td>0</td>\n",
       "    </tr>\n",
       "    <tr>\n",
       "      <td>74886</td>\n",
       "      <td>23874</td>\n",
       "      <td>1</td>\n",
       "      <td>1</td>\n",
       "      <td>64</td>\n",
       "      <td>182</td>\n",
       "      <td>64</td>\n",
       "      <td>182.0</td>\n",
       "      <td>64</td>\n",
       "      <td>182</td>\n",
       "      <td>64.000000</td>\n",
       "      <td>182.000000</td>\n",
       "      <td>0.000000</td>\n",
       "      <td>0.000000</td>\n",
       "      <td>83.773142</td>\n",
       "      <td>1.030410e+04</td>\n",
       "      <td>Benigno</td>\n",
       "      <td>1</td>\n",
       "      <td>1</td>\n",
       "      <td>0</td>\n",
       "    </tr>\n",
       "    <tr>\n",
       "      <td>74887</td>\n",
       "      <td>513393</td>\n",
       "      <td>1</td>\n",
       "      <td>2</td>\n",
       "      <td>64</td>\n",
       "      <td>116</td>\n",
       "      <td>64</td>\n",
       "      <td>52.0</td>\n",
       "      <td>64</td>\n",
       "      <td>64</td>\n",
       "      <td>64.000000</td>\n",
       "      <td>58.000000</td>\n",
       "      <td>0.000000</td>\n",
       "      <td>8.426150</td>\n",
       "      <td>5.843477</td>\n",
       "      <td>3.506086e+02</td>\n",
       "      <td>Benigno</td>\n",
       "      <td>1</td>\n",
       "      <td>1</td>\n",
       "      <td>0</td>\n",
       "    </tr>\n",
       "  </tbody>\n",
       "</table>\n",
       "<p>149776 rows × 19 columns</p>\n",
       "</div>"
      ],
      "text/plain": [
       "       Flow Duration  Tot Fwd Pkts  Tot Bwd Pkts  TotLen Fwd Pkts  \\\n",
       "0                  0             0             1                0   \n",
       "1              28119             0             2                0   \n",
       "2           30326757             0             7                0   \n",
       "3                  0             0             1                0   \n",
       "4                  0             0             1                0   \n",
       "...              ...           ...           ...              ...   \n",
       "74883         208115             1             1               64   \n",
       "74884         737865             1             2               64   \n",
       "74885           1318             1             1               64   \n",
       "74886          23874             1             1               64   \n",
       "74887         513393             1             2               64   \n",
       "\n",
       "       TotLen Bwd Pkts  Fwd Pkt Len Min  Bwd Pkt Len Min  Fwd Pkt Len Max  \\\n",
       "0                   83               -1             83.0             1093   \n",
       "1                  135               -1             -1.0               52   \n",
       "2                  581               -1             83.0             1390   \n",
       "3                   83               -1             -1.0               40   \n",
       "4                   83               -1             -1.0               52   \n",
       "...                ...              ...              ...              ...   \n",
       "74883              416               64            416.0               64   \n",
       "74884              116               64             52.0               64   \n",
       "74885              242               64            242.0               64   \n",
       "74886              182               64            182.0               64   \n",
       "74887              116               64             52.0               64   \n",
       "\n",
       "       Bwd Pkt Len Max  Fwd Pkt Len Mean  Bwd Pkt Len Mean  Fwd Pkt Len Std  \\\n",
       "0                  789        314.250000        238.250000       519.180043   \n",
       "1                   -1         52.000000          0.000000         1.000000   \n",
       "2                  407        363.285714        123.428571       491.957049   \n",
       "3                   -1         40.000000          0.000000         1.000000   \n",
       "4                   -1         52.000000          0.000000         1.000000   \n",
       "...                ...               ...               ...              ...   \n",
       "74883              416         64.000000        416.000000         0.000000   \n",
       "74884               64         64.000000         58.000000         0.000000   \n",
       "74885              242         64.000000        242.000000         0.000000   \n",
       "74886              182         64.000000        182.000000         0.000000   \n",
       "74887               64         64.000000         58.000000         0.000000   \n",
       "\n",
       "       Bwd Pkt Len Std    Flow Pkts/s   Flow Byts/s       Label  binaryLabel  \\\n",
       "0           367.185580       1.043094  5.424088e+01  Ransomware            0   \n",
       "1             0.000000       1.534993  4.541661e+02  Ransomware            0   \n",
       "2           134.871985  200000.000000  8.000000e+06  Ransomware            0   \n",
       "3             0.000000       0.122068  2.915903e+01  Ransomware            0   \n",
       "4             0.000000       0.001591  8.275361e-02  Ransomware            0   \n",
       "...                ...            ...           ...         ...          ...   \n",
       "74883         0.000000       9.610071  2.306417e+03     Benigno            1   \n",
       "74884         8.426150       4.065784  2.439471e+02     Benigno            1   \n",
       "74885         0.000000    1517.450683  2.321700e+05     Benigno            1   \n",
       "74886         0.000000      83.773142  1.030410e+04     Benigno            1   \n",
       "74887         8.426150       5.843477  3.506086e+02     Benigno            1   \n",
       "\n",
       "       benignoLabel  ransomwareLabel  \n",
       "0                 0                1  \n",
       "1                 0                1  \n",
       "2                 0                1  \n",
       "3                 0                1  \n",
       "4                 0                1  \n",
       "...             ...              ...  \n",
       "74883             1                0  \n",
       "74884             1                0  \n",
       "74885             1                0  \n",
       "74886             1                0  \n",
       "74887             1                0  \n",
       "\n",
       "[149776 rows x 19 columns]"
      ]
     },
     "execution_count": 10,
     "metadata": {},
     "output_type": "execute_result"
    }
   ],
   "source": [
    "data_unite_balanced"
   ]
  },
  {
   "cell_type": "markdown",
   "metadata": {},
   "source": [
    "#### Aleatorizamos las filas"
   ]
  },
  {
   "cell_type": "code",
   "execution_count": 11,
   "metadata": {},
   "outputs": [],
   "source": [
    "df_shuffled=sklearn.utils.shuffle(data_unite_balanced)"
   ]
  },
  {
   "cell_type": "code",
   "execution_count": 12,
   "metadata": {},
   "outputs": [
    {
     "data": {
      "text/html": [
       "<div>\n",
       "<style scoped>\n",
       "    .dataframe tbody tr th:only-of-type {\n",
       "        vertical-align: middle;\n",
       "    }\n",
       "\n",
       "    .dataframe tbody tr th {\n",
       "        vertical-align: top;\n",
       "    }\n",
       "\n",
       "    .dataframe thead th {\n",
       "        text-align: right;\n",
       "    }\n",
       "</style>\n",
       "<table border=\"1\" class=\"dataframe\">\n",
       "  <thead>\n",
       "    <tr style=\"text-align: right;\">\n",
       "      <th></th>\n",
       "      <th>Flow Duration</th>\n",
       "      <th>Tot Fwd Pkts</th>\n",
       "      <th>Tot Bwd Pkts</th>\n",
       "      <th>TotLen Fwd Pkts</th>\n",
       "      <th>TotLen Bwd Pkts</th>\n",
       "      <th>Fwd Pkt Len Min</th>\n",
       "      <th>Bwd Pkt Len Min</th>\n",
       "      <th>Fwd Pkt Len Max</th>\n",
       "      <th>Bwd Pkt Len Max</th>\n",
       "      <th>Fwd Pkt Len Mean</th>\n",
       "      <th>Bwd Pkt Len Mean</th>\n",
       "      <th>Fwd Pkt Len Std</th>\n",
       "      <th>Bwd Pkt Len Std</th>\n",
       "      <th>Flow Pkts/s</th>\n",
       "      <th>Flow Byts/s</th>\n",
       "      <th>Label</th>\n",
       "      <th>binaryLabel</th>\n",
       "      <th>benignoLabel</th>\n",
       "      <th>ransomwareLabel</th>\n",
       "    </tr>\n",
       "  </thead>\n",
       "  <tbody>\n",
       "    <tr>\n",
       "      <td>19319</td>\n",
       "      <td>4</td>\n",
       "      <td>2</td>\n",
       "      <td>0</td>\n",
       "      <td>135</td>\n",
       "      <td>0</td>\n",
       "      <td>52</td>\n",
       "      <td>-1.0</td>\n",
       "      <td>83</td>\n",
       "      <td>-1</td>\n",
       "      <td>67.50</td>\n",
       "      <td>0.00</td>\n",
       "      <td>21.897488</td>\n",
       "      <td>0.000000</td>\n",
       "      <td>500000.000000</td>\n",
       "      <td>3.380000e+07</td>\n",
       "      <td>Benigno</td>\n",
       "      <td>1</td>\n",
       "      <td>1</td>\n",
       "      <td>0</td>\n",
       "    </tr>\n",
       "    <tr>\n",
       "      <td>51130</td>\n",
       "      <td>33669</td>\n",
       "      <td>1</td>\n",
       "      <td>1</td>\n",
       "      <td>52</td>\n",
       "      <td>52</td>\n",
       "      <td>52</td>\n",
       "      <td>52.0</td>\n",
       "      <td>52</td>\n",
       "      <td>52</td>\n",
       "      <td>52.00</td>\n",
       "      <td>52.00</td>\n",
       "      <td>0.000000</td>\n",
       "      <td>0.000000</td>\n",
       "      <td>59.401824</td>\n",
       "      <td>3.088895e+03</td>\n",
       "      <td>Benigno</td>\n",
       "      <td>1</td>\n",
       "      <td>1</td>\n",
       "      <td>0</td>\n",
       "    </tr>\n",
       "    <tr>\n",
       "      <td>24388</td>\n",
       "      <td>48500</td>\n",
       "      <td>2</td>\n",
       "      <td>1</td>\n",
       "      <td>803</td>\n",
       "      <td>482</td>\n",
       "      <td>52</td>\n",
       "      <td>482.0</td>\n",
       "      <td>751</td>\n",
       "      <td>482</td>\n",
       "      <td>401.50</td>\n",
       "      <td>482.00</td>\n",
       "      <td>494.266629</td>\n",
       "      <td>0.000000</td>\n",
       "      <td>61.855670</td>\n",
       "      <td>2.649485e+04</td>\n",
       "      <td>Benigno</td>\n",
       "      <td>1</td>\n",
       "      <td>1</td>\n",
       "      <td>0</td>\n",
       "    </tr>\n",
       "    <tr>\n",
       "      <td>56468</td>\n",
       "      <td>55043379</td>\n",
       "      <td>12</td>\n",
       "      <td>6</td>\n",
       "      <td>3000</td>\n",
       "      <td>1278</td>\n",
       "      <td>52</td>\n",
       "      <td>213.0</td>\n",
       "      <td>448</td>\n",
       "      <td>213</td>\n",
       "      <td>250.00</td>\n",
       "      <td>213.00</td>\n",
       "      <td>206.804035</td>\n",
       "      <td>0.447214</td>\n",
       "      <td>0.327015</td>\n",
       "      <td>7.772052e+01</td>\n",
       "      <td>Benigno</td>\n",
       "      <td>1</td>\n",
       "      <td>1</td>\n",
       "      <td>0</td>\n",
       "    </tr>\n",
       "    <tr>\n",
       "      <td>34492</td>\n",
       "      <td>0</td>\n",
       "      <td>1</td>\n",
       "      <td>0</td>\n",
       "      <td>52</td>\n",
       "      <td>0</td>\n",
       "      <td>52</td>\n",
       "      <td>-1.0</td>\n",
       "      <td>52</td>\n",
       "      <td>-1</td>\n",
       "      <td>52.00</td>\n",
       "      <td>0.00</td>\n",
       "      <td>0.000000</td>\n",
       "      <td>0.000000</td>\n",
       "      <td>0.000000</td>\n",
       "      <td>0.000000e+00</td>\n",
       "      <td>Benigno</td>\n",
       "      <td>1</td>\n",
       "      <td>1</td>\n",
       "      <td>0</td>\n",
       "    </tr>\n",
       "    <tr>\n",
       "      <td>...</td>\n",
       "      <td>...</td>\n",
       "      <td>...</td>\n",
       "      <td>...</td>\n",
       "      <td>...</td>\n",
       "      <td>...</td>\n",
       "      <td>...</td>\n",
       "      <td>...</td>\n",
       "      <td>...</td>\n",
       "      <td>...</td>\n",
       "      <td>...</td>\n",
       "      <td>...</td>\n",
       "      <td>...</td>\n",
       "      <td>...</td>\n",
       "      <td>...</td>\n",
       "      <td>...</td>\n",
       "      <td>...</td>\n",
       "      <td>...</td>\n",
       "      <td>...</td>\n",
       "      <td>...</td>\n",
       "    </tr>\n",
       "    <tr>\n",
       "      <td>28756</td>\n",
       "      <td>0</td>\n",
       "      <td>10</td>\n",
       "      <td>3</td>\n",
       "      <td>338</td>\n",
       "      <td>9502</td>\n",
       "      <td>248</td>\n",
       "      <td>-1.0</td>\n",
       "      <td>40</td>\n",
       "      <td>-1</td>\n",
       "      <td>40.00</td>\n",
       "      <td>0.00</td>\n",
       "      <td>0.000000</td>\n",
       "      <td>0.000000</td>\n",
       "      <td>0.151019</td>\n",
       "      <td>2.471046e+01</td>\n",
       "      <td>Ransomware</td>\n",
       "      <td>0</td>\n",
       "      <td>0</td>\n",
       "      <td>1</td>\n",
       "    </tr>\n",
       "    <tr>\n",
       "      <td>8276</td>\n",
       "      <td>1062376</td>\n",
       "      <td>4</td>\n",
       "      <td>4</td>\n",
       "      <td>999</td>\n",
       "      <td>395</td>\n",
       "      <td>40</td>\n",
       "      <td>40.0</td>\n",
       "      <td>709</td>\n",
       "      <td>263</td>\n",
       "      <td>249.75</td>\n",
       "      <td>98.75</td>\n",
       "      <td>313.304830</td>\n",
       "      <td>109.644501</td>\n",
       "      <td>7.530291</td>\n",
       "      <td>1.312153e+03</td>\n",
       "      <td>Benigno</td>\n",
       "      <td>1</td>\n",
       "      <td>1</td>\n",
       "      <td>0</td>\n",
       "    </tr>\n",
       "    <tr>\n",
       "      <td>72398</td>\n",
       "      <td>24213</td>\n",
       "      <td>1</td>\n",
       "      <td>1</td>\n",
       "      <td>60</td>\n",
       "      <td>439</td>\n",
       "      <td>60</td>\n",
       "      <td>439.0</td>\n",
       "      <td>60</td>\n",
       "      <td>439</td>\n",
       "      <td>60.00</td>\n",
       "      <td>439.00</td>\n",
       "      <td>0.000000</td>\n",
       "      <td>0.000000</td>\n",
       "      <td>82.600256</td>\n",
       "      <td>2.060876e+04</td>\n",
       "      <td>Benigno</td>\n",
       "      <td>1</td>\n",
       "      <td>1</td>\n",
       "      <td>0</td>\n",
       "    </tr>\n",
       "    <tr>\n",
       "      <td>51454</td>\n",
       "      <td>0</td>\n",
       "      <td>1</td>\n",
       "      <td>0</td>\n",
       "      <td>52</td>\n",
       "      <td>0</td>\n",
       "      <td>52</td>\n",
       "      <td>-1.0</td>\n",
       "      <td>52</td>\n",
       "      <td>-1</td>\n",
       "      <td>52.00</td>\n",
       "      <td>0.00</td>\n",
       "      <td>0.000000</td>\n",
       "      <td>0.000000</td>\n",
       "      <td>0.000000</td>\n",
       "      <td>0.000000e+00</td>\n",
       "      <td>Benigno</td>\n",
       "      <td>1</td>\n",
       "      <td>1</td>\n",
       "      <td>0</td>\n",
       "    </tr>\n",
       "    <tr>\n",
       "      <td>12946</td>\n",
       "      <td>354210291</td>\n",
       "      <td>1</td>\n",
       "      <td>2</td>\n",
       "      <td>52</td>\n",
       "      <td>116</td>\n",
       "      <td>52</td>\n",
       "      <td>52.0</td>\n",
       "      <td>52</td>\n",
       "      <td>64</td>\n",
       "      <td>52.00</td>\n",
       "      <td>58.00</td>\n",
       "      <td>0.000000</td>\n",
       "      <td>8.426150</td>\n",
       "      <td>0.008470</td>\n",
       "      <td>4.742945e-01</td>\n",
       "      <td>Benigno</td>\n",
       "      <td>1</td>\n",
       "      <td>1</td>\n",
       "      <td>0</td>\n",
       "    </tr>\n",
       "  </tbody>\n",
       "</table>\n",
       "<p>149776 rows × 19 columns</p>\n",
       "</div>"
      ],
      "text/plain": [
       "       Flow Duration  Tot Fwd Pkts  Tot Bwd Pkts  TotLen Fwd Pkts  \\\n",
       "19319              4             2             0              135   \n",
       "51130          33669             1             1               52   \n",
       "24388          48500             2             1              803   \n",
       "56468       55043379            12             6             3000   \n",
       "34492              0             1             0               52   \n",
       "...              ...           ...           ...              ...   \n",
       "28756              0            10             3              338   \n",
       "8276         1062376             4             4              999   \n",
       "72398          24213             1             1               60   \n",
       "51454              0             1             0               52   \n",
       "12946      354210291             1             2               52   \n",
       "\n",
       "       TotLen Bwd Pkts  Fwd Pkt Len Min  Bwd Pkt Len Min  Fwd Pkt Len Max  \\\n",
       "19319                0               52             -1.0               83   \n",
       "51130               52               52             52.0               52   \n",
       "24388              482               52            482.0              751   \n",
       "56468             1278               52            213.0              448   \n",
       "34492                0               52             -1.0               52   \n",
       "...                ...              ...              ...              ...   \n",
       "28756             9502              248             -1.0               40   \n",
       "8276               395               40             40.0              709   \n",
       "72398              439               60            439.0               60   \n",
       "51454                0               52             -1.0               52   \n",
       "12946              116               52             52.0               52   \n",
       "\n",
       "       Bwd Pkt Len Max  Fwd Pkt Len Mean  Bwd Pkt Len Mean  Fwd Pkt Len Std  \\\n",
       "19319               -1             67.50              0.00        21.897488   \n",
       "51130               52             52.00             52.00         0.000000   \n",
       "24388              482            401.50            482.00       494.266629   \n",
       "56468              213            250.00            213.00       206.804035   \n",
       "34492               -1             52.00              0.00         0.000000   \n",
       "...                ...               ...               ...              ...   \n",
       "28756               -1             40.00              0.00         0.000000   \n",
       "8276               263            249.75             98.75       313.304830   \n",
       "72398              439             60.00            439.00         0.000000   \n",
       "51454               -1             52.00              0.00         0.000000   \n",
       "12946               64             52.00             58.00         0.000000   \n",
       "\n",
       "       Bwd Pkt Len Std    Flow Pkts/s   Flow Byts/s       Label  binaryLabel  \\\n",
       "19319         0.000000  500000.000000  3.380000e+07     Benigno            1   \n",
       "51130         0.000000      59.401824  3.088895e+03     Benigno            1   \n",
       "24388         0.000000      61.855670  2.649485e+04     Benigno            1   \n",
       "56468         0.447214       0.327015  7.772052e+01     Benigno            1   \n",
       "34492         0.000000       0.000000  0.000000e+00     Benigno            1   \n",
       "...                ...            ...           ...         ...          ...   \n",
       "28756         0.000000       0.151019  2.471046e+01  Ransomware            0   \n",
       "8276        109.644501       7.530291  1.312153e+03     Benigno            1   \n",
       "72398         0.000000      82.600256  2.060876e+04     Benigno            1   \n",
       "51454         0.000000       0.000000  0.000000e+00     Benigno            1   \n",
       "12946         8.426150       0.008470  4.742945e-01     Benigno            1   \n",
       "\n",
       "       benignoLabel  ransomwareLabel  \n",
       "19319             1                0  \n",
       "51130             1                0  \n",
       "24388             1                0  \n",
       "56468             1                0  \n",
       "34492             1                0  \n",
       "...             ...              ...  \n",
       "28756             0                1  \n",
       "8276              1                0  \n",
       "72398             1                0  \n",
       "51454             1                0  \n",
       "12946             1                0  \n",
       "\n",
       "[149776 rows x 19 columns]"
      ]
     },
     "execution_count": 12,
     "metadata": {},
     "output_type": "execute_result"
    }
   ],
   "source": [
    "df_shuffled"
   ]
  },
  {
   "cell_type": "markdown",
   "metadata": {},
   "source": [
    "#### Volver a hacer el proceso de separar los valores que utilizaremos para los datos de entradas (Todas las columnas menos el label binario) y los datos de salida (los label asociados)"
   ]
  },
  {
   "cell_type": "code",
   "execution_count": 13,
   "metadata": {},
   "outputs": [],
   "source": [
    "from sklearn.model_selection import train_test_split"
   ]
  },
  {
   "cell_type": "code",
   "execution_count": 14,
   "metadata": {},
   "outputs": [],
   "source": [
    "df_shuffled_X = df_shuffled.drop(['Label','binaryLabel','benignoLabel','ransomwareLabel'], axis = 1).copy()"
   ]
  },
  {
   "cell_type": "code",
   "execution_count": 15,
   "metadata": {},
   "outputs": [],
   "source": [
    "df_shuffled_Y = df_shuffled[['binaryLabel','benignoLabel','ransomwareLabel']].copy()"
   ]
  },
  {
   "cell_type": "code",
   "execution_count": 16,
   "metadata": {},
   "outputs": [
    {
     "data": {
      "text/html": [
       "<div>\n",
       "<style scoped>\n",
       "    .dataframe tbody tr th:only-of-type {\n",
       "        vertical-align: middle;\n",
       "    }\n",
       "\n",
       "    .dataframe tbody tr th {\n",
       "        vertical-align: top;\n",
       "    }\n",
       "\n",
       "    .dataframe thead th {\n",
       "        text-align: right;\n",
       "    }\n",
       "</style>\n",
       "<table border=\"1\" class=\"dataframe\">\n",
       "  <thead>\n",
       "    <tr style=\"text-align: right;\">\n",
       "      <th></th>\n",
       "      <th>Flow Duration</th>\n",
       "      <th>Tot Fwd Pkts</th>\n",
       "      <th>Tot Bwd Pkts</th>\n",
       "      <th>TotLen Fwd Pkts</th>\n",
       "      <th>TotLen Bwd Pkts</th>\n",
       "      <th>Fwd Pkt Len Min</th>\n",
       "      <th>Bwd Pkt Len Min</th>\n",
       "      <th>Fwd Pkt Len Max</th>\n",
       "      <th>Bwd Pkt Len Max</th>\n",
       "      <th>Fwd Pkt Len Mean</th>\n",
       "      <th>Bwd Pkt Len Mean</th>\n",
       "      <th>Fwd Pkt Len Std</th>\n",
       "      <th>Bwd Pkt Len Std</th>\n",
       "      <th>Flow Pkts/s</th>\n",
       "      <th>Flow Byts/s</th>\n",
       "    </tr>\n",
       "  </thead>\n",
       "  <tbody>\n",
       "    <tr>\n",
       "      <td>19319</td>\n",
       "      <td>4</td>\n",
       "      <td>2</td>\n",
       "      <td>0</td>\n",
       "      <td>135</td>\n",
       "      <td>0</td>\n",
       "      <td>52</td>\n",
       "      <td>-1.0</td>\n",
       "      <td>83</td>\n",
       "      <td>-1</td>\n",
       "      <td>67.50</td>\n",
       "      <td>0.00</td>\n",
       "      <td>21.897488</td>\n",
       "      <td>0.000000</td>\n",
       "      <td>500000.000000</td>\n",
       "      <td>3.380000e+07</td>\n",
       "    </tr>\n",
       "    <tr>\n",
       "      <td>51130</td>\n",
       "      <td>33669</td>\n",
       "      <td>1</td>\n",
       "      <td>1</td>\n",
       "      <td>52</td>\n",
       "      <td>52</td>\n",
       "      <td>52</td>\n",
       "      <td>52.0</td>\n",
       "      <td>52</td>\n",
       "      <td>52</td>\n",
       "      <td>52.00</td>\n",
       "      <td>52.00</td>\n",
       "      <td>0.000000</td>\n",
       "      <td>0.000000</td>\n",
       "      <td>59.401824</td>\n",
       "      <td>3.088895e+03</td>\n",
       "    </tr>\n",
       "    <tr>\n",
       "      <td>24388</td>\n",
       "      <td>48500</td>\n",
       "      <td>2</td>\n",
       "      <td>1</td>\n",
       "      <td>803</td>\n",
       "      <td>482</td>\n",
       "      <td>52</td>\n",
       "      <td>482.0</td>\n",
       "      <td>751</td>\n",
       "      <td>482</td>\n",
       "      <td>401.50</td>\n",
       "      <td>482.00</td>\n",
       "      <td>494.266629</td>\n",
       "      <td>0.000000</td>\n",
       "      <td>61.855670</td>\n",
       "      <td>2.649485e+04</td>\n",
       "    </tr>\n",
       "    <tr>\n",
       "      <td>56468</td>\n",
       "      <td>55043379</td>\n",
       "      <td>12</td>\n",
       "      <td>6</td>\n",
       "      <td>3000</td>\n",
       "      <td>1278</td>\n",
       "      <td>52</td>\n",
       "      <td>213.0</td>\n",
       "      <td>448</td>\n",
       "      <td>213</td>\n",
       "      <td>250.00</td>\n",
       "      <td>213.00</td>\n",
       "      <td>206.804035</td>\n",
       "      <td>0.447214</td>\n",
       "      <td>0.327015</td>\n",
       "      <td>7.772052e+01</td>\n",
       "    </tr>\n",
       "    <tr>\n",
       "      <td>34492</td>\n",
       "      <td>0</td>\n",
       "      <td>1</td>\n",
       "      <td>0</td>\n",
       "      <td>52</td>\n",
       "      <td>0</td>\n",
       "      <td>52</td>\n",
       "      <td>-1.0</td>\n",
       "      <td>52</td>\n",
       "      <td>-1</td>\n",
       "      <td>52.00</td>\n",
       "      <td>0.00</td>\n",
       "      <td>0.000000</td>\n",
       "      <td>0.000000</td>\n",
       "      <td>0.000000</td>\n",
       "      <td>0.000000e+00</td>\n",
       "    </tr>\n",
       "    <tr>\n",
       "      <td>...</td>\n",
       "      <td>...</td>\n",
       "      <td>...</td>\n",
       "      <td>...</td>\n",
       "      <td>...</td>\n",
       "      <td>...</td>\n",
       "      <td>...</td>\n",
       "      <td>...</td>\n",
       "      <td>...</td>\n",
       "      <td>...</td>\n",
       "      <td>...</td>\n",
       "      <td>...</td>\n",
       "      <td>...</td>\n",
       "      <td>...</td>\n",
       "      <td>...</td>\n",
       "      <td>...</td>\n",
       "    </tr>\n",
       "    <tr>\n",
       "      <td>28756</td>\n",
       "      <td>0</td>\n",
       "      <td>10</td>\n",
       "      <td>3</td>\n",
       "      <td>338</td>\n",
       "      <td>9502</td>\n",
       "      <td>248</td>\n",
       "      <td>-1.0</td>\n",
       "      <td>40</td>\n",
       "      <td>-1</td>\n",
       "      <td>40.00</td>\n",
       "      <td>0.00</td>\n",
       "      <td>0.000000</td>\n",
       "      <td>0.000000</td>\n",
       "      <td>0.151019</td>\n",
       "      <td>2.471046e+01</td>\n",
       "    </tr>\n",
       "    <tr>\n",
       "      <td>8276</td>\n",
       "      <td>1062376</td>\n",
       "      <td>4</td>\n",
       "      <td>4</td>\n",
       "      <td>999</td>\n",
       "      <td>395</td>\n",
       "      <td>40</td>\n",
       "      <td>40.0</td>\n",
       "      <td>709</td>\n",
       "      <td>263</td>\n",
       "      <td>249.75</td>\n",
       "      <td>98.75</td>\n",
       "      <td>313.304830</td>\n",
       "      <td>109.644501</td>\n",
       "      <td>7.530291</td>\n",
       "      <td>1.312153e+03</td>\n",
       "    </tr>\n",
       "    <tr>\n",
       "      <td>72398</td>\n",
       "      <td>24213</td>\n",
       "      <td>1</td>\n",
       "      <td>1</td>\n",
       "      <td>60</td>\n",
       "      <td>439</td>\n",
       "      <td>60</td>\n",
       "      <td>439.0</td>\n",
       "      <td>60</td>\n",
       "      <td>439</td>\n",
       "      <td>60.00</td>\n",
       "      <td>439.00</td>\n",
       "      <td>0.000000</td>\n",
       "      <td>0.000000</td>\n",
       "      <td>82.600256</td>\n",
       "      <td>2.060876e+04</td>\n",
       "    </tr>\n",
       "    <tr>\n",
       "      <td>51454</td>\n",
       "      <td>0</td>\n",
       "      <td>1</td>\n",
       "      <td>0</td>\n",
       "      <td>52</td>\n",
       "      <td>0</td>\n",
       "      <td>52</td>\n",
       "      <td>-1.0</td>\n",
       "      <td>52</td>\n",
       "      <td>-1</td>\n",
       "      <td>52.00</td>\n",
       "      <td>0.00</td>\n",
       "      <td>0.000000</td>\n",
       "      <td>0.000000</td>\n",
       "      <td>0.000000</td>\n",
       "      <td>0.000000e+00</td>\n",
       "    </tr>\n",
       "    <tr>\n",
       "      <td>12946</td>\n",
       "      <td>354210291</td>\n",
       "      <td>1</td>\n",
       "      <td>2</td>\n",
       "      <td>52</td>\n",
       "      <td>116</td>\n",
       "      <td>52</td>\n",
       "      <td>52.0</td>\n",
       "      <td>52</td>\n",
       "      <td>64</td>\n",
       "      <td>52.00</td>\n",
       "      <td>58.00</td>\n",
       "      <td>0.000000</td>\n",
       "      <td>8.426150</td>\n",
       "      <td>0.008470</td>\n",
       "      <td>4.742945e-01</td>\n",
       "    </tr>\n",
       "  </tbody>\n",
       "</table>\n",
       "<p>149776 rows × 15 columns</p>\n",
       "</div>"
      ],
      "text/plain": [
       "       Flow Duration  Tot Fwd Pkts  Tot Bwd Pkts  TotLen Fwd Pkts  \\\n",
       "19319              4             2             0              135   \n",
       "51130          33669             1             1               52   \n",
       "24388          48500             2             1              803   \n",
       "56468       55043379            12             6             3000   \n",
       "34492              0             1             0               52   \n",
       "...              ...           ...           ...              ...   \n",
       "28756              0            10             3              338   \n",
       "8276         1062376             4             4              999   \n",
       "72398          24213             1             1               60   \n",
       "51454              0             1             0               52   \n",
       "12946      354210291             1             2               52   \n",
       "\n",
       "       TotLen Bwd Pkts  Fwd Pkt Len Min  Bwd Pkt Len Min  Fwd Pkt Len Max  \\\n",
       "19319                0               52             -1.0               83   \n",
       "51130               52               52             52.0               52   \n",
       "24388              482               52            482.0              751   \n",
       "56468             1278               52            213.0              448   \n",
       "34492                0               52             -1.0               52   \n",
       "...                ...              ...              ...              ...   \n",
       "28756             9502              248             -1.0               40   \n",
       "8276               395               40             40.0              709   \n",
       "72398              439               60            439.0               60   \n",
       "51454                0               52             -1.0               52   \n",
       "12946              116               52             52.0               52   \n",
       "\n",
       "       Bwd Pkt Len Max  Fwd Pkt Len Mean  Bwd Pkt Len Mean  Fwd Pkt Len Std  \\\n",
       "19319               -1             67.50              0.00        21.897488   \n",
       "51130               52             52.00             52.00         0.000000   \n",
       "24388              482            401.50            482.00       494.266629   \n",
       "56468              213            250.00            213.00       206.804035   \n",
       "34492               -1             52.00              0.00         0.000000   \n",
       "...                ...               ...               ...              ...   \n",
       "28756               -1             40.00              0.00         0.000000   \n",
       "8276               263            249.75             98.75       313.304830   \n",
       "72398              439             60.00            439.00         0.000000   \n",
       "51454               -1             52.00              0.00         0.000000   \n",
       "12946               64             52.00             58.00         0.000000   \n",
       "\n",
       "       Bwd Pkt Len Std    Flow Pkts/s   Flow Byts/s  \n",
       "19319         0.000000  500000.000000  3.380000e+07  \n",
       "51130         0.000000      59.401824  3.088895e+03  \n",
       "24388         0.000000      61.855670  2.649485e+04  \n",
       "56468         0.447214       0.327015  7.772052e+01  \n",
       "34492         0.000000       0.000000  0.000000e+00  \n",
       "...                ...            ...           ...  \n",
       "28756         0.000000       0.151019  2.471046e+01  \n",
       "8276        109.644501       7.530291  1.312153e+03  \n",
       "72398         0.000000      82.600256  2.060876e+04  \n",
       "51454         0.000000       0.000000  0.000000e+00  \n",
       "12946         8.426150       0.008470  4.742945e-01  \n",
       "\n",
       "[149776 rows x 15 columns]"
      ]
     },
     "execution_count": 16,
     "metadata": {},
     "output_type": "execute_result"
    }
   ],
   "source": [
    "df_shuffled_X"
   ]
  },
  {
   "cell_type": "code",
   "execution_count": 17,
   "metadata": {},
   "outputs": [
    {
     "data": {
      "text/html": [
       "<div>\n",
       "<style scoped>\n",
       "    .dataframe tbody tr th:only-of-type {\n",
       "        vertical-align: middle;\n",
       "    }\n",
       "\n",
       "    .dataframe tbody tr th {\n",
       "        vertical-align: top;\n",
       "    }\n",
       "\n",
       "    .dataframe thead th {\n",
       "        text-align: right;\n",
       "    }\n",
       "</style>\n",
       "<table border=\"1\" class=\"dataframe\">\n",
       "  <thead>\n",
       "    <tr style=\"text-align: right;\">\n",
       "      <th></th>\n",
       "      <th>binaryLabel</th>\n",
       "      <th>benignoLabel</th>\n",
       "      <th>ransomwareLabel</th>\n",
       "    </tr>\n",
       "  </thead>\n",
       "  <tbody>\n",
       "    <tr>\n",
       "      <td>19319</td>\n",
       "      <td>1</td>\n",
       "      <td>1</td>\n",
       "      <td>0</td>\n",
       "    </tr>\n",
       "    <tr>\n",
       "      <td>51130</td>\n",
       "      <td>1</td>\n",
       "      <td>1</td>\n",
       "      <td>0</td>\n",
       "    </tr>\n",
       "    <tr>\n",
       "      <td>24388</td>\n",
       "      <td>1</td>\n",
       "      <td>1</td>\n",
       "      <td>0</td>\n",
       "    </tr>\n",
       "    <tr>\n",
       "      <td>56468</td>\n",
       "      <td>1</td>\n",
       "      <td>1</td>\n",
       "      <td>0</td>\n",
       "    </tr>\n",
       "    <tr>\n",
       "      <td>34492</td>\n",
       "      <td>1</td>\n",
       "      <td>1</td>\n",
       "      <td>0</td>\n",
       "    </tr>\n",
       "    <tr>\n",
       "      <td>...</td>\n",
       "      <td>...</td>\n",
       "      <td>...</td>\n",
       "      <td>...</td>\n",
       "    </tr>\n",
       "    <tr>\n",
       "      <td>28756</td>\n",
       "      <td>0</td>\n",
       "      <td>0</td>\n",
       "      <td>1</td>\n",
       "    </tr>\n",
       "    <tr>\n",
       "      <td>8276</td>\n",
       "      <td>1</td>\n",
       "      <td>1</td>\n",
       "      <td>0</td>\n",
       "    </tr>\n",
       "    <tr>\n",
       "      <td>72398</td>\n",
       "      <td>1</td>\n",
       "      <td>1</td>\n",
       "      <td>0</td>\n",
       "    </tr>\n",
       "    <tr>\n",
       "      <td>51454</td>\n",
       "      <td>1</td>\n",
       "      <td>1</td>\n",
       "      <td>0</td>\n",
       "    </tr>\n",
       "    <tr>\n",
       "      <td>12946</td>\n",
       "      <td>1</td>\n",
       "      <td>1</td>\n",
       "      <td>0</td>\n",
       "    </tr>\n",
       "  </tbody>\n",
       "</table>\n",
       "<p>149776 rows × 3 columns</p>\n",
       "</div>"
      ],
      "text/plain": [
       "       binaryLabel  benignoLabel  ransomwareLabel\n",
       "19319            1             1                0\n",
       "51130            1             1                0\n",
       "24388            1             1                0\n",
       "56468            1             1                0\n",
       "34492            1             1                0\n",
       "...            ...           ...              ...\n",
       "28756            0             0                1\n",
       "8276             1             1                0\n",
       "72398            1             1                0\n",
       "51454            1             1                0\n",
       "12946            1             1                0\n",
       "\n",
       "[149776 rows x 3 columns]"
      ]
     },
     "execution_count": 17,
     "metadata": {},
     "output_type": "execute_result"
    }
   ],
   "source": [
    "df_shuffled_Y"
   ]
  },
  {
   "cell_type": "markdown",
   "metadata": {},
   "source": [
    "#### Establecemos que las proporciones serán:\n",
    "###### - ENTRENAMIENTO =  70%\n",
    "###### - TESTING = 20%\n",
    "###### - VALIDACION  = 10% "
   ]
  },
  {
   "cell_type": "code",
   "execution_count": 18,
   "metadata": {},
   "outputs": [],
   "source": [
    "train_ratio = 0.8\n",
    "test_ratio = 0.1\n",
    "validation_ratio = 0.1"
   ]
  },
  {
   "cell_type": "code",
   "execution_count": 19,
   "metadata": {},
   "outputs": [],
   "source": [
    "X_train_shuffled, X_test_shuffled, y_train_shuffled, y_test_shuffled = train_test_split(df_shuffled_X, df_shuffled_Y, test_size=test_ratio, random_state=101)"
   ]
  },
  {
   "cell_type": "code",
   "execution_count": 20,
   "metadata": {},
   "outputs": [],
   "source": [
    "X_train_shuffled, X_val_shuffled, y_train_shuffled, y_val_shuffled = train_test_split(X_train_shuffled, y_train_shuffled, test_size=validation_ratio/(validation_ratio + train_ratio), random_state=101)"
   ]
  },
  {
   "cell_type": "markdown",
   "metadata": {},
   "source": [
    "### CNN - 1D - SHUFFLED"
   ]
  },
  {
   "cell_type": "code",
   "execution_count": 21,
   "metadata": {},
   "outputs": [],
   "source": [
    "from __future__ import absolute_import, division, print_function, unicode_literals\n",
    "\n",
    "import tensorflow as tf\n",
    "\n",
    "from tensorflow.keras import datasets, layers, models\n",
    "import matplotlib.pyplot as plt"
   ]
  },
  {
   "cell_type": "markdown",
   "metadata": {},
   "source": [
    "### Modelo Secuencial CNN"
   ]
  },
  {
   "cell_type": "code",
   "execution_count": 82,
   "metadata": {},
   "outputs": [],
   "source": [
    "model_shuffled = models.Sequential()"
   ]
  },
  {
   "cell_type": "code",
   "execution_count": 83,
   "metadata": {},
   "outputs": [],
   "source": [
    "model_shuffled.add(layers.Conv1D(filters=15, kernel_size=3, activation='relu', input_shape=(X_train_shuffled.shape[1],1)))\n",
    "model_shuffled.add(layers.MaxPooling1D(pool_size=2))\n",
    "model_shuffled.add(layers.Conv1D(filters=30, kernel_size=3, activation='relu'))\n",
    "model_shuffled.add(layers.MaxPooling1D(pool_size=1))\n",
    "model_shuffled.add(layers.Conv1D(filters=60, kernel_size=3, activation='relu'))\n",
    "model_shuffled.add(tf.keras.layers.Dropout(0.2))\n",
    "model_shuffled.add(layers.MaxPooling1D(pool_size=1))\n",
    "model_shuffled.add(layers.Flatten())"
   ]
  },
  {
   "cell_type": "code",
   "execution_count": 84,
   "metadata": {},
   "outputs": [],
   "source": [
    "model_shuffled.add(layers.Dense(32, activation='relu'))\n",
    "model_shuffled.add(tf.keras.layers.Dropout(0.2))\n",
    "model_shuffled.add(layers.Dense(10, activation='relu'))\n",
    "model_shuffled.add(layers.Dense(2, activation='softmax'))"
   ]
  },
  {
   "cell_type": "code",
   "execution_count": 85,
   "metadata": {},
   "outputs": [
    {
     "name": "stdout",
     "output_type": "stream",
     "text": [
      "Model: \"sequential_14\"\n",
      "_________________________________________________________________\n",
      "Layer (type)                 Output Shape              Param #   \n",
      "=================================================================\n",
      "conv1d_44 (Conv1D)           (None, 13, 15)            60        \n",
      "_________________________________________________________________\n",
      "max_pooling1d_33 (MaxPooling (None, 6, 15)             0         \n",
      "_________________________________________________________________\n",
      "conv1d_45 (Conv1D)           (None, 4, 30)             1380      \n",
      "_________________________________________________________________\n",
      "max_pooling1d_34 (MaxPooling (None, 4, 30)             0         \n",
      "_________________________________________________________________\n",
      "conv1d_46 (Conv1D)           (None, 2, 60)             5460      \n",
      "_________________________________________________________________\n",
      "dropout_12 (Dropout)         (None, 2, 60)             0         \n",
      "_________________________________________________________________\n",
      "max_pooling1d_35 (MaxPooling (None, 2, 60)             0         \n",
      "_________________________________________________________________\n",
      "flatten_8 (Flatten)          (None, 120)               0         \n",
      "_________________________________________________________________\n",
      "dense_10 (Dense)             (None, 32)                3872      \n",
      "_________________________________________________________________\n",
      "dropout_13 (Dropout)         (None, 32)                0         \n",
      "_________________________________________________________________\n",
      "dense_11 (Dense)             (None, 10)                330       \n",
      "_________________________________________________________________\n",
      "dense_12 (Dense)             (None, 2)                 22        \n",
      "=================================================================\n",
      "Total params: 11,124\n",
      "Trainable params: 11,124\n",
      "Non-trainable params: 0\n",
      "_________________________________________________________________\n"
     ]
    }
   ],
   "source": [
    "model_shuffled.summary()"
   ]
  },
  {
   "cell_type": "markdown",
   "metadata": {},
   "source": [
    "#### Debido a necesidades del modelo, lo valores de entrada para entrenamiento, testing y validación tienen que ser del tipo 3 dimensional, por tal razón transformarmos esa matriz a una matriz trimensional generica"
   ]
  },
  {
   "cell_type": "code",
   "execution_count": 86,
   "metadata": {},
   "outputs": [],
   "source": [
    "X_train_3D_shuffled = X_train_shuffled.values.reshape(X_train_shuffled.shape[0],X_train_shuffled.shape[1],1)\n",
    "X_test_3D_shuffled = X_test_shuffled.values.reshape(X_test_shuffled.shape[0],X_test_shuffled.shape[1],1)\n",
    "X_val_3D_shuffled = X_val_shuffled.values.reshape(X_val_shuffled.shape[0],X_val_shuffled.shape[1],1)"
   ]
  },
  {
   "cell_type": "code",
   "execution_count": 87,
   "metadata": {},
   "outputs": [
    {
     "name": "stdout",
     "output_type": "stream",
     "text": [
      "Model: \"sequential_14\"\n",
      "_________________________________________________________________\n",
      "Layer (type)                 Output Shape              Param #   \n",
      "=================================================================\n",
      "conv1d_44 (Conv1D)           (None, 13, 15)            60        \n",
      "_________________________________________________________________\n",
      "max_pooling1d_33 (MaxPooling (None, 6, 15)             0         \n",
      "_________________________________________________________________\n",
      "conv1d_45 (Conv1D)           (None, 4, 30)             1380      \n",
      "_________________________________________________________________\n",
      "max_pooling1d_34 (MaxPooling (None, 4, 30)             0         \n",
      "_________________________________________________________________\n",
      "conv1d_46 (Conv1D)           (None, 2, 60)             5460      \n",
      "_________________________________________________________________\n",
      "dropout_12 (Dropout)         (None, 2, 60)             0         \n",
      "_________________________________________________________________\n",
      "max_pooling1d_35 (MaxPooling (None, 2, 60)             0         \n",
      "_________________________________________________________________\n",
      "flatten_8 (Flatten)          (None, 120)               0         \n",
      "_________________________________________________________________\n",
      "dense_10 (Dense)             (None, 32)                3872      \n",
      "_________________________________________________________________\n",
      "dropout_13 (Dropout)         (None, 32)                0         \n",
      "_________________________________________________________________\n",
      "dense_11 (Dense)             (None, 10)                330       \n",
      "_________________________________________________________________\n",
      "dense_12 (Dense)             (None, 2)                 22        \n",
      "=================================================================\n",
      "Total params: 11,124\n",
      "Trainable params: 11,124\n",
      "Non-trainable params: 0\n",
      "_________________________________________________________________\n"
     ]
    }
   ],
   "source": [
    "model_shuffled.summary()  "
   ]
  },
  {
   "cell_type": "code",
   "execution_count": 88,
   "metadata": {},
   "outputs": [],
   "source": [
    "model_shuffled.compile(optimizer='adam',\n",
    "              loss=tf.keras.losses.SparseCategoricalCrossentropy(from_logits=True),\n",
    "              metrics=['sparse_categorical_accuracy','accuracy'])"
   ]
  },
  {
   "cell_type": "code",
   "execution_count": 89,
   "metadata": {},
   "outputs": [
    {
     "name": "stdout",
     "output_type": "stream",
     "text": [
      "Train on 119820 samples, validate on 14978 samples\n",
      "Epoch 1/10\n",
      "119820/119820 [==============================] - 19s 160us/sample - loss: 0.6785 - sparse_categorical_accuracy: 0.6347 - accuracy: 0.6347 - val_loss: 0.6924 - val_sparse_categorical_accuracy: 0.6209 - val_accuracy: 0.6209\n",
      "Epoch 2/10\n",
      "119820/119820 [==============================] - 20s 163us/sample - loss: 0.6941 - sparse_categorical_accuracy: 0.6192 - accuracy: 0.6192 - val_loss: 0.6801 - val_sparse_categorical_accuracy: 0.6332 - val_accuracy: 0.6332\n",
      "Epoch 3/10\n",
      "119820/119820 [==============================] - 19s 157us/sample - loss: 0.6256 - sparse_categorical_accuracy: 0.6877 - accuracy: 0.6877 - val_loss: 0.6148 - val_sparse_categorical_accuracy: 0.6985 - val_accuracy: 0.6985\n",
      "Epoch 4/10\n",
      "119820/119820 [==============================] - 19s 159us/sample - loss: 0.6481 - sparse_categorical_accuracy: 0.6652 - accuracy: 0.6652 - val_loss: 0.6230 - val_sparse_categorical_accuracy: 0.6903 - val_accuracy: 0.6903\n",
      "Epoch 5/10\n",
      "119820/119820 [==============================] - 19s 158us/sample - loss: 0.6367 - sparse_categorical_accuracy: 0.6765 - accuracy: 0.6765 - val_loss: 0.6130 - val_sparse_categorical_accuracy: 0.7003 - val_accuracy: 0.7003\n",
      "Epoch 6/10\n",
      "119820/119820 [==============================] - 19s 158us/sample - loss: 0.6156 - sparse_categorical_accuracy: 0.6977 - accuracy: 0.6977 - val_loss: 0.6124 - val_sparse_categorical_accuracy: 0.7008 - val_accuracy: 0.7008\n",
      "Epoch 7/10\n",
      "119820/119820 [==============================] - 19s 159us/sample - loss: 0.6233 - sparse_categorical_accuracy: 0.6899 - accuracy: 0.6899 - val_loss: 0.6242 - val_sparse_categorical_accuracy: 0.6891 - val_accuracy: 0.6891\n",
      "Epoch 8/10\n",
      "119820/119820 [==============================] - 19s 162us/sample - loss: 0.6224 - sparse_categorical_accuracy: 0.6909 - accuracy: 0.6909 - val_loss: 0.5859 - val_sparse_categorical_accuracy: 0.7274 - val_accuracy: 0.7274\n",
      "Epoch 9/10\n",
      "119820/119820 [==============================] - 19s 163us/sample - loss: 0.5874 - sparse_categorical_accuracy: 0.7259 - accuracy: 0.7259 - val_loss: 0.5843 - val_sparse_categorical_accuracy: 0.7290 - val_accuracy: 0.7290\n",
      "Epoch 10/10\n",
      "119820/119820 [==============================] - 20s 165us/sample - loss: 0.5892 - sparse_categorical_accuracy: 0.7240 - accuracy: 0.7240 - val_loss: 0.5815 - val_sparse_categorical_accuracy: 0.7318 - val_accuracy: 0.7318\n"
     ]
    }
   ],
   "source": [
    "history_shuffled = model_shuffled.fit(X_train_3D_shuffled, y_train_shuffled['binaryLabel'], epochs=10, validation_data=(X_val_3D_shuffled, y_val_shuffled['binaryLabel']),shuffle=True)"
   ]
  },
  {
   "cell_type": "code",
   "execution_count": 91,
   "metadata": {},
   "outputs": [
    {
     "name": "stdout",
     "output_type": "stream",
     "text": [
      "14978/14978 [==============================] - 1s 45us/sample - loss: 0.5776 - sparse_categorical_accuracy: 0.7356 - accuracy: 0.7356\n"
     ]
    },
    {
     "ename": "ValueError",
     "evalue": "too many values to unpack (expected 2)",
     "output_type": "error",
     "traceback": [
      "\u001b[1;31m---------------------------------------------------------------------------\u001b[0m",
      "\u001b[1;31mValueError\u001b[0m                                Traceback (most recent call last)",
      "\u001b[1;32m<ipython-input-91-b3f21ec95cd8>\u001b[0m in \u001b[0;36m<module>\u001b[1;34m\u001b[0m\n\u001b[1;32m----> 1\u001b[1;33m \u001b[0mtest_loss_shuffled\u001b[0m\u001b[1;33m,\u001b[0m \u001b[0mtest_acc_shuffled\u001b[0m \u001b[1;33m=\u001b[0m \u001b[0mmodel_shuffled\u001b[0m\u001b[1;33m.\u001b[0m\u001b[0mevaluate\u001b[0m\u001b[1;33m(\u001b[0m\u001b[0mX_test_3D_shuffled\u001b[0m\u001b[1;33m,\u001b[0m \u001b[0my_test_shuffled\u001b[0m\u001b[1;33m[\u001b[0m\u001b[1;34m'binaryLabel'\u001b[0m\u001b[1;33m]\u001b[0m\u001b[1;33m)\u001b[0m\u001b[1;33m\u001b[0m\u001b[1;33m\u001b[0m\u001b[0m\n\u001b[0m",
      "\u001b[1;31mValueError\u001b[0m: too many values to unpack (expected 2)"
     ]
    }
   ],
   "source": [
    "test_loss_shuffled, test_acc_shuffled = model_shuffled.evaluate(X_test_3D_shuffled, y_test_shuffled['binaryLabel'])"
   ]
  },
  {
   "cell_type": "code",
   "execution_count": 70,
   "metadata": {},
   "outputs": [],
   "source": [
    "model_shuffled.compile(optimizer='adam',\n",
    "              loss=tf.keras.losses.BinaryCrossentropy(from_logits=True),\n",
    "              metrics=['accuracy'])"
   ]
  },
  {
   "cell_type": "code",
   "execution_count": 71,
   "metadata": {},
   "outputs": [
    {
     "name": "stdout",
     "output_type": "stream",
     "text": [
      "Train on 119820 samples, validate on 14978 samples\n",
      "Epoch 1/10\n",
      "119820/119820 [==============================] - 20s 166us/sample - loss: 0.6696 - accuracy: 0.6673 - val_loss: 0.6773 - val_accuracy: 0.6518\n",
      "Epoch 2/10\n",
      "119820/119820 [==============================] - 19s 157us/sample - loss: 0.6593 - accuracy: 0.6878 - val_loss: 0.6567 - val_accuracy: 0.6930\n",
      "Epoch 3/10\n",
      "119820/119820 [==============================] - 19s 159us/sample - loss: 0.6560 - accuracy: 0.6945 - val_loss: 0.6537 - val_accuracy: 0.6991\n",
      "Epoch 4/10\n",
      "119820/119820 [==============================] - 19s 155us/sample - loss: 0.6590 - accuracy: 0.6884 - val_loss: 0.6609 - val_accuracy: 0.6847\n",
      "Epoch 5/10\n",
      "119820/119820 [==============================] - 18s 150us/sample - loss: 0.6532 - accuracy: 0.7000 - val_loss: 0.6500 - val_accuracy: 0.7064\n",
      "Epoch 6/10\n",
      "119820/119820 [==============================] - 19s 155us/sample - loss: 0.6506 - accuracy: 0.7053 - val_loss: 0.6501 - val_accuracy: 0.7062\n",
      "Epoch 7/10\n",
      "119820/119820 [==============================] - 18s 152us/sample - loss: 0.6457 - accuracy: 0.7151 - val_loss: 0.6470 - val_accuracy: 0.7124\n",
      "Epoch 8/10\n",
      "119820/119820 [==============================] - 19s 155us/sample - loss: 0.6465 - accuracy: 0.7135 - val_loss: 0.6436 - val_accuracy: 0.7192\n",
      "Epoch 9/10\n",
      "119820/119820 [==============================] - 19s 155us/sample - loss: 0.6428 - accuracy: 0.7209 - val_loss: 0.6438 - val_accuracy: 0.7189\n",
      "Epoch 10/10\n",
      "119820/119820 [==============================] - 19s 162us/sample - loss: 0.6431 - accuracy: 0.7202 - val_loss: 0.6428 - val_accuracy: 0.7209\n"
     ]
    }
   ],
   "source": [
    "history_shuffled = model_shuffled.fit(X_train_3D_shuffled, y_train_shuffled[['benignoLabel','ransomwareLabel']], epochs=10, validation_data=(X_val_3D_shuffled, y_val_shuffled[['benignoLabel','ransomwareLabel']]))"
   ]
  },
  {
   "cell_type": "code",
   "execution_count": 72,
   "metadata": {},
   "outputs": [
    {
     "name": "stdout",
     "output_type": "stream",
     "text": [
      "14978/14978 [==============================] - 1s 42us/sample - loss: 0.6390 - accuracy: 0.7285\n"
     ]
    }
   ],
   "source": [
    "test_loss_shuffled, test_acc_shuffled = model_shuffled.evaluate(X_test_3D_shuffled, y_test_shuffled[['benignoLabel','ransomwareLabel']])"
   ]
  },
  {
   "cell_type": "code",
   "execution_count": 92,
   "metadata": {},
   "outputs": [
    {
     "name": "stdout",
     "output_type": "stream",
     "text": [
      "PRECISIÓN 0.7284684\n",
      "LOSS 0.6389699422369208\n"
     ]
    }
   ],
   "source": [
    "print(\"PRECISIÓN\",test_acc_shuffled)\n",
    "print(\"LOSS\", test_loss_shuffled)"
   ]
  },
  {
   "cell_type": "code",
   "execution_count": 93,
   "metadata": {},
   "outputs": [],
   "source": [
    "predictions_shuffled = model_shuffled.predict(X_test_3D_shuffled)"
   ]
  },
  {
   "cell_type": "code",
   "execution_count": 94,
   "metadata": {},
   "outputs": [
    {
     "data": {
      "text/plain": [
       "array([[1., 0.],\n",
       "       [0., 1.],\n",
       "       [1., 0.],\n",
       "       ...,\n",
       "       [0., 1.],\n",
       "       [0., 1.],\n",
       "       [0., 1.]], dtype=float32)"
      ]
     },
     "execution_count": 94,
     "metadata": {},
     "output_type": "execute_result"
    }
   ],
   "source": [
    "predictions_shuffled"
   ]
  },
  {
   "cell_type": "code",
   "execution_count": 95,
   "metadata": {},
   "outputs": [],
   "source": [
    "scnn_predicted = np.argmax(predictions_shuffled, axis=1)"
   ]
  },
  {
   "cell_type": "code",
   "execution_count": 96,
   "metadata": {},
   "outputs": [
    {
     "data": {
      "text/plain": [
       "array([0, 1, 0, ..., 1, 1, 1], dtype=int64)"
      ]
     },
     "execution_count": 96,
     "metadata": {},
     "output_type": "execute_result"
    }
   ],
   "source": [
    "scnn_predicted"
   ]
  },
  {
   "cell_type": "code",
   "execution_count": 79,
   "metadata": {},
   "outputs": [],
   "source": [
    "from sklearn.metrics import confusion_matrix, classification_report  "
   ]
  },
  {
   "cell_type": "code",
   "execution_count": 98,
   "metadata": {},
   "outputs": [
    {
     "name": "stdout",
     "output_type": "stream",
     "text": [
      "              precision    recall  f1-score   support\n",
      "\n",
      "           0       0.90      0.53      0.66      7423\n",
      "           1       0.67      0.94      0.78      7555\n",
      "\n",
      "    accuracy                           0.74     14978\n",
      "   macro avg       0.78      0.73      0.72     14978\n",
      "weighted avg       0.78      0.74      0.72     14978\n",
      "\n"
     ]
    }
   ],
   "source": [
    "scnn_report = classification_report(y_test_shuffled['binaryLabel'], scnn_predicted)  \n",
    "print(scnn_report)"
   ]
  },
  {
   "cell_type": "code",
   "execution_count": 102,
   "metadata": {},
   "outputs": [],
   "source": [
    "#Creamos la matriz de confusión\n",
    "scnn_cm = confusion_matrix(y_test_shuffled['binaryLabel'], scnn_predicted)"
   ]
  },
  {
   "cell_type": "code",
   "execution_count": 103,
   "metadata": {},
   "outputs": [
    {
     "data": {
      "text/plain": [
       "array([[3904, 3519],\n",
       "       [ 441, 7114]], dtype=int64)"
      ]
     },
     "execution_count": 103,
     "metadata": {},
     "output_type": "execute_result"
    }
   ],
   "source": [
    "scnn_cm"
   ]
  },
  {
   "cell_type": "markdown",
   "metadata": {},
   "source": [
    "### ANN"
   ]
  },
  {
   "cell_type": "code",
   "execution_count": 116,
   "metadata": {},
   "outputs": [],
   "source": [
    "modelANN_shuffled = tf.keras.models.Sequential()"
   ]
  },
  {
   "cell_type": "code",
   "execution_count": 117,
   "metadata": {},
   "outputs": [],
   "source": [
    "modelANN_shuffled.add(tf.keras.layers.Dense(units = 15, activation = 'relu', input_shape = (X_train_shuffled.shape[1],)))\n",
    "modelANN_shuffled.add(tf.keras.layers.Dropout(0.2))\n",
    "modelANN_shuffled.add(tf.keras.layers.Dense(units = 30, activation = 'relu'))\n",
    "modelANN_shuffled.add(tf.keras.layers.Dense(units = 64, activation = 'relu'))\n",
    "modelANN_shuffled.add(tf.keras.layers.Dropout(0.2))\n",
    "modelANN_shuffled.add(tf.keras.layers.Dense(units = 32, activation = 'relu'))\n",
    "modelANN_shuffled.add(tf.keras.layers.Dense(units = 16, activation = 'relu'))\n",
    "modelANN_shuffled.add(tf.keras.layers.Dropout(0.2))\n",
    "modelANN_shuffled.add(tf.keras.layers.Dense(units = 8, activation = 'relu'))\n",
    "modelANN_shuffled.add(tf.keras.layers.Dense(units = 2, activation = 'softmax'))"
   ]
  },
  {
   "cell_type": "code",
   "execution_count": 118,
   "metadata": {},
   "outputs": [
    {
     "name": "stdout",
     "output_type": "stream",
     "text": [
      "Model: \"sequential_4\"\n",
      "_________________________________________________________________\n",
      "Layer (type)                 Output Shape              Param #   \n",
      "=================================================================\n",
      "dense_16 (Dense)             (None, 15)                240       \n",
      "_________________________________________________________________\n",
      "dropout_6 (Dropout)          (None, 15)                0         \n",
      "_________________________________________________________________\n",
      "dense_17 (Dense)             (None, 30)                480       \n",
      "_________________________________________________________________\n",
      "dense_18 (Dense)             (None, 64)                1984      \n",
      "_________________________________________________________________\n",
      "dropout_7 (Dropout)          (None, 64)                0         \n",
      "_________________________________________________________________\n",
      "dense_19 (Dense)             (None, 32)                2080      \n",
      "_________________________________________________________________\n",
      "dense_20 (Dense)             (None, 16)                528       \n",
      "_________________________________________________________________\n",
      "dropout_8 (Dropout)          (None, 16)                0         \n",
      "_________________________________________________________________\n",
      "dense_21 (Dense)             (None, 8)                 136       \n",
      "_________________________________________________________________\n",
      "dense_22 (Dense)             (None, 2)                 18        \n",
      "=================================================================\n",
      "Total params: 5,466\n",
      "Trainable params: 5,466\n",
      "Non-trainable params: 0\n",
      "_________________________________________________________________\n"
     ]
    }
   ],
   "source": [
    "modelANN_shuffled.summary()"
   ]
  },
  {
   "cell_type": "code",
   "execution_count": 110,
   "metadata": {},
   "outputs": [],
   "source": [
    "modelANN_shuffled.compile(optimizer = 'adam', loss = 'sparse_categorical_crossentropy', metrics = ['sparse_categorical_accuracy'])"
   ]
  },
  {
   "cell_type": "code",
   "execution_count": 112,
   "metadata": {},
   "outputs": [
    {
     "name": "stdout",
     "output_type": "stream",
     "text": [
      "Train on 104842 samples, validate on 14978 samples\n",
      "Epoch 1/10\n",
      "104842/104842 [==============================] - 6s 58us/sample - loss: 7290.2656 - sparse_categorical_accuracy: 0.5013 - val_loss: 0.6931 - val_sparse_categorical_accuracy: 0.4996\n",
      "Epoch 2/10\n",
      "104842/104842 [==============================] - 5s 50us/sample - loss: 21.3083 - sparse_categorical_accuracy: 0.5002 - val_loss: 0.6932 - val_sparse_categorical_accuracy: 0.4996\n",
      "Epoch 3/10\n",
      "104842/104842 [==============================] - 5s 50us/sample - loss: 4.9463 - sparse_categorical_accuracy: 0.5002 - val_loss: 0.6933 - val_sparse_categorical_accuracy: 0.5004\n",
      "Epoch 4/10\n",
      "104842/104842 [==============================] - 5s 49us/sample - loss: 5.4013 - sparse_categorical_accuracy: 0.5008 - val_loss: 0.6933 - val_sparse_categorical_accuracy: 0.5004\n",
      "Epoch 5/10\n",
      "104842/104842 [==============================] - 5s 51us/sample - loss: 2.6536 - sparse_categorical_accuracy: 0.5025 - val_loss: 0.6931 - val_sparse_categorical_accuracy: 0.4996\n",
      "Epoch 6/10\n",
      "104842/104842 [==============================] - 5s 50us/sample - loss: 0.9234 - sparse_categorical_accuracy: 0.4991 - val_loss: 0.6932 - val_sparse_categorical_accuracy: 0.5004\n",
      "Epoch 7/10\n",
      "104842/104842 [==============================] - 5s 49us/sample - loss: 0.6932 - sparse_categorical_accuracy: 0.4990 - val_loss: 0.6932 - val_sparse_categorical_accuracy: 0.4996\n",
      "Epoch 8/10\n",
      "104842/104842 [==============================] - 5s 51us/sample - loss: 0.7161 - sparse_categorical_accuracy: 0.5005 - val_loss: 0.6932 - val_sparse_categorical_accuracy: 0.5004\n",
      "Epoch 9/10\n",
      "104842/104842 [==============================] - 5s 50us/sample - loss: 0.6932 - sparse_categorical_accuracy: 0.5010 - val_loss: 0.6932 - val_sparse_categorical_accuracy: 0.5004\n",
      "Epoch 10/10\n",
      "104842/104842 [==============================] - 5s 51us/sample - loss: 0.6932 - sparse_categorical_accuracy: 0.5013 - val_loss: 0.6932 - val_sparse_categorical_accuracy: 0.4996\n"
     ]
    }
   ],
   "source": [
    "historyANN_shuffled = modelANN_shuffled.fit(X_train_shuffled, y_train_shuffled['binaryLabel'], epochs =10,validation_data=(X_val_shuffled, y_val_shuffled['binaryLabel']))"
   ]
  },
  {
   "cell_type": "code",
   "execution_count": 119,
   "metadata": {},
   "outputs": [],
   "source": [
    "modelANN_shuffled.compile(optimizer = 'adam', loss = 'binary_crossentropy', metrics = ['accuracy'])"
   ]
  },
  {
   "cell_type": "code",
   "execution_count": 124,
   "metadata": {},
   "outputs": [
    {
     "name": "stdout",
     "output_type": "stream",
     "text": [
      "Train on 104842 samples, validate on 14978 samples\n",
      "Epoch 1/10\n",
      "104842/104842 [==============================] - 6s 60us/sample - loss: 6.8535 - accuracy: 0.5454 - val_loss: 6.8306 - val_accuracy: 0.5504\n",
      "Epoch 2/10\n",
      "104842/104842 [==============================] - 6s 53us/sample - loss: 5.2604 - accuracy: 0.5695 - val_loss: 0.6064 - val_accuracy: 0.6126\n",
      "Epoch 3/10\n",
      "104842/104842 [==============================] - 6s 56us/sample - loss: 2.9481 - accuracy: 0.5952 - val_loss: 0.6063 - val_accuracy: 0.6144\n",
      "Epoch 4/10\n",
      "104842/104842 [==============================] - 6s 56us/sample - loss: 2.8229 - accuracy: 0.6019 - val_loss: 0.6054 - val_accuracy: 0.6121\n",
      "Epoch 5/10\n",
      "104842/104842 [==============================] - 7s 62us/sample - loss: 1.8006 - accuracy: 0.6181 - val_loss: 0.5975 - val_accuracy: 0.6350\n",
      "Epoch 6/10\n",
      "104842/104842 [==============================] - 6s 56us/sample - loss: 1.2756 - accuracy: 0.6184 - val_loss: 0.5933 - val_accuracy: 0.6379\n",
      "Epoch 7/10\n",
      "104842/104842 [==============================] - 6s 57us/sample - loss: 1.2654 - accuracy: 0.6291 - val_loss: 0.5950 - val_accuracy: 0.6379\n",
      "Epoch 8/10\n",
      "104842/104842 [==============================] - 6s 56us/sample - loss: 1.3496 - accuracy: 0.6326 - val_loss: 0.5930 - val_accuracy: 0.6480\n",
      "Epoch 9/10\n",
      "104842/104842 [==============================] - 6s 58us/sample - loss: 1.2337 - accuracy: 0.6363 - val_loss: 0.5921 - val_accuracy: 0.6484\n",
      "Epoch 10/10\n",
      "104842/104842 [==============================] - 7s 69us/sample - loss: 1.0979 - accuracy: 0.6387 - val_loss: 0.5917 - val_accuracy: 0.6499\n"
     ]
    }
   ],
   "source": [
    "historyANN_shuffled = modelANN_shuffled.fit(X_train_shuffled, y_train_shuffled[['benignoLabel','ransomwareLabel']], epochs =10,validation_data=(X_val_shuffled, y_val_shuffled[['benignoLabel','ransomwareLabel']]))"
   ]
  },
  {
   "cell_type": "code",
   "execution_count": 113,
   "metadata": {},
   "outputs": [
    {
     "name": "stdout",
     "output_type": "stream",
     "text": [
      "29956/29956 [==============================] - 1s 17us/sample - loss: 0.6931 - sparse_categorical_accuracy: 0.5013\n"
     ]
    }
   ],
   "source": [
    "test_lossANN_shuffled, test_accuracyANN_shuffled = modelANN_shuffled.evaluate(X_test_shuffled, y_test_shuffled['binaryLabel'])"
   ]
  },
  {
   "cell_type": "code",
   "execution_count": 114,
   "metadata": {},
   "outputs": [],
   "source": [
    "predictionsANN_shuffled = modelANN_shuffled.predict(X_test_shuffled)"
   ]
  },
  {
   "cell_type": "code",
   "execution_count": 115,
   "metadata": {},
   "outputs": [
    {
     "data": {
      "text/plain": [
       "array([[0.49843195, 0.501568  ],\n",
       "       [0.49843195, 0.501568  ],\n",
       "       [0.49843195, 0.501568  ],\n",
       "       ...,\n",
       "       [0.49843195, 0.501568  ],\n",
       "       [0.49843195, 0.501568  ],\n",
       "       [0.49843195, 0.501568  ]], dtype=float32)"
      ]
     },
     "execution_count": 115,
     "metadata": {},
     "output_type": "execute_result"
    }
   ],
   "source": [
    "predictionsANN_shuffled"
   ]
  },
  {
   "cell_type": "code",
   "execution_count": null,
   "metadata": {},
   "outputs": [],
   "source": [
    "### mejorar modelos en base a las dimensiones de los mismos"
   ]
  }
 ],
 "metadata": {
  "kernelspec": {
   "display_name": "Python 3",
   "language": "python",
   "name": "python3"
  },
  "language_info": {
   "codemirror_mode": {
    "name": "ipython",
    "version": 3
   },
   "file_extension": ".py",
   "mimetype": "text/x-python",
   "name": "python",
   "nbconvert_exporter": "python",
   "pygments_lexer": "ipython3",
   "version": "3.7.4"
  }
 },
 "nbformat": 4,
 "nbformat_minor": 2
}
